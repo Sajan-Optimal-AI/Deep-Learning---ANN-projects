{
 "cells": [
  {
   "cell_type": "code",
   "execution_count": 171,
   "metadata": {
    "id": "o5xNfbwtE879"
   },
   "outputs": [],
   "source": [
    "import numpy\n",
    "import numpy as np\n",
    "import pandas as pd\n",
    "from keras.models import Sequential\n",
    "from keras.layers import Dense\n",
    "from keras.wrappers.scikit_learn import KerasRegressor\n",
    "from sklearn.model_selection import cross_val_score\n",
    "from sklearn.model_selection import KFold\n",
    "from keras.optimizers import Adam\n",
    "from keras.optimizers import SGD\n",
    "from sklearn.metrics import r2_score"
   ]
  },
  {
   "cell_type": "code",
   "execution_count": 122,
   "metadata": {
    "colab": {
     "base_uri": "https://localhost:8080/",
     "height": 195
    },
    "id": "2VQN-vcjE9Hy",
    "outputId": "e44931c3-48e7-4e32-8a9d-3f56fa3095f4"
   },
   "outputs": [
    {
     "data": {
      "text/html": [
       "<div>\n",
       "<style scoped>\n",
       "    .dataframe tbody tr th:only-of-type {\n",
       "        vertical-align: middle;\n",
       "    }\n",
       "\n",
       "    .dataframe tbody tr th {\n",
       "        vertical-align: top;\n",
       "    }\n",
       "\n",
       "    .dataframe thead th {\n",
       "        text-align: right;\n",
       "    }\n",
       "</style>\n",
       "<table border=\"1\" class=\"dataframe\">\n",
       "  <thead>\n",
       "    <tr style=\"text-align: right;\">\n",
       "      <th></th>\n",
       "      <th>T</th>\n",
       "      <th>TM</th>\n",
       "      <th>Tm</th>\n",
       "      <th>SLP</th>\n",
       "      <th>H</th>\n",
       "      <th>VV</th>\n",
       "      <th>V</th>\n",
       "      <th>VM</th>\n",
       "      <th>PM 2.5</th>\n",
       "    </tr>\n",
       "  </thead>\n",
       "  <tbody>\n",
       "    <tr>\n",
       "      <th>0</th>\n",
       "      <td>7.4</td>\n",
       "      <td>9.8</td>\n",
       "      <td>4.8</td>\n",
       "      <td>1017.6</td>\n",
       "      <td>93.0</td>\n",
       "      <td>0.5</td>\n",
       "      <td>4.3</td>\n",
       "      <td>9.4</td>\n",
       "      <td>219.720833</td>\n",
       "    </tr>\n",
       "    <tr>\n",
       "      <th>1</th>\n",
       "      <td>7.8</td>\n",
       "      <td>12.7</td>\n",
       "      <td>4.4</td>\n",
       "      <td>1018.5</td>\n",
       "      <td>87.0</td>\n",
       "      <td>0.6</td>\n",
       "      <td>4.4</td>\n",
       "      <td>11.1</td>\n",
       "      <td>182.187500</td>\n",
       "    </tr>\n",
       "    <tr>\n",
       "      <th>2</th>\n",
       "      <td>6.7</td>\n",
       "      <td>13.4</td>\n",
       "      <td>2.4</td>\n",
       "      <td>1019.4</td>\n",
       "      <td>82.0</td>\n",
       "      <td>0.6</td>\n",
       "      <td>4.8</td>\n",
       "      <td>11.1</td>\n",
       "      <td>154.037500</td>\n",
       "    </tr>\n",
       "    <tr>\n",
       "      <th>3</th>\n",
       "      <td>8.6</td>\n",
       "      <td>15.5</td>\n",
       "      <td>3.3</td>\n",
       "      <td>1018.7</td>\n",
       "      <td>72.0</td>\n",
       "      <td>0.8</td>\n",
       "      <td>8.1</td>\n",
       "      <td>20.6</td>\n",
       "      <td>223.208333</td>\n",
       "    </tr>\n",
       "    <tr>\n",
       "      <th>4</th>\n",
       "      <td>12.4</td>\n",
       "      <td>20.9</td>\n",
       "      <td>4.4</td>\n",
       "      <td>1017.3</td>\n",
       "      <td>61.0</td>\n",
       "      <td>1.3</td>\n",
       "      <td>8.7</td>\n",
       "      <td>22.2</td>\n",
       "      <td>200.645833</td>\n",
       "    </tr>\n",
       "  </tbody>\n",
       "</table>\n",
       "</div>"
      ],
      "text/plain": [
       "      T    TM   Tm     SLP     H   VV    V    VM      PM 2.5\n",
       "0   7.4   9.8  4.8  1017.6  93.0  0.5  4.3   9.4  219.720833\n",
       "1   7.8  12.7  4.4  1018.5  87.0  0.6  4.4  11.1  182.187500\n",
       "2   6.7  13.4  2.4  1019.4  82.0  0.6  4.8  11.1  154.037500\n",
       "3   8.6  15.5  3.3  1018.7  72.0  0.8  8.1  20.6  223.208333\n",
       "4  12.4  20.9  4.4  1017.3  61.0  1.3  8.7  22.2  200.645833"
      ]
     },
     "execution_count": 122,
     "metadata": {},
     "output_type": "execute_result"
    }
   ],
   "source": [
    "Data = pd.read_csv('Real_Combine.csv')\n",
    "Data.head()"
   ]
  },
  {
   "cell_type": "code",
   "execution_count": 123,
   "metadata": {
    "scrolled": true
   },
   "outputs": [
    {
     "data": {
      "text/html": [
       "<div>\n",
       "<style scoped>\n",
       "    .dataframe tbody tr th:only-of-type {\n",
       "        vertical-align: middle;\n",
       "    }\n",
       "\n",
       "    .dataframe tbody tr th {\n",
       "        vertical-align: top;\n",
       "    }\n",
       "\n",
       "    .dataframe thead th {\n",
       "        text-align: right;\n",
       "    }\n",
       "</style>\n",
       "<table border=\"1\" class=\"dataframe\">\n",
       "  <thead>\n",
       "    <tr style=\"text-align: right;\">\n",
       "      <th></th>\n",
       "      <th>T</th>\n",
       "      <th>TM</th>\n",
       "      <th>Tm</th>\n",
       "      <th>SLP</th>\n",
       "      <th>H</th>\n",
       "      <th>VV</th>\n",
       "      <th>V</th>\n",
       "      <th>VM</th>\n",
       "      <th>PM 2.5</th>\n",
       "    </tr>\n",
       "  </thead>\n",
       "  <tbody>\n",
       "    <tr>\n",
       "      <th>count</th>\n",
       "      <td>1093.000000</td>\n",
       "      <td>1093.000000</td>\n",
       "      <td>1093.000000</td>\n",
       "      <td>1093.000000</td>\n",
       "      <td>1093.000000</td>\n",
       "      <td>1093.000000</td>\n",
       "      <td>1093.000000</td>\n",
       "      <td>1093.000000</td>\n",
       "      <td>1092.000000</td>\n",
       "    </tr>\n",
       "    <tr>\n",
       "      <th>mean</th>\n",
       "      <td>26.009241</td>\n",
       "      <td>32.482251</td>\n",
       "      <td>19.460201</td>\n",
       "      <td>1008.081885</td>\n",
       "      <td>62.918573</td>\n",
       "      <td>2.003111</td>\n",
       "      <td>6.751510</td>\n",
       "      <td>15.805124</td>\n",
       "      <td>109.090984</td>\n",
       "    </tr>\n",
       "    <tr>\n",
       "      <th>std</th>\n",
       "      <td>7.237401</td>\n",
       "      <td>6.679078</td>\n",
       "      <td>7.438653</td>\n",
       "      <td>7.529237</td>\n",
       "      <td>15.709816</td>\n",
       "      <td>0.747541</td>\n",
       "      <td>3.841137</td>\n",
       "      <td>7.308435</td>\n",
       "      <td>84.465790</td>\n",
       "    </tr>\n",
       "    <tr>\n",
       "      <th>min</th>\n",
       "      <td>6.700000</td>\n",
       "      <td>9.800000</td>\n",
       "      <td>0.000000</td>\n",
       "      <td>991.500000</td>\n",
       "      <td>20.000000</td>\n",
       "      <td>0.300000</td>\n",
       "      <td>0.400000</td>\n",
       "      <td>1.900000</td>\n",
       "      <td>0.000000</td>\n",
       "    </tr>\n",
       "    <tr>\n",
       "      <th>25%</th>\n",
       "      <td>19.300000</td>\n",
       "      <td>27.800000</td>\n",
       "      <td>12.100000</td>\n",
       "      <td>1001.100000</td>\n",
       "      <td>54.000000</td>\n",
       "      <td>1.600000</td>\n",
       "      <td>3.700000</td>\n",
       "      <td>11.100000</td>\n",
       "      <td>41.833333</td>\n",
       "    </tr>\n",
       "    <tr>\n",
       "      <th>50%</th>\n",
       "      <td>28.200000</td>\n",
       "      <td>34.200000</td>\n",
       "      <td>21.200000</td>\n",
       "      <td>1008.100000</td>\n",
       "      <td>64.000000</td>\n",
       "      <td>1.900000</td>\n",
       "      <td>6.500000</td>\n",
       "      <td>14.800000</td>\n",
       "      <td>83.458333</td>\n",
       "    </tr>\n",
       "    <tr>\n",
       "      <th>75%</th>\n",
       "      <td>31.700000</td>\n",
       "      <td>37.000000</td>\n",
       "      <td>26.000000</td>\n",
       "      <td>1015.000000</td>\n",
       "      <td>74.000000</td>\n",
       "      <td>2.600000</td>\n",
       "      <td>9.100000</td>\n",
       "      <td>18.300000</td>\n",
       "      <td>158.291667</td>\n",
       "    </tr>\n",
       "    <tr>\n",
       "      <th>max</th>\n",
       "      <td>38.500000</td>\n",
       "      <td>45.500000</td>\n",
       "      <td>32.700000</td>\n",
       "      <td>1023.200000</td>\n",
       "      <td>98.000000</td>\n",
       "      <td>5.800000</td>\n",
       "      <td>24.400000</td>\n",
       "      <td>57.600000</td>\n",
       "      <td>404.500000</td>\n",
       "    </tr>\n",
       "  </tbody>\n",
       "</table>\n",
       "</div>"
      ],
      "text/plain": [
       "                 T           TM           Tm          SLP            H  \\\n",
       "count  1093.000000  1093.000000  1093.000000  1093.000000  1093.000000   \n",
       "mean     26.009241    32.482251    19.460201  1008.081885    62.918573   \n",
       "std       7.237401     6.679078     7.438653     7.529237    15.709816   \n",
       "min       6.700000     9.800000     0.000000   991.500000    20.000000   \n",
       "25%      19.300000    27.800000    12.100000  1001.100000    54.000000   \n",
       "50%      28.200000    34.200000    21.200000  1008.100000    64.000000   \n",
       "75%      31.700000    37.000000    26.000000  1015.000000    74.000000   \n",
       "max      38.500000    45.500000    32.700000  1023.200000    98.000000   \n",
       "\n",
       "                VV            V           VM       PM 2.5  \n",
       "count  1093.000000  1093.000000  1093.000000  1092.000000  \n",
       "mean      2.003111     6.751510    15.805124   109.090984  \n",
       "std       0.747541     3.841137     7.308435    84.465790  \n",
       "min       0.300000     0.400000     1.900000     0.000000  \n",
       "25%       1.600000     3.700000    11.100000    41.833333  \n",
       "50%       1.900000     6.500000    14.800000    83.458333  \n",
       "75%       2.600000     9.100000    18.300000   158.291667  \n",
       "max       5.800000    24.400000    57.600000   404.500000  "
      ]
     },
     "execution_count": 123,
     "metadata": {},
     "output_type": "execute_result"
    }
   ],
   "source": [
    "Data.describe()"
   ]
  },
  {
   "cell_type": "code",
   "execution_count": 124,
   "metadata": {
    "colab": {
     "base_uri": "https://localhost:8080/"
    },
    "id": "YppZvYdBE9Li",
    "outputId": "b2f0d26b-e4d4-4b91-9607-4af1d2705f4f"
   },
   "outputs": [
    {
     "data": {
      "text/plain": [
       "T         False\n",
       "TM        False\n",
       "Tm        False\n",
       "SLP       False\n",
       "H         False\n",
       "VV        False\n",
       "V         False\n",
       "VM        False\n",
       "PM 2.5    False\n",
       "dtype: bool"
      ]
     },
     "execution_count": 124,
     "metadata": {},
     "output_type": "execute_result"
    }
   ],
   "source": [
    "Data[\"PM 2.5\"]=Data[\"PM 2.5\"].fillna(Data[\"PM 2.5\"].mean())\n",
    "Data.isnull().any() "
   ]
  },
  {
   "cell_type": "code",
   "execution_count": 125,
   "metadata": {
    "id": "ItBMomyOE9O0"
   },
   "outputs": [],
   "source": [
    "DataFrame = Data.values\n",
    "X = DataFrame[:,0:8]\n",
    "y = DataFrame[:,8:9]"
   ]
  },
  {
   "cell_type": "code",
   "execution_count": 126,
   "metadata": {},
   "outputs": [],
   "source": [
    "from sklearn.model_selection import train_test_split\n",
    "X_train,X_test,y_train,y_test = train_test_split(X,y,test_size = 0.2,random_state=42)"
   ]
  },
  {
   "cell_type": "code",
   "execution_count": 127,
   "metadata": {
    "id": "_Oc8dTP_E9Sh"
   },
   "outputs": [],
   "source": [
    "from sklearn.preprocessing import StandardScaler\n",
    "scaler=StandardScaler()\n",
    "scaler.fit(X_train)\n",
    "X_train_scaled = scaler.transform(X_train)\n",
    "X_test_scaled = scaler.transform(X_test)"
   ]
  },
  {
   "cell_type": "code",
   "execution_count": 138,
   "metadata": {
    "id": "Mun7x37tE9b4"
   },
   "outputs": [
    {
     "name": "stdout",
     "output_type": "stream",
     "text": [
      "Model: \"sequential_1\"\n",
      "_________________________________________________________________\n",
      "Layer (type)                 Output Shape              Param #   \n",
      "=================================================================\n",
      "dense_3 (Dense)              (None, 128)               1152      \n",
      "_________________________________________________________________\n",
      "dense_4 (Dense)              (None, 64)                8256      \n",
      "_________________________________________________________________\n",
      "dense_5 (Dense)              (None, 1)                 65        \n",
      "=================================================================\n",
      "Total params: 9,473\n",
      "Trainable params: 9,473\n",
      "Non-trainable params: 0\n",
      "_________________________________________________________________\n"
     ]
    }
   ],
   "source": [
    "model1 = Sequential()\n",
    "model1.add(Dense(units=128,kernel_initializer='he_normal',activation='relu',input_dim=8))\n",
    "model1.add(Dense(units=64,kernel_initializer='he_normal',activation='relu'))\n",
    "model1.add(Dense(units=1,kernel_initializer='glorot_normal',activation='linear'))\n",
    "model1.compile(optimizer='adam',loss='mean_squared_error',metrics=['mean_squared_error'])\n",
    "model1.summary()"
   ]
  },
  {
   "cell_type": "code",
   "execution_count": 140,
   "metadata": {
    "id": "B7QM8oR_E9fC"
   },
   "outputs": [
    {
     "name": "stdout",
     "output_type": "stream",
     "text": [
      "Epoch 1/100\n",
      "22/22 [==============================] - ETA: 0s - loss: 17299.8984 - mean_squared_error: 17299.89 - ETA: 1s - loss: 18322.4629 - mean_squared_error: 18322.46 - ETA: 1s - loss: 17425.9688 - mean_squared_error: 17425.96 - ETA: 0s - loss: 17577.0488 - mean_squared_error: 17577.04 - ETA: 0s - loss: 16943.3066 - mean_squared_error: 16943.30 - 2s 76ms/step - loss: 16943.3066 - mean_squared_error: 16943.3066 - val_loss: 21386.6934 - val_mean_squared_error: 21386.6934\n",
      "Epoch 2/100\n",
      "22/22 [==============================] - ETA: 0s - loss: 18976.4766 - mean_squared_error: 18976.47 - ETA: 0s - loss: 14680.5420 - mean_squared_error: 14680.54 - 0s 7ms/step - loss: 14666.0332 - mean_squared_error: 14666.0332 - val_loss: 18061.0820 - val_mean_squared_error: 18061.0820\n",
      "Epoch 3/100\n",
      "22/22 [==============================] - ETA: 0s - loss: 16578.9219 - mean_squared_error: 16578.92 - ETA: 0s - loss: 11595.3750 - mean_squared_error: 11595.37 - 0s 10ms/step - loss: 11478.0957 - mean_squared_error: 11478.0957 - val_loss: 13725.2812 - val_mean_squared_error: 13725.2812\n",
      "Epoch 4/100\n",
      "22/22 [==============================] - ETA: 0s - loss: 8452.0039 - mean_squared_error: 8452.00 - ETA: 0s - loss: 8454.1094 - mean_squared_error: 8454.10 - 0s 6ms/step - loss: 8094.7988 - mean_squared_error: 8094.7988 - val_loss: 9200.3203 - val_mean_squared_error: 9200.3203\n",
      "Epoch 5/100\n",
      "22/22 [==============================] - ETA: 0s - loss: 8822.4766 - mean_squared_error: 8822.47 - ETA: 0s - loss: 5495.9136 - mean_squared_error: 5495.91 - 0s 4ms/step - loss: 5495.9136 - mean_squared_error: 5495.9136 - val_loss: 6260.2280 - val_mean_squared_error: 6260.2280\n",
      "Epoch 6/100\n",
      "22/22 [==============================] - ETA: 0s - loss: 4725.3237 - mean_squared_error: 4725.32 - ETA: 0s - loss: 4158.1909 - mean_squared_error: 4158.19 - 0s 8ms/step - loss: 4365.1665 - mean_squared_error: 4365.1665 - val_loss: 5142.9165 - val_mean_squared_error: 5142.9165\n",
      "Epoch 7/100\n",
      "22/22 [==============================] - ETA: 0s - loss: 6231.4521 - mean_squared_error: 6231.45 - ETA: 0s - loss: 3977.8066 - mean_squared_error: 3977.80 - 0s 4ms/step - loss: 4151.2764 - mean_squared_error: 4151.2764 - val_loss: 4773.0181 - val_mean_squared_error: 4773.0181\n",
      "Epoch 8/100\n",
      "22/22 [==============================] - ETA: 0s - loss: 4294.4463 - mean_squared_error: 4294.44 - ETA: 0s - loss: 3677.7502 - mean_squared_error: 3677.75 - ETA: 0s - loss: 4001.6030 - mean_squared_error: 4001.60 - 0s 7ms/step - loss: 4001.6030 - mean_squared_error: 4001.6030 - val_loss: 4765.0605 - val_mean_squared_error: 4765.0605\n",
      "Epoch 9/100\n",
      "22/22 [==============================] - ETA: 0s - loss: 3389.2495 - mean_squared_error: 3389.24 - ETA: 0s - loss: 3833.8291 - mean_squared_error: 3833.82 - 0s 7ms/step - loss: 3882.9170 - mean_squared_error: 3882.9170 - val_loss: 4658.6416 - val_mean_squared_error: 4658.6416\n",
      "Epoch 10/100\n",
      "22/22 [==============================] - ETA: 0s - loss: 4752.5195 - mean_squared_error: 4752.51 - ETA: 0s - loss: 3742.6946 - mean_squared_error: 3742.69 - 0s 4ms/step - loss: 3770.5483 - mean_squared_error: 3770.5483 - val_loss: 4473.1870 - val_mean_squared_error: 4473.1870\n",
      "Epoch 11/100\n",
      "22/22 [==============================] - ETA: 0s - loss: 2534.3005 - mean_squared_error: 2534.30 - 0s 3ms/step - loss: 3686.9246 - mean_squared_error: 3686.9246 - val_loss: 4358.7856 - val_mean_squared_error: 4358.7856\n",
      "Epoch 12/100\n",
      "22/22 [==============================] - ETA: 0s - loss: 2887.2122 - mean_squared_error: 2887.21 - ETA: 0s - loss: 3589.8137 - mean_squared_error: 3589.81 - 0s 6ms/step - loss: 3589.8137 - mean_squared_error: 3589.8137 - val_loss: 4358.6025 - val_mean_squared_error: 4358.6025\n",
      "Epoch 13/100\n",
      "22/22 [==============================] - ETA: 0s - loss: 3281.9297 - mean_squared_error: 3281.92 - ETA: 0s - loss: 3466.1123 - mean_squared_error: 3466.11 - 0s 5ms/step - loss: 3532.4094 - mean_squared_error: 3532.4094 - val_loss: 4191.2559 - val_mean_squared_error: 4191.2559\n",
      "Epoch 14/100\n",
      "22/22 [==============================] - ETA: 0s - loss: 3517.2695 - mean_squared_error: 3517.26 - ETA: 0s - loss: 3477.4478 - mean_squared_error: 3477.44 - 0s 6ms/step - loss: 3458.1155 - mean_squared_error: 3458.1155 - val_loss: 4192.6064 - val_mean_squared_error: 4192.6064\n",
      "Epoch 15/100\n",
      "22/22 [==============================] - ETA: 0s - loss: 1741.5454 - mean_squared_error: 1741.54 - ETA: 0s - loss: 3505.2363 - mean_squared_error: 3505.23 - 0s 6ms/step - loss: 3388.1438 - mean_squared_error: 3388.1438 - val_loss: 4082.1143 - val_mean_squared_error: 4082.1143\n",
      "Epoch 16/100\n",
      "22/22 [==============================] - ETA: 0s - loss: 2304.8674 - mean_squared_error: 2304.86 - ETA: 0s - loss: 3308.3362 - mean_squared_error: 3308.33 - 0s 4ms/step - loss: 3336.4856 - mean_squared_error: 3336.4856 - val_loss: 4061.7439 - val_mean_squared_error: 4061.7439\n",
      "Epoch 17/100\n",
      "22/22 [==============================] - ETA: 0s - loss: 2586.3604 - mean_squared_error: 2586.36 - ETA: 0s - loss: 3072.7166 - mean_squared_error: 3072.71 - 0s 6ms/step - loss: 3282.3513 - mean_squared_error: 3282.3513 - val_loss: 3951.3679 - val_mean_squared_error: 3951.3679\n",
      "Epoch 18/100\n",
      "22/22 [==============================] - ETA: 0s - loss: 3815.8594 - mean_squared_error: 3815.85 - ETA: 0s - loss: 3234.1033 - mean_squared_error: 3234.10 - 0s 5ms/step - loss: 3234.1033 - mean_squared_error: 3234.1033 - val_loss: 3952.6479 - val_mean_squared_error: 3952.6479\n",
      "Epoch 19/100\n",
      "22/22 [==============================] - ETA: 0s - loss: 4596.1338 - mean_squared_error: 4596.13 - ETA: 0s - loss: 3468.1697 - mean_squared_error: 3468.16 - 0s 6ms/step - loss: 3181.6531 - mean_squared_error: 3181.6531 - val_loss: 3917.9419 - val_mean_squared_error: 3917.9419\n",
      "Epoch 20/100\n",
      "22/22 [==============================] - ETA: 0s - loss: 2640.5203 - mean_squared_error: 2640.52 - ETA: 0s - loss: 3184.5100 - mean_squared_error: 3184.51 - 0s 4ms/step - loss: 3156.1262 - mean_squared_error: 3156.1262 - val_loss: 3822.9668 - val_mean_squared_error: 3822.9668\n",
      "Epoch 21/100\n",
      "22/22 [==============================] - ETA: 0s - loss: 1429.9091 - mean_squared_error: 1429.90 - 0s 4ms/step - loss: 3094.9622 - mean_squared_error: 3094.9622 - val_loss: 3827.1289 - val_mean_squared_error: 3827.1289\n",
      "Epoch 22/100\n",
      "22/22 [==============================] - ETA: 0s - loss: 3680.2107 - mean_squared_error: 3680.21 - ETA: 0s - loss: 3090.6479 - mean_squared_error: 3090.64 - 0s 4ms/step - loss: 3057.8477 - mean_squared_error: 3057.8477 - val_loss: 3746.5979 - val_mean_squared_error: 3746.5979\n",
      "Epoch 23/100\n",
      "22/22 [==============================] - ETA: 0s - loss: 4675.0962 - mean_squared_error: 4675.09 - 0s 5ms/step - loss: 3012.7446 - mean_squared_error: 3012.7446 - val_loss: 3730.7004 - val_mean_squared_error: 3730.7004\n",
      "Epoch 24/100\n",
      "22/22 [==============================] - ETA: 0s - loss: 1834.7905 - mean_squared_error: 1834.79 - 0s 4ms/step - loss: 2973.7781 - mean_squared_error: 2973.7781 - val_loss: 3696.4326 - val_mean_squared_error: 3696.4326\n",
      "Epoch 25/100\n",
      "22/22 [==============================] - ETA: 0s - loss: 3352.5864 - mean_squared_error: 3352.58 - 0s 4ms/step - loss: 2942.4460 - mean_squared_error: 2942.4460 - val_loss: 3636.0269 - val_mean_squared_error: 3636.0269\n",
      "Epoch 26/100\n",
      "22/22 [==============================] - ETA: 0s - loss: 968.3018 - mean_squared_error: 968.30 - ETA: 0s - loss: 2907.8699 - mean_squared_error: 2907.86 - 0s 4ms/step - loss: 2907.8699 - mean_squared_error: 2907.8699 - val_loss: 3645.2275 - val_mean_squared_error: 3645.2275\n",
      "Epoch 27/100\n",
      "22/22 [==============================] - ETA: 0s - loss: 1550.4755 - mean_squared_error: 1550.47 - ETA: 0s - loss: 2866.6360 - mean_squared_error: 2866.63 - 0s 4ms/step - loss: 2866.6360 - mean_squared_error: 2866.6360 - val_loss: 3572.8857 - val_mean_squared_error: 3572.8857\n",
      "Epoch 28/100\n",
      "22/22 [==============================] - ETA: 0s - loss: 2928.0183 - mean_squared_error: 2928.01 - ETA: 0s - loss: 2825.2397 - mean_squared_error: 2825.23 - 0s 5ms/step - loss: 2829.1541 - mean_squared_error: 2829.1541 - val_loss: 3602.8674 - val_mean_squared_error: 3602.8674\n",
      "Epoch 29/100\n",
      "22/22 [==============================] - ETA: 0s - loss: 978.1224 - mean_squared_error: 978.12 - 0s 4ms/step - loss: 2788.3230 - mean_squared_error: 2788.3230 - val_loss: 3518.7903 - val_mean_squared_error: 3518.7903\n"
     ]
    },
    {
     "name": "stdout",
     "output_type": "stream",
     "text": [
      "Epoch 30/100\n",
      "22/22 [==============================] - ETA: 0s - loss: 2735.4775 - mean_squared_error: 2735.47 - ETA: 0s - loss: 2761.0566 - mean_squared_error: 2761.05 - 0s 4ms/step - loss: 2761.0566 - mean_squared_error: 2761.0566 - val_loss: 3507.3093 - val_mean_squared_error: 3507.3093\n",
      "Epoch 31/100\n",
      "22/22 [==============================] - ETA: 0s - loss: 2620.3994 - mean_squared_error: 2620.39 - ETA: 0s - loss: 2729.8423 - mean_squared_error: 2729.84 - 0s 4ms/step - loss: 2729.8423 - mean_squared_error: 2729.8423 - val_loss: 3480.2053 - val_mean_squared_error: 3480.2053\n",
      "Epoch 32/100\n",
      "22/22 [==============================] - ETA: 0s - loss: 2232.4219 - mean_squared_error: 2232.42 - ETA: 0s - loss: 2568.7786 - mean_squared_error: 2568.77 - 0s 5ms/step - loss: 2698.8364 - mean_squared_error: 2698.8364 - val_loss: 3458.1665 - val_mean_squared_error: 3458.1665\n",
      "Epoch 33/100\n",
      "22/22 [==============================] - ETA: 0s - loss: 1594.8098 - mean_squared_error: 1594.80 - 0s 5ms/step - loss: 2662.7839 - mean_squared_error: 2662.7839 - val_loss: 3439.3193 - val_mean_squared_error: 3439.3193\n",
      "Epoch 34/100\n",
      "22/22 [==============================] - ETA: 0s - loss: 2770.2329 - mean_squared_error: 2770.23 - ETA: 0s - loss: 2641.6147 - mean_squared_error: 2641.61 - 0s 4ms/step - loss: 2641.6147 - mean_squared_error: 2641.6147 - val_loss: 3448.4089 - val_mean_squared_error: 3448.4089\n",
      "Epoch 35/100\n",
      "22/22 [==============================] - ETA: 0s - loss: 3594.4053 - mean_squared_error: 3594.40 - 0s 3ms/step - loss: 2610.4167 - mean_squared_error: 2610.4167 - val_loss: 3360.1970 - val_mean_squared_error: 3360.1970\n",
      "Epoch 36/100\n",
      "22/22 [==============================] - ETA: 0s - loss: 2853.2400 - mean_squared_error: 2853.24 - 0s 3ms/step - loss: 2581.2566 - mean_squared_error: 2581.2566 - val_loss: 3383.4460 - val_mean_squared_error: 3383.4460\n",
      "Epoch 37/100\n",
      "22/22 [==============================] - ETA: 0s - loss: 2803.0864 - mean_squared_error: 2803.08 - 0s 3ms/step - loss: 2562.8235 - mean_squared_error: 2562.8235 - val_loss: 3408.9675 - val_mean_squared_error: 3408.9675\n",
      "Epoch 38/100\n",
      "22/22 [==============================] - ETA: 0s - loss: 2833.1545 - mean_squared_error: 2833.15 - 0s 3ms/step - loss: 2538.1157 - mean_squared_error: 2538.1157 - val_loss: 3352.6465 - val_mean_squared_error: 3352.6465\n",
      "Epoch 39/100\n",
      "22/22 [==============================] - ETA: 0s - loss: 3177.7522 - mean_squared_error: 3177.75 - 0s 3ms/step - loss: 2516.9875 - mean_squared_error: 2516.9875 - val_loss: 3279.8999 - val_mean_squared_error: 3279.8999\n",
      "Epoch 40/100\n",
      "22/22 [==============================] - ETA: 0s - loss: 3403.5745 - mean_squared_error: 3403.57 - 0s 3ms/step - loss: 2491.0413 - mean_squared_error: 2491.0413 - val_loss: 3316.5154 - val_mean_squared_error: 3316.5154\n",
      "Epoch 41/100\n",
      "22/22 [==============================] - ETA: 0s - loss: 2333.1028 - mean_squared_error: 2333.10 - 0s 3ms/step - loss: 2465.8218 - mean_squared_error: 2465.8218 - val_loss: 3301.9087 - val_mean_squared_error: 3301.9087\n",
      "Epoch 42/100\n",
      "22/22 [==============================] - ETA: 0s - loss: 2149.9302 - mean_squared_error: 2149.93 - 0s 3ms/step - loss: 2439.9590 - mean_squared_error: 2439.9590 - val_loss: 3286.2183 - val_mean_squared_error: 3286.2183\n",
      "Epoch 43/100\n",
      "22/22 [==============================] - ETA: 0s - loss: 2234.4412 - mean_squared_error: 2234.44 - 0s 3ms/step - loss: 2436.9453 - mean_squared_error: 2436.9453 - val_loss: 3329.6958 - val_mean_squared_error: 3329.6958\n",
      "Epoch 44/100\n",
      "22/22 [==============================] - ETA: 0s - loss: 1712.4348 - mean_squared_error: 1712.43 - 0s 3ms/step - loss: 2403.7822 - mean_squared_error: 2403.7822 - val_loss: 3243.7478 - val_mean_squared_error: 3243.7478\n",
      "Epoch 45/100\n",
      "22/22 [==============================] - ETA: 0s - loss: 3148.7388 - mean_squared_error: 3148.73 - ETA: 0s - loss: 2349.0906 - mean_squared_error: 2349.09 - 0s 5ms/step - loss: 2385.9897 - mean_squared_error: 2385.9897 - val_loss: 3255.3188 - val_mean_squared_error: 3255.3188\n",
      "Epoch 46/100\n",
      "22/22 [==============================] - ETA: 0s - loss: 2275.3232 - mean_squared_error: 2275.32 - 0s 3ms/step - loss: 2366.4622 - mean_squared_error: 2366.4622 - val_loss: 3211.9753 - val_mean_squared_error: 3211.9753\n",
      "Epoch 47/100\n",
      "22/22 [==============================] - ETA: 0s - loss: 1715.9604 - mean_squared_error: 1715.96 - 0s 3ms/step - loss: 2352.1458 - mean_squared_error: 2352.1458 - val_loss: 3232.7307 - val_mean_squared_error: 3232.7307\n",
      "Epoch 48/100\n",
      "22/22 [==============================] - ETA: 0s - loss: 2510.1108 - mean_squared_error: 2510.11 - 0s 3ms/step - loss: 2336.8735 - mean_squared_error: 2336.8735 - val_loss: 3216.5322 - val_mean_squared_error: 3216.5322\n",
      "Epoch 49/100\n",
      "22/22 [==============================] - ETA: 0s - loss: 2409.1426 - mean_squared_error: 2409.14 - 0s 3ms/step - loss: 2320.7427 - mean_squared_error: 2320.7427 - val_loss: 3199.9565 - val_mean_squared_error: 3199.9565\n",
      "Epoch 50/100\n",
      "22/22 [==============================] - ETA: 0s - loss: 3285.6726 - mean_squared_error: 3285.67 - 0s 3ms/step - loss: 2311.9355 - mean_squared_error: 2311.9355 - val_loss: 3192.6150 - val_mean_squared_error: 3192.6150\n",
      "Epoch 51/100\n",
      "22/22 [==============================] - ETA: 0s - loss: 2962.1919 - mean_squared_error: 2962.19 - 0s 4ms/step - loss: 2304.9751 - mean_squared_error: 2304.9751 - val_loss: 3179.8945 - val_mean_squared_error: 3179.8945\n",
      "Epoch 52/100\n",
      "22/22 [==============================] - ETA: 0s - loss: 2586.2188 - mean_squared_error: 2586.21 - 0s 3ms/step - loss: 2295.8989 - mean_squared_error: 2295.8989 - val_loss: 3182.9485 - val_mean_squared_error: 3182.9485\n",
      "Epoch 53/100\n",
      "22/22 [==============================] - ETA: 0s - loss: 2284.0537 - mean_squared_error: 2284.05 - 0s 3ms/step - loss: 2265.2605 - mean_squared_error: 2265.2605 - val_loss: 3185.2036 - val_mean_squared_error: 3185.2036\n",
      "Epoch 54/100\n",
      "22/22 [==============================] - ETA: 0s - loss: 4436.0342 - mean_squared_error: 4436.03 - 0s 3ms/step - loss: 2260.5979 - mean_squared_error: 2260.5979 - val_loss: 3172.7549 - val_mean_squared_error: 3172.7549\n",
      "Epoch 55/100\n",
      "22/22 [==============================] - ETA: 0s - loss: 2818.0317 - mean_squared_error: 2818.03 - 0s 3ms/step - loss: 2240.7290 - mean_squared_error: 2240.7290 - val_loss: 3155.9963 - val_mean_squared_error: 3155.9963\n",
      "Epoch 56/100\n",
      "22/22 [==============================] - ETA: 0s - loss: 2121.5691 - mean_squared_error: 2121.56 - ETA: 0s - loss: 2231.3098 - mean_squared_error: 2231.30 - 0s 4ms/step - loss: 2231.9502 - mean_squared_error: 2231.9502 - val_loss: 3177.1221 - val_mean_squared_error: 3177.1221\n",
      "Epoch 57/100\n",
      "22/22 [==============================] - ETA: 0s - loss: 2967.6448 - mean_squared_error: 2967.64 - ETA: 0s - loss: 2162.4380 - mean_squared_error: 2162.43 - ETA: 0s - loss: 2189.6548 - mean_squared_error: 2189.65 - 0s 7ms/step - loss: 2220.8193 - mean_squared_error: 2220.8193 - val_loss: 3142.1433 - val_mean_squared_error: 3142.1433\n",
      "Epoch 58/100\n",
      "22/22 [==============================] - ETA: 0s - loss: 3507.1104 - mean_squared_error: 3507.11 - ETA: 0s - loss: 2215.4675 - mean_squared_error: 2215.46 - 0s 5ms/step - loss: 2215.4675 - mean_squared_error: 2215.4675 - val_loss: 3165.8628 - val_mean_squared_error: 3165.8628\n",
      "Epoch 59/100\n",
      "22/22 [==============================] - ETA: 0s - loss: 3456.1294 - mean_squared_error: 3456.12 - 0s 4ms/step - loss: 2188.7747 - mean_squared_error: 2188.7747 - val_loss: 3108.6829 - val_mean_squared_error: 3108.6829\n",
      "Epoch 60/100\n",
      "22/22 [==============================] - ETA: 0s - loss: 993.3333 - mean_squared_error: 993.33 - 0s 4ms/step - loss: 2185.4512 - mean_squared_error: 2185.4512 - val_loss: 3111.0063 - val_mean_squared_error: 3111.0063\n",
      "Epoch 61/100\n",
      "22/22 [==============================] - ETA: 0s - loss: 1652.2231 - mean_squared_error: 1652.22 - 0s 3ms/step - loss: 2185.9556 - mean_squared_error: 2185.9556 - val_loss: 3157.5593 - val_mean_squared_error: 3157.5593\n",
      "Epoch 62/100\n",
      "22/22 [==============================] - ETA: 0s - loss: 2077.3164 - mean_squared_error: 2077.31 - 0s 3ms/step - loss: 2171.9521 - mean_squared_error: 2171.9521 - val_loss: 3102.5037 - val_mean_squared_error: 3102.5037\n",
      "Epoch 63/100\n",
      "22/22 [==============================] - ETA: 0s - loss: 1792.5442 - mean_squared_error: 1792.54 - ETA: 0s - loss: 2286.8628 - mean_squared_error: 2286.86 - 0s 4ms/step - loss: 2150.7021 - mean_squared_error: 2150.7021 - val_loss: 3091.0371 - val_mean_squared_error: 3091.0371\n",
      "Epoch 64/100\n",
      "22/22 [==============================] - ETA: 0s - loss: 2217.5889 - mean_squared_error: 2217.58 - ETA: 0s - loss: 2063.9707 - mean_squared_error: 2063.97 - 0s 4ms/step - loss: 2151.4495 - mean_squared_error: 2151.4495 - val_loss: 3111.3362 - val_mean_squared_error: 3111.3362\n",
      "Epoch 65/100\n",
      "22/22 [==============================] - ETA: 0s - loss: 3314.5352 - mean_squared_error: 3314.53 - ETA: 0s - loss: 2177.4656 - mean_squared_error: 2177.46 - 0s 4ms/step - loss: 2132.0537 - mean_squared_error: 2132.0537 - val_loss: 3053.6589 - val_mean_squared_error: 3053.6589\n",
      "Epoch 66/100\n",
      "22/22 [==============================] - ETA: 0s - loss: 2072.7227 - mean_squared_error: 2072.72 - 0s 4ms/step - loss: 2133.5859 - mean_squared_error: 2133.5859 - val_loss: 3090.9312 - val_mean_squared_error: 3090.9312\n",
      "Epoch 67/100\n",
      "22/22 [==============================] - ETA: 0s - loss: 2948.6611 - mean_squared_error: 2948.66 - 0s 3ms/step - loss: 2129.7334 - mean_squared_error: 2129.7334 - val_loss: 3073.3171 - val_mean_squared_error: 3073.3171\n",
      "Epoch 68/100\n",
      "22/22 [==============================] - ETA: 0s - loss: 1521.1401 - mean_squared_error: 1521.14 - 0s 3ms/step - loss: 2104.1460 - mean_squared_error: 2104.1460 - val_loss: 3040.1575 - val_mean_squared_error: 3040.1575\n",
      "Epoch 69/100\n",
      "22/22 [==============================] - ETA: 0s - loss: 2602.9924 - mean_squared_error: 2602.99 - ETA: 0s - loss: 2113.1702 - mean_squared_error: 2113.17 - 0s 4ms/step - loss: 2113.1702 - mean_squared_error: 2113.1702 - val_loss: 3076.1089 - val_mean_squared_error: 3076.1089\n",
      "Epoch 70/100\n",
      "22/22 [==============================] - ETA: 0s - loss: 2462.3354 - mean_squared_error: 2462.33 - ETA: 0s - loss: 2083.4341 - mean_squared_error: 2083.43 - 0s 4ms/step - loss: 2083.4341 - mean_squared_error: 2083.4341 - val_loss: 3033.6013 - val_mean_squared_error: 3033.6013\n",
      "Epoch 71/100\n",
      "22/22 [==============================] - ETA: 0s - loss: 1941.4431 - mean_squared_error: 1941.44 - ETA: 0s - loss: 1858.0990 - mean_squared_error: 1858.09 - 0s 7ms/step - loss: 2079.9453 - mean_squared_error: 2079.9453 - val_loss: 3032.5657 - val_mean_squared_error: 3032.5657\n",
      "Epoch 72/100\n",
      "22/22 [==============================] - ETA: 0s - loss: 1879.5480 - mean_squared_error: 1879.54 - 0s 3ms/step - loss: 2059.5396 - mean_squared_error: 2059.5396 - val_loss: 3027.8965 - val_mean_squared_error: 3027.8965\n",
      "Epoch 73/100\n",
      "22/22 [==============================] - ETA: 0s - loss: 2143.3513 - mean_squared_error: 2143.35 - 0s 3ms/step - loss: 2056.0664 - mean_squared_error: 2056.0664 - val_loss: 3005.6345 - val_mean_squared_error: 3005.6345\n",
      "Epoch 74/100\n",
      "22/22 [==============================] - ETA: 0s - loss: 2059.5842 - mean_squared_error: 2059.58 - 0s 3ms/step - loss: 2046.8334 - mean_squared_error: 2046.8334 - val_loss: 3001.8635 - val_mean_squared_error: 3001.8635\n",
      "Epoch 75/100\n",
      "22/22 [==============================] - ETA: 0s - loss: 1287.0798 - mean_squared_error: 1287.07 - 0s 3ms/step - loss: 2038.8689 - mean_squared_error: 2038.8689 - val_loss: 2991.1511 - val_mean_squared_error: 2991.1511\n",
      "Epoch 76/100\n",
      "22/22 [==============================] - ETA: 0s - loss: 1881.8905 - mean_squared_error: 1881.89 - 0s 3ms/step - loss: 2039.0808 - mean_squared_error: 2039.0808 - val_loss: 3018.5674 - val_mean_squared_error: 3018.5674\n",
      "Epoch 77/100\n",
      "22/22 [==============================] - ETA: 0s - loss: 1315.9524 - mean_squared_error: 1315.95 - ETA: 0s - loss: 2040.3010 - mean_squared_error: 2040.30 - 0s 4ms/step - loss: 2040.3010 - mean_squared_error: 2040.3010 - val_loss: 2982.2151 - val_mean_squared_error: 2982.2151\n",
      "Epoch 78/100\n",
      "22/22 [==============================] - ETA: 0s - loss: 3473.7761 - mean_squared_error: 3473.77 - 0s 3ms/step - loss: 2013.3722 - mean_squared_error: 2013.3722 - val_loss: 3010.2732 - val_mean_squared_error: 3010.2732\n",
      "Epoch 79/100\n",
      "22/22 [==============================] - ETA: 0s - loss: 1401.6312 - mean_squared_error: 1401.63 - 0s 3ms/step - loss: 2002.8423 - mean_squared_error: 2002.8423 - val_loss: 2975.3635 - val_mean_squared_error: 2975.3635\n",
      "Epoch 80/100\n",
      "22/22 [==============================] - ETA: 0s - loss: 1163.6007 - mean_squared_error: 1163.60 - 0s 3ms/step - loss: 1995.0743 - mean_squared_error: 1995.0743 - val_loss: 2959.8586 - val_mean_squared_error: 2959.8586\n",
      "Epoch 81/100\n",
      "22/22 [==============================] - ETA: 0s - loss: 2978.1099 - mean_squared_error: 2978.10 - 0s 3ms/step - loss: 1991.4376 - mean_squared_error: 1991.4376 - val_loss: 2965.8506 - val_mean_squared_error: 2965.8506\n",
      "Epoch 82/100\n",
      "22/22 [==============================] - ETA: 0s - loss: 1873.0427 - mean_squared_error: 1873.04 - 0s 3ms/step - loss: 1974.7238 - mean_squared_error: 1974.7238 - val_loss: 2958.9353 - val_mean_squared_error: 2958.9353\n",
      "Epoch 83/100\n",
      "22/22 [==============================] - ETA: 0s - loss: 1983.9407 - mean_squared_error: 1983.94 - 0s 3ms/step - loss: 1983.6353 - mean_squared_error: 1983.6353 - val_loss: 2954.3982 - val_mean_squared_error: 2954.3982\n",
      "Epoch 84/100\n",
      "22/22 [==============================] - ETA: 0s - loss: 939.0024 - mean_squared_error: 939.00 - 0s 3ms/step - loss: 1990.7030 - mean_squared_error: 1990.7030 - val_loss: 2979.0232 - val_mean_squared_error: 2979.0232\n",
      "Epoch 85/100\n",
      "22/22 [==============================] - ETA: 0s - loss: 979.4902 - mean_squared_error: 979.49 - 0s 3ms/step - loss: 1961.3219 - mean_squared_error: 1961.3219 - val_loss: 2928.0408 - val_mean_squared_error: 2928.0408\n",
      "Epoch 86/100\n",
      "22/22 [==============================] - ETA: 0s - loss: 1625.6428 - mean_squared_error: 1625.64 - 0s 3ms/step - loss: 1963.3101 - mean_squared_error: 1963.3101 - val_loss: 2964.5215 - val_mean_squared_error: 2964.5215\n",
      "Epoch 87/100\n",
      "22/22 [==============================] - ETA: 0s - loss: 994.8824 - mean_squared_error: 994.88 - 0s 4ms/step - loss: 1961.5297 - mean_squared_error: 1961.5297 - val_loss: 2949.4211 - val_mean_squared_error: 2949.4211\n",
      "Epoch 88/100\n",
      "22/22 [==============================] - ETA: 0s - loss: 1044.2782 - mean_squared_error: 1044.27 - ETA: 0s - loss: 2012.5712 - mean_squared_error: 2012.57 - 0s 4ms/step - loss: 1969.0944 - mean_squared_error: 1969.0944 - val_loss: 2909.2385 - val_mean_squared_error: 2909.2385\n",
      "Epoch 89/100\n",
      "22/22 [==============================] - ETA: 0s - loss: 1265.9500 - mean_squared_error: 1265.95 - 0s 3ms/step - loss: 1931.1434 - mean_squared_error: 1931.1434 - val_loss: 2937.6326 - val_mean_squared_error: 2937.6326\n",
      "Epoch 90/100\n",
      "22/22 [==============================] - ETA: 0s - loss: 1740.4377 - mean_squared_error: 1740.43 - 0s 3ms/step - loss: 1927.6772 - mean_squared_error: 1927.6772 - val_loss: 2909.1021 - val_mean_squared_error: 2909.1021\n",
      "Epoch 91/100\n",
      "22/22 [==============================] - ETA: 0s - loss: 2321.2720 - mean_squared_error: 2321.27 - ETA: 0s - loss: 1916.7649 - mean_squared_error: 1916.76 - 0s 4ms/step - loss: 1916.7649 - mean_squared_error: 1916.7649 - val_loss: 2912.1851 - val_mean_squared_error: 2912.1851\n",
      "Epoch 92/100\n",
      "22/22 [==============================] - ETA: 0s - loss: 1521.6433 - mean_squared_error: 1521.64 - 0s 3ms/step - loss: 1904.9219 - mean_squared_error: 1904.9219 - val_loss: 2937.5854 - val_mean_squared_error: 2937.5854\n",
      "Epoch 93/100\n",
      "22/22 [==============================] - ETA: 0s - loss: 2555.9697 - mean_squared_error: 2555.96 - 0s 3ms/step - loss: 1913.9138 - mean_squared_error: 1913.9138 - val_loss: 2915.5588 - val_mean_squared_error: 2915.5588\n",
      "Epoch 94/100\n",
      "22/22 [==============================] - ETA: 0s - loss: 2386.2141 - mean_squared_error: 2386.21 - 0s 3ms/step - loss: 1903.1442 - mean_squared_error: 1903.1442 - val_loss: 2888.6228 - val_mean_squared_error: 2888.6228\n",
      "Epoch 95/100\n",
      "22/22 [==============================] - ETA: 0s - loss: 1617.6458 - mean_squared_error: 1617.64 - 0s 3ms/step - loss: 1890.6157 - mean_squared_error: 1890.6157 - val_loss: 2931.4172 - val_mean_squared_error: 2931.4172\n",
      "Epoch 96/100\n"
     ]
    },
    {
     "name": "stdout",
     "output_type": "stream",
     "text": [
      "22/22 [==============================] - ETA: 0s - loss: 1550.1805 - mean_squared_error: 1550.18 - 0s 3ms/step - loss: 1887.5099 - mean_squared_error: 1887.5099 - val_loss: 2901.1792 - val_mean_squared_error: 2901.1792\n",
      "Epoch 97/100\n",
      "22/22 [==============================] - ETA: 0s - loss: 1460.4249 - mean_squared_error: 1460.42 - 0s 3ms/step - loss: 1872.9299 - mean_squared_error: 1872.9299 - val_loss: 2893.3713 - val_mean_squared_error: 2893.3713\n",
      "Epoch 98/100\n",
      "22/22 [==============================] - ETA: 0s - loss: 2840.7751 - mean_squared_error: 2840.77 - 0s 3ms/step - loss: 1868.7662 - mean_squared_error: 1868.7662 - val_loss: 2901.9805 - val_mean_squared_error: 2901.9805\n",
      "Epoch 99/100\n",
      "22/22 [==============================] - ETA: 0s - loss: 1328.2834 - mean_squared_error: 1328.28 - ETA: 0s - loss: 1899.9834 - mean_squared_error: 1899.98 - 0s 5ms/step - loss: 1859.4869 - mean_squared_error: 1859.4869 - val_loss: 2878.0874 - val_mean_squared_error: 2878.0874\n",
      "Epoch 100/100\n",
      "22/22 [==============================] - ETA: 0s - loss: 1660.1984 - mean_squared_error: 1660.19 - 0s 3ms/step - loss: 1858.5608 - mean_squared_error: 1858.5608 - val_loss: 2899.4648 - val_mean_squared_error: 2899.4648\n"
     ]
    }
   ],
   "source": [
    "Result1 = model1.fit(X_train_scaled, y_train, validation_split=0.2, epochs =100)"
   ]
  },
  {
   "cell_type": "code",
   "execution_count": 163,
   "metadata": {},
   "outputs": [
    {
     "name": "stdout",
     "output_type": "stream",
     "text": [
      "Mean squared error :  2447.714137870074\n",
      "Mean absolute error :  36.414600730160714\n",
      "r2_score :  0.6466636623631872\n"
     ]
    }
   ],
   "source": [
    "from sklearn.metrics import mean_squared_error\n",
    "from sklearn.metrics import mean_absolute_error\n",
    "from sklearn.metrics import r2_score\n",
    "y_pred = model1.predict(X_test_scaled)\n",
    "mse = mean_squared_error(y_test, y_pred)\n",
    "mae = mean_absolute_error(y_test, y_pred)\n",
    "r2 = r2_score(y_test, y_pred)\n",
    "print('Mean squared error : ', mse)\n",
    "print('Mean absolute error : ', mae)\n",
    "print('r2_score : ', r2)"
   ]
  },
  {
   "cell_type": "code",
   "execution_count": 129,
   "metadata": {
    "id": "z1WEm4QZE9lT"
   },
   "outputs": [],
   "source": [
    "# Use Keras tuner for finding out optimal parameters\n",
    "from tensorflow import keras\n",
    "from tensorflow.keras import layers\n",
    "from kerastuner.tuners import RandomSearch"
   ]
  },
  {
   "cell_type": "code",
   "execution_count": 130,
   "metadata": {},
   "outputs": [],
   "source": [
    "def tuner_model(hp):                      # hp is assigned here connects with RandomSearch\n",
    "    model = keras.Sequential()\n",
    "    for i in range(hp.Int('num_layers',2,20)):\n",
    "        model.add(layers.Dense(units=hp.Int('units_'+str(i),min_value=16,max_value=512,step=16),activation='relu'))\n",
    "    model.add(layers.Dense(units=1,activation='linear')) # for regession , output layer Activation function is usually linear\n",
    "    model.compile(optimizer=keras.optimizers.Adam(hp.Choice('learning_rate',[0.01,0.001,0.0001])),\n",
    "                 loss='mean_absolute_error',metrics=['mean_absolute_error'])\n",
    "    return model   "
   ]
  },
  {
   "cell_type": "code",
   "execution_count": 131,
   "metadata": {
    "id": "9VdP1OtIE9sQ"
   },
   "outputs": [
    {
     "name": "stdout",
     "output_type": "stream",
     "text": [
      "INFO:tensorflow:Reloading Oracle from existing project .\\untitled_project\\oracle.json\n"
     ]
    },
    {
     "name": "stderr",
     "output_type": "stream",
     "text": [
      "INFO:tensorflow:Reloading Oracle from existing project .\\untitled_project\\oracle.json\n"
     ]
    },
    {
     "name": "stdout",
     "output_type": "stream",
     "text": [
      "INFO:tensorflow:Reloading Tuner from .\\untitled_project\\tuner0.json\n"
     ]
    },
    {
     "name": "stderr",
     "output_type": "stream",
     "text": [
      "INFO:tensorflow:Reloading Tuner from .\\untitled_project\\tuner0.json\n"
     ]
    }
   ],
   "source": [
    "# Setting tuner\n",
    "tuner = RandomSearch(tuner_model,objective='val_mean_absolute_error',max_trials=5,executions_per_trial=3)"
   ]
  },
  {
   "cell_type": "code",
   "execution_count": 146,
   "metadata": {
    "id": "rFn1rKoBE9yg"
   },
   "outputs": [
    {
     "name": "stdout",
     "output_type": "stream",
     "text": [
      "INFO:tensorflow:Oracle triggered exit\n"
     ]
    },
    {
     "name": "stderr",
     "output_type": "stream",
     "text": [
      "INFO:tensorflow:Oracle triggered exit\n"
     ]
    }
   ],
   "source": [
    "# Run the tuner\n",
    "tuner.search(X_train_scaled, y_train, epochs=5, validation_data=(X_test_scaled, y_test))"
   ]
  },
  {
   "cell_type": "code",
   "execution_count": 145,
   "metadata": {
    "id": "_adIM7flE91v"
   },
   "outputs": [
    {
     "data": {
      "text/html": [
       "<span style=\"color:#4527A0\"><h1 style=\"font-size:18px\">Results summary</h1></span>"
      ],
      "text/plain": [
       "<IPython.core.display.HTML object>"
      ]
     },
     "metadata": {},
     "output_type": "display_data"
    },
    {
     "data": {
      "text/html": [
       "<span style=\"color:cyan\"> |-Results in .\\untitled_project</span>"
      ],
      "text/plain": [
       "<IPython.core.display.HTML object>"
      ]
     },
     "metadata": {},
     "output_type": "display_data"
    },
    {
     "data": {
      "text/html": [
       "<span style=\"color:cyan\"> |-Showing 10 best trials</span>"
      ],
      "text/plain": [
       "<IPython.core.display.HTML object>"
      ]
     },
     "metadata": {},
     "output_type": "display_data"
    },
    {
     "data": {
      "text/html": [
       "<span style=\"color:cyan\"> |-Objective(name='val_mean_absolute_error', direction='min')</span>"
      ],
      "text/plain": [
       "<IPython.core.display.HTML object>"
      ]
     },
     "metadata": {},
     "output_type": "display_data"
    },
    {
     "data": {
      "text/html": [
       "<span style=\"color:#4527A0\"><h1 style=\"font-size:18px\">Trial summary</h1></span>"
      ],
      "text/plain": [
       "<IPython.core.display.HTML object>"
      ]
     },
     "metadata": {},
     "output_type": "display_data"
    },
    {
     "data": {
      "text/html": [
       "<span style=\"color:cyan\"> |-Trial ID: 69aa8f2d2ad928e5eadea599ea1b12d4</span>"
      ],
      "text/plain": [
       "<IPython.core.display.HTML object>"
      ]
     },
     "metadata": {},
     "output_type": "display_data"
    },
    {
     "data": {
      "text/html": [
       "<span style=\"color:cyan\"> |-Score: 43.733113606770836</span>"
      ],
      "text/plain": [
       "<IPython.core.display.HTML object>"
      ]
     },
     "metadata": {},
     "output_type": "display_data"
    },
    {
     "data": {
      "text/html": [
       "<span style=\"color:cyan\"> |-Best step: 0</span>"
      ],
      "text/plain": [
       "<IPython.core.display.HTML object>"
      ]
     },
     "metadata": {},
     "output_type": "display_data"
    },
    {
     "data": {
      "text/html": [
       "<span style=\"color:#7E57C2\"><h2 style=\"font-size:16px\">Hyperparameters:</h2></span>"
      ],
      "text/plain": [
       "<IPython.core.display.HTML object>"
      ]
     },
     "metadata": {},
     "output_type": "display_data"
    },
    {
     "data": {
      "text/html": [
       "<span style=\"color:cyan\"> |-learning_rate: 0.01</span>"
      ],
      "text/plain": [
       "<IPython.core.display.HTML object>"
      ]
     },
     "metadata": {},
     "output_type": "display_data"
    },
    {
     "data": {
      "text/html": [
       "<span style=\"color:blue\"> |-num_layers: 15</span>"
      ],
      "text/plain": [
       "<IPython.core.display.HTML object>"
      ]
     },
     "metadata": {},
     "output_type": "display_data"
    },
    {
     "data": {
      "text/html": [
       "<span style=\"color:cyan\"> |-units_0: 64</span>"
      ],
      "text/plain": [
       "<IPython.core.display.HTML object>"
      ]
     },
     "metadata": {},
     "output_type": "display_data"
    },
    {
     "data": {
      "text/html": [
       "<span style=\"color:blue\"> |-units_1: 496</span>"
      ],
      "text/plain": [
       "<IPython.core.display.HTML object>"
      ]
     },
     "metadata": {},
     "output_type": "display_data"
    },
    {
     "data": {
      "text/html": [
       "<span style=\"color:cyan\"> |-units_10: 400</span>"
      ],
      "text/plain": [
       "<IPython.core.display.HTML object>"
      ]
     },
     "metadata": {},
     "output_type": "display_data"
    },
    {
     "data": {
      "text/html": [
       "<span style=\"color:blue\"> |-units_11: 80</span>"
      ],
      "text/plain": [
       "<IPython.core.display.HTML object>"
      ]
     },
     "metadata": {},
     "output_type": "display_data"
    },
    {
     "data": {
      "text/html": [
       "<span style=\"color:cyan\"> |-units_12: 352</span>"
      ],
      "text/plain": [
       "<IPython.core.display.HTML object>"
      ]
     },
     "metadata": {},
     "output_type": "display_data"
    },
    {
     "data": {
      "text/html": [
       "<span style=\"color:blue\"> |-units_13: 64</span>"
      ],
      "text/plain": [
       "<IPython.core.display.HTML object>"
      ]
     },
     "metadata": {},
     "output_type": "display_data"
    },
    {
     "data": {
      "text/html": [
       "<span style=\"color:cyan\"> |-units_14: 144</span>"
      ],
      "text/plain": [
       "<IPython.core.display.HTML object>"
      ]
     },
     "metadata": {},
     "output_type": "display_data"
    },
    {
     "data": {
      "text/html": [
       "<span style=\"color:blue\"> |-units_15: 208</span>"
      ],
      "text/plain": [
       "<IPython.core.display.HTML object>"
      ]
     },
     "metadata": {},
     "output_type": "display_data"
    },
    {
     "data": {
      "text/html": [
       "<span style=\"color:cyan\"> |-units_16: 336</span>"
      ],
      "text/plain": [
       "<IPython.core.display.HTML object>"
      ]
     },
     "metadata": {},
     "output_type": "display_data"
    },
    {
     "data": {
      "text/html": [
       "<span style=\"color:blue\"> |-units_17: 96</span>"
      ],
      "text/plain": [
       "<IPython.core.display.HTML object>"
      ]
     },
     "metadata": {},
     "output_type": "display_data"
    },
    {
     "data": {
      "text/html": [
       "<span style=\"color:cyan\"> |-units_18: 432</span>"
      ],
      "text/plain": [
       "<IPython.core.display.HTML object>"
      ]
     },
     "metadata": {},
     "output_type": "display_data"
    },
    {
     "data": {
      "text/html": [
       "<span style=\"color:blue\"> |-units_19: 384</span>"
      ],
      "text/plain": [
       "<IPython.core.display.HTML object>"
      ]
     },
     "metadata": {},
     "output_type": "display_data"
    },
    {
     "data": {
      "text/html": [
       "<span style=\"color:cyan\"> |-units_2: 32</span>"
      ],
      "text/plain": [
       "<IPython.core.display.HTML object>"
      ]
     },
     "metadata": {},
     "output_type": "display_data"
    },
    {
     "data": {
      "text/html": [
       "<span style=\"color:blue\"> |-units_3: 384</span>"
      ],
      "text/plain": [
       "<IPython.core.display.HTML object>"
      ]
     },
     "metadata": {},
     "output_type": "display_data"
    },
    {
     "data": {
      "text/html": [
       "<span style=\"color:cyan\"> |-units_4: 320</span>"
      ],
      "text/plain": [
       "<IPython.core.display.HTML object>"
      ]
     },
     "metadata": {},
     "output_type": "display_data"
    },
    {
     "data": {
      "text/html": [
       "<span style=\"color:blue\"> |-units_5: 64</span>"
      ],
      "text/plain": [
       "<IPython.core.display.HTML object>"
      ]
     },
     "metadata": {},
     "output_type": "display_data"
    },
    {
     "data": {
      "text/html": [
       "<span style=\"color:cyan\"> |-units_6: 256</span>"
      ],
      "text/plain": [
       "<IPython.core.display.HTML object>"
      ]
     },
     "metadata": {},
     "output_type": "display_data"
    },
    {
     "data": {
      "text/html": [
       "<span style=\"color:blue\"> |-units_7: 288</span>"
      ],
      "text/plain": [
       "<IPython.core.display.HTML object>"
      ]
     },
     "metadata": {},
     "output_type": "display_data"
    },
    {
     "data": {
      "text/html": [
       "<span style=\"color:cyan\"> |-units_8: 176</span>"
      ],
      "text/plain": [
       "<IPython.core.display.HTML object>"
      ]
     },
     "metadata": {},
     "output_type": "display_data"
    },
    {
     "data": {
      "text/html": [
       "<span style=\"color:blue\"> |-units_9: 336</span>"
      ],
      "text/plain": [
       "<IPython.core.display.HTML object>"
      ]
     },
     "metadata": {},
     "output_type": "display_data"
    },
    {
     "data": {
      "text/html": [
       "<span style=\"color:#4527A0\"><h1 style=\"font-size:18px\">Trial summary</h1></span>"
      ],
      "text/plain": [
       "<IPython.core.display.HTML object>"
      ]
     },
     "metadata": {},
     "output_type": "display_data"
    },
    {
     "data": {
      "text/html": [
       "<span style=\"color:cyan\"> |-Trial ID: 4bfba49c4738622379ee80cd12bb364b</span>"
      ],
      "text/plain": [
       "<IPython.core.display.HTML object>"
      ]
     },
     "metadata": {},
     "output_type": "display_data"
    },
    {
     "data": {
      "text/html": [
       "<span style=\"color:cyan\"> |-Score: 44.84381866455078</span>"
      ],
      "text/plain": [
       "<IPython.core.display.HTML object>"
      ]
     },
     "metadata": {},
     "output_type": "display_data"
    },
    {
     "data": {
      "text/html": [
       "<span style=\"color:cyan\"> |-Best step: 0</span>"
      ],
      "text/plain": [
       "<IPython.core.display.HTML object>"
      ]
     },
     "metadata": {},
     "output_type": "display_data"
    },
    {
     "data": {
      "text/html": [
       "<span style=\"color:#7E57C2\"><h2 style=\"font-size:16px\">Hyperparameters:</h2></span>"
      ],
      "text/plain": [
       "<IPython.core.display.HTML object>"
      ]
     },
     "metadata": {},
     "output_type": "display_data"
    },
    {
     "data": {
      "text/html": [
       "<span style=\"color:cyan\"> |-learning_rate: 0.001</span>"
      ],
      "text/plain": [
       "<IPython.core.display.HTML object>"
      ]
     },
     "metadata": {},
     "output_type": "display_data"
    },
    {
     "data": {
      "text/html": [
       "<span style=\"color:blue\"> |-num_layers: 7</span>"
      ],
      "text/plain": [
       "<IPython.core.display.HTML object>"
      ]
     },
     "metadata": {},
     "output_type": "display_data"
    },
    {
     "data": {
      "text/html": [
       "<span style=\"color:cyan\"> |-units_0: 128</span>"
      ],
      "text/plain": [
       "<IPython.core.display.HTML object>"
      ]
     },
     "metadata": {},
     "output_type": "display_data"
    },
    {
     "data": {
      "text/html": [
       "<span style=\"color:blue\"> |-units_1: 432</span>"
      ],
      "text/plain": [
       "<IPython.core.display.HTML object>"
      ]
     },
     "metadata": {},
     "output_type": "display_data"
    },
    {
     "data": {
      "text/html": [
       "<span style=\"color:cyan\"> |-units_2: 208</span>"
      ],
      "text/plain": [
       "<IPython.core.display.HTML object>"
      ]
     },
     "metadata": {},
     "output_type": "display_data"
    },
    {
     "data": {
      "text/html": [
       "<span style=\"color:blue\"> |-units_3: 80</span>"
      ],
      "text/plain": [
       "<IPython.core.display.HTML object>"
      ]
     },
     "metadata": {},
     "output_type": "display_data"
    },
    {
     "data": {
      "text/html": [
       "<span style=\"color:cyan\"> |-units_4: 256</span>"
      ],
      "text/plain": [
       "<IPython.core.display.HTML object>"
      ]
     },
     "metadata": {},
     "output_type": "display_data"
    },
    {
     "data": {
      "text/html": [
       "<span style=\"color:blue\"> |-units_5: 16</span>"
      ],
      "text/plain": [
       "<IPython.core.display.HTML object>"
      ]
     },
     "metadata": {},
     "output_type": "display_data"
    },
    {
     "data": {
      "text/html": [
       "<span style=\"color:cyan\"> |-units_6: 16</span>"
      ],
      "text/plain": [
       "<IPython.core.display.HTML object>"
      ]
     },
     "metadata": {},
     "output_type": "display_data"
    },
    {
     "data": {
      "text/html": [
       "<span style=\"color:#4527A0\"><h1 style=\"font-size:18px\">Trial summary</h1></span>"
      ],
      "text/plain": [
       "<IPython.core.display.HTML object>"
      ]
     },
     "metadata": {},
     "output_type": "display_data"
    },
    {
     "data": {
      "text/html": [
       "<span style=\"color:cyan\"> |-Trial ID: 09c3e8f57589ed2e124dfc295d8af11c</span>"
      ],
      "text/plain": [
       "<IPython.core.display.HTML object>"
      ]
     },
     "metadata": {},
     "output_type": "display_data"
    },
    {
     "data": {
      "text/html": [
       "<span style=\"color:cyan\"> |-Score: 50.38784662882487</span>"
      ],
      "text/plain": [
       "<IPython.core.display.HTML object>"
      ]
     },
     "metadata": {},
     "output_type": "display_data"
    },
    {
     "data": {
      "text/html": [
       "<span style=\"color:cyan\"> |-Best step: 0</span>"
      ],
      "text/plain": [
       "<IPython.core.display.HTML object>"
      ]
     },
     "metadata": {},
     "output_type": "display_data"
    },
    {
     "data": {
      "text/html": [
       "<span style=\"color:#7E57C2\"><h2 style=\"font-size:16px\">Hyperparameters:</h2></span>"
      ],
      "text/plain": [
       "<IPython.core.display.HTML object>"
      ]
     },
     "metadata": {},
     "output_type": "display_data"
    },
    {
     "data": {
      "text/html": [
       "<span style=\"color:cyan\"> |-learning_rate: 0.0001</span>"
      ],
      "text/plain": [
       "<IPython.core.display.HTML object>"
      ]
     },
     "metadata": {},
     "output_type": "display_data"
    },
    {
     "data": {
      "text/html": [
       "<span style=\"color:blue\"> |-num_layers: 16</span>"
      ],
      "text/plain": [
       "<IPython.core.display.HTML object>"
      ]
     },
     "metadata": {},
     "output_type": "display_data"
    },
    {
     "data": {
      "text/html": [
       "<span style=\"color:cyan\"> |-units_0: 256</span>"
      ],
      "text/plain": [
       "<IPython.core.display.HTML object>"
      ]
     },
     "metadata": {},
     "output_type": "display_data"
    },
    {
     "data": {
      "text/html": [
       "<span style=\"color:blue\"> |-units_1: 272</span>"
      ],
      "text/plain": [
       "<IPython.core.display.HTML object>"
      ]
     },
     "metadata": {},
     "output_type": "display_data"
    },
    {
     "data": {
      "text/html": [
       "<span style=\"color:cyan\"> |-units_10: 512</span>"
      ],
      "text/plain": [
       "<IPython.core.display.HTML object>"
      ]
     },
     "metadata": {},
     "output_type": "display_data"
    },
    {
     "data": {
      "text/html": [
       "<span style=\"color:blue\"> |-units_11: 368</span>"
      ],
      "text/plain": [
       "<IPython.core.display.HTML object>"
      ]
     },
     "metadata": {},
     "output_type": "display_data"
    },
    {
     "data": {
      "text/html": [
       "<span style=\"color:cyan\"> |-units_12: 432</span>"
      ],
      "text/plain": [
       "<IPython.core.display.HTML object>"
      ]
     },
     "metadata": {},
     "output_type": "display_data"
    },
    {
     "data": {
      "text/html": [
       "<span style=\"color:blue\"> |-units_13: 368</span>"
      ],
      "text/plain": [
       "<IPython.core.display.HTML object>"
      ]
     },
     "metadata": {},
     "output_type": "display_data"
    },
    {
     "data": {
      "text/html": [
       "<span style=\"color:cyan\"> |-units_14: 320</span>"
      ],
      "text/plain": [
       "<IPython.core.display.HTML object>"
      ]
     },
     "metadata": {},
     "output_type": "display_data"
    },
    {
     "data": {
      "text/html": [
       "<span style=\"color:blue\"> |-units_15: 112</span>"
      ],
      "text/plain": [
       "<IPython.core.display.HTML object>"
      ]
     },
     "metadata": {},
     "output_type": "display_data"
    },
    {
     "data": {
      "text/html": [
       "<span style=\"color:cyan\"> |-units_16: 48</span>"
      ],
      "text/plain": [
       "<IPython.core.display.HTML object>"
      ]
     },
     "metadata": {},
     "output_type": "display_data"
    },
    {
     "data": {
      "text/html": [
       "<span style=\"color:blue\"> |-units_17: 304</span>"
      ],
      "text/plain": [
       "<IPython.core.display.HTML object>"
      ]
     },
     "metadata": {},
     "output_type": "display_data"
    },
    {
     "data": {
      "text/html": [
       "<span style=\"color:cyan\"> |-units_18: 368</span>"
      ],
      "text/plain": [
       "<IPython.core.display.HTML object>"
      ]
     },
     "metadata": {},
     "output_type": "display_data"
    },
    {
     "data": {
      "text/html": [
       "<span style=\"color:blue\"> |-units_19: 160</span>"
      ],
      "text/plain": [
       "<IPython.core.display.HTML object>"
      ]
     },
     "metadata": {},
     "output_type": "display_data"
    },
    {
     "data": {
      "text/html": [
       "<span style=\"color:cyan\"> |-units_2: 224</span>"
      ],
      "text/plain": [
       "<IPython.core.display.HTML object>"
      ]
     },
     "metadata": {},
     "output_type": "display_data"
    },
    {
     "data": {
      "text/html": [
       "<span style=\"color:blue\"> |-units_3: 288</span>"
      ],
      "text/plain": [
       "<IPython.core.display.HTML object>"
      ]
     },
     "metadata": {},
     "output_type": "display_data"
    },
    {
     "data": {
      "text/html": [
       "<span style=\"color:cyan\"> |-units_4: 160</span>"
      ],
      "text/plain": [
       "<IPython.core.display.HTML object>"
      ]
     },
     "metadata": {},
     "output_type": "display_data"
    },
    {
     "data": {
      "text/html": [
       "<span style=\"color:blue\"> |-units_5: 32</span>"
      ],
      "text/plain": [
       "<IPython.core.display.HTML object>"
      ]
     },
     "metadata": {},
     "output_type": "display_data"
    },
    {
     "data": {
      "text/html": [
       "<span style=\"color:cyan\"> |-units_6: 368</span>"
      ],
      "text/plain": [
       "<IPython.core.display.HTML object>"
      ]
     },
     "metadata": {},
     "output_type": "display_data"
    },
    {
     "data": {
      "text/html": [
       "<span style=\"color:blue\"> |-units_7: 240</span>"
      ],
      "text/plain": [
       "<IPython.core.display.HTML object>"
      ]
     },
     "metadata": {},
     "output_type": "display_data"
    },
    {
     "data": {
      "text/html": [
       "<span style=\"color:cyan\"> |-units_8: 496</span>"
      ],
      "text/plain": [
       "<IPython.core.display.HTML object>"
      ]
     },
     "metadata": {},
     "output_type": "display_data"
    },
    {
     "data": {
      "text/html": [
       "<span style=\"color:blue\"> |-units_9: 176</span>"
      ],
      "text/plain": [
       "<IPython.core.display.HTML object>"
      ]
     },
     "metadata": {},
     "output_type": "display_data"
    },
    {
     "data": {
      "text/html": [
       "<span style=\"color:#4527A0\"><h1 style=\"font-size:18px\">Trial summary</h1></span>"
      ],
      "text/plain": [
       "<IPython.core.display.HTML object>"
      ]
     },
     "metadata": {},
     "output_type": "display_data"
    },
    {
     "data": {
      "text/html": [
       "<span style=\"color:cyan\"> |-Trial ID: 871c400a95ad82d66aa5c816d8897d1b</span>"
      ],
      "text/plain": [
       "<IPython.core.display.HTML object>"
      ]
     },
     "metadata": {},
     "output_type": "display_data"
    },
    {
     "data": {
      "text/html": [
       "<span style=\"color:cyan\"> |-Score: 74.60785166422527</span>"
      ],
      "text/plain": [
       "<IPython.core.display.HTML object>"
      ]
     },
     "metadata": {},
     "output_type": "display_data"
    },
    {
     "data": {
      "text/html": [
       "<span style=\"color:cyan\"> |-Best step: 0</span>"
      ],
      "text/plain": [
       "<IPython.core.display.HTML object>"
      ]
     },
     "metadata": {},
     "output_type": "display_data"
    },
    {
     "data": {
      "text/html": [
       "<span style=\"color:#7E57C2\"><h2 style=\"font-size:16px\">Hyperparameters:</h2></span>"
      ],
      "text/plain": [
       "<IPython.core.display.HTML object>"
      ]
     },
     "metadata": {},
     "output_type": "display_data"
    },
    {
     "data": {
      "text/html": [
       "<span style=\"color:cyan\"> |-learning_rate: 0.0001</span>"
      ],
      "text/plain": [
       "<IPython.core.display.HTML object>"
      ]
     },
     "metadata": {},
     "output_type": "display_data"
    },
    {
     "data": {
      "text/html": [
       "<span style=\"color:blue\"> |-num_layers: 20</span>"
      ],
      "text/plain": [
       "<IPython.core.display.HTML object>"
      ]
     },
     "metadata": {},
     "output_type": "display_data"
    },
    {
     "data": {
      "text/html": [
       "<span style=\"color:cyan\"> |-units_0: 32</span>"
      ],
      "text/plain": [
       "<IPython.core.display.HTML object>"
      ]
     },
     "metadata": {},
     "output_type": "display_data"
    },
    {
     "data": {
      "text/html": [
       "<span style=\"color:blue\"> |-units_1: 320</span>"
      ],
      "text/plain": [
       "<IPython.core.display.HTML object>"
      ]
     },
     "metadata": {},
     "output_type": "display_data"
    },
    {
     "data": {
      "text/html": [
       "<span style=\"color:cyan\"> |-units_10: 16</span>"
      ],
      "text/plain": [
       "<IPython.core.display.HTML object>"
      ]
     },
     "metadata": {},
     "output_type": "display_data"
    },
    {
     "data": {
      "text/html": [
       "<span style=\"color:blue\"> |-units_11: 16</span>"
      ],
      "text/plain": [
       "<IPython.core.display.HTML object>"
      ]
     },
     "metadata": {},
     "output_type": "display_data"
    },
    {
     "data": {
      "text/html": [
       "<span style=\"color:cyan\"> |-units_12: 16</span>"
      ],
      "text/plain": [
       "<IPython.core.display.HTML object>"
      ]
     },
     "metadata": {},
     "output_type": "display_data"
    },
    {
     "data": {
      "text/html": [
       "<span style=\"color:blue\"> |-units_13: 16</span>"
      ],
      "text/plain": [
       "<IPython.core.display.HTML object>"
      ]
     },
     "metadata": {},
     "output_type": "display_data"
    },
    {
     "data": {
      "text/html": [
       "<span style=\"color:cyan\"> |-units_14: 16</span>"
      ],
      "text/plain": [
       "<IPython.core.display.HTML object>"
      ]
     },
     "metadata": {},
     "output_type": "display_data"
    },
    {
     "data": {
      "text/html": [
       "<span style=\"color:blue\"> |-units_15: 16</span>"
      ],
      "text/plain": [
       "<IPython.core.display.HTML object>"
      ]
     },
     "metadata": {},
     "output_type": "display_data"
    },
    {
     "data": {
      "text/html": [
       "<span style=\"color:cyan\"> |-units_16: 16</span>"
      ],
      "text/plain": [
       "<IPython.core.display.HTML object>"
      ]
     },
     "metadata": {},
     "output_type": "display_data"
    },
    {
     "data": {
      "text/html": [
       "<span style=\"color:blue\"> |-units_17: 16</span>"
      ],
      "text/plain": [
       "<IPython.core.display.HTML object>"
      ]
     },
     "metadata": {},
     "output_type": "display_data"
    },
    {
     "data": {
      "text/html": [
       "<span style=\"color:cyan\"> |-units_18: 16</span>"
      ],
      "text/plain": [
       "<IPython.core.display.HTML object>"
      ]
     },
     "metadata": {},
     "output_type": "display_data"
    },
    {
     "data": {
      "text/html": [
       "<span style=\"color:blue\"> |-units_19: 16</span>"
      ],
      "text/plain": [
       "<IPython.core.display.HTML object>"
      ]
     },
     "metadata": {},
     "output_type": "display_data"
    },
    {
     "data": {
      "text/html": [
       "<span style=\"color:cyan\"> |-units_2: 368</span>"
      ],
      "text/plain": [
       "<IPython.core.display.HTML object>"
      ]
     },
     "metadata": {},
     "output_type": "display_data"
    },
    {
     "data": {
      "text/html": [
       "<span style=\"color:blue\"> |-units_3: 272</span>"
      ],
      "text/plain": [
       "<IPython.core.display.HTML object>"
      ]
     },
     "metadata": {},
     "output_type": "display_data"
    },
    {
     "data": {
      "text/html": [
       "<span style=\"color:cyan\"> |-units_4: 320</span>"
      ],
      "text/plain": [
       "<IPython.core.display.HTML object>"
      ]
     },
     "metadata": {},
     "output_type": "display_data"
    },
    {
     "data": {
      "text/html": [
       "<span style=\"color:blue\"> |-units_5: 480</span>"
      ],
      "text/plain": [
       "<IPython.core.display.HTML object>"
      ]
     },
     "metadata": {},
     "output_type": "display_data"
    },
    {
     "data": {
      "text/html": [
       "<span style=\"color:cyan\"> |-units_6: 160</span>"
      ],
      "text/plain": [
       "<IPython.core.display.HTML object>"
      ]
     },
     "metadata": {},
     "output_type": "display_data"
    },
    {
     "data": {
      "text/html": [
       "<span style=\"color:blue\"> |-units_7: 16</span>"
      ],
      "text/plain": [
       "<IPython.core.display.HTML object>"
      ]
     },
     "metadata": {},
     "output_type": "display_data"
    },
    {
     "data": {
      "text/html": [
       "<span style=\"color:cyan\"> |-units_8: 16</span>"
      ],
      "text/plain": [
       "<IPython.core.display.HTML object>"
      ]
     },
     "metadata": {},
     "output_type": "display_data"
    },
    {
     "data": {
      "text/html": [
       "<span style=\"color:blue\"> |-units_9: 16</span>"
      ],
      "text/plain": [
       "<IPython.core.display.HTML object>"
      ]
     },
     "metadata": {},
     "output_type": "display_data"
    },
    {
     "data": {
      "text/html": [
       "<span style=\"color:#4527A0\"><h1 style=\"font-size:18px\">Trial summary</h1></span>"
      ],
      "text/plain": [
       "<IPython.core.display.HTML object>"
      ]
     },
     "metadata": {},
     "output_type": "display_data"
    },
    {
     "data": {
      "text/html": [
       "<span style=\"color:cyan\"> |-Trial ID: 6b5620bdb08d285e969db852c4089e03</span>"
      ],
      "text/plain": [
       "<IPython.core.display.HTML object>"
      ]
     },
     "metadata": {},
     "output_type": "display_data"
    },
    {
     "data": {
      "text/html": [
       "<span style=\"color:cyan\"> |-Score: 105.48375447591145</span>"
      ],
      "text/plain": [
       "<IPython.core.display.HTML object>"
      ]
     },
     "metadata": {},
     "output_type": "display_data"
    },
    {
     "data": {
      "text/html": [
       "<span style=\"color:cyan\"> |-Best step: 0</span>"
      ],
      "text/plain": [
       "<IPython.core.display.HTML object>"
      ]
     },
     "metadata": {},
     "output_type": "display_data"
    },
    {
     "data": {
      "text/html": [
       "<span style=\"color:#7E57C2\"><h2 style=\"font-size:16px\">Hyperparameters:</h2></span>"
      ],
      "text/plain": [
       "<IPython.core.display.HTML object>"
      ]
     },
     "metadata": {},
     "output_type": "display_data"
    },
    {
     "data": {
      "text/html": [
       "<span style=\"color:cyan\"> |-learning_rate: 0.0001</span>"
      ],
      "text/plain": [
       "<IPython.core.display.HTML object>"
      ]
     },
     "metadata": {},
     "output_type": "display_data"
    },
    {
     "data": {
      "text/html": [
       "<span style=\"color:blue\"> |-num_layers: 5</span>"
      ],
      "text/plain": [
       "<IPython.core.display.HTML object>"
      ]
     },
     "metadata": {},
     "output_type": "display_data"
    },
    {
     "data": {
      "text/html": [
       "<span style=\"color:cyan\"> |-units_0: 16</span>"
      ],
      "text/plain": [
       "<IPython.core.display.HTML object>"
      ]
     },
     "metadata": {},
     "output_type": "display_data"
    },
    {
     "data": {
      "text/html": [
       "<span style=\"color:blue\"> |-units_1: 416</span>"
      ],
      "text/plain": [
       "<IPython.core.display.HTML object>"
      ]
     },
     "metadata": {},
     "output_type": "display_data"
    },
    {
     "data": {
      "text/html": [
       "<span style=\"color:cyan\"> |-units_2: 16</span>"
      ],
      "text/plain": [
       "<IPython.core.display.HTML object>"
      ]
     },
     "metadata": {},
     "output_type": "display_data"
    },
    {
     "data": {
      "text/html": [
       "<span style=\"color:blue\"> |-units_3: 16</span>"
      ],
      "text/plain": [
       "<IPython.core.display.HTML object>"
      ]
     },
     "metadata": {},
     "output_type": "display_data"
    },
    {
     "data": {
      "text/html": [
       "<span style=\"color:cyan\"> |-units_4: 16</span>"
      ],
      "text/plain": [
       "<IPython.core.display.HTML object>"
      ]
     },
     "metadata": {},
     "output_type": "display_data"
    }
   ],
   "source": [
    "tuner.results_summary()"
   ]
  },
  {
   "cell_type": "code",
   "execution_count": 176,
   "metadata": {
    "id": "px3I9AbaE-AA"
   },
   "outputs": [
    {
     "name": "stdout",
     "output_type": "stream",
     "text": [
      "Model: \"sequential_9\"\n",
      "_________________________________________________________________\n",
      "Layer (type)                 Output Shape              Param #   \n",
      "=================================================================\n",
      "dense_137 (Dense)            (None, 64)                576       \n",
      "_________________________________________________________________\n",
      "dense_138 (Dense)            (None, 496)               32240     \n",
      "_________________________________________________________________\n",
      "dense_139 (Dense)            (None, 32)                15904     \n",
      "_________________________________________________________________\n",
      "dense_140 (Dense)            (None, 384)               12672     \n",
      "_________________________________________________________________\n",
      "dense_141 (Dense)            (None, 320)               123200    \n",
      "_________________________________________________________________\n",
      "dense_142 (Dense)            (None, 64)                20544     \n",
      "_________________________________________________________________\n",
      "dense_143 (Dense)            (None, 256)               16640     \n",
      "_________________________________________________________________\n",
      "dense_144 (Dense)            (None, 288)               74016     \n",
      "_________________________________________________________________\n",
      "dense_145 (Dense)            (None, 176)               50864     \n",
      "_________________________________________________________________\n",
      "dense_146 (Dense)            (None, 336)               59472     \n",
      "_________________________________________________________________\n",
      "dense_147 (Dense)            (None, 400)               134800    \n",
      "_________________________________________________________________\n",
      "dense_148 (Dense)            (None, 80)                32080     \n",
      "_________________________________________________________________\n",
      "dense_149 (Dense)            (None, 352)               28512     \n",
      "_________________________________________________________________\n",
      "dense_150 (Dense)            (None, 64)                22592     \n",
      "_________________________________________________________________\n",
      "dense_151 (Dense)            (None, 144)               9360      \n",
      "_________________________________________________________________\n",
      "dense_152 (Dense)            (None, 208)               30160     \n",
      "_________________________________________________________________\n",
      "dense_153 (Dense)            (None, 336)               70224     \n",
      "_________________________________________________________________\n",
      "dense_154 (Dense)            (None, 96)                32352     \n",
      "_________________________________________________________________\n",
      "dense_155 (Dense)            (None, 432)               41904     \n",
      "_________________________________________________________________\n",
      "dense_156 (Dense)            (None, 384)               166272    \n",
      "_________________________________________________________________\n",
      "dense_157 (Dense)            (None, 1)                 385       \n",
      "=================================================================\n",
      "Total params: 974,769\n",
      "Trainable params: 974,769\n",
      "Non-trainable params: 0\n",
      "_________________________________________________________________\n"
     ]
    }
   ],
   "source": [
    "model2 = Sequential()\n",
    "model2.add(Dense(units=64,kernel_initializer='he_normal',activation='relu',input_dim=8))\n",
    "model2.add(Dense(units=496,kernel_initializer='he_normal',activation='relu'))\n",
    "model2.add(Dense(units=32,kernel_initializer='he_normal',activation='relu'))\n",
    "model2.add(Dense(units=384,kernel_initializer='he_normal',activation='relu'))\n",
    "model2.add(Dense(units=320,kernel_initializer='he_normal',activation='relu'))\n",
    "model2.add(Dense(units=64,kernel_initializer='he_normal',activation='relu'))\n",
    "model2.add(Dense(units=256,kernel_initializer='he_normal',activation='relu'))\n",
    "model2.add(Dense(units=288,kernel_initializer='he_normal',activation='relu'))\n",
    "model2.add(Dense(units=176,kernel_initializer='he_normal',activation='relu'))\n",
    "model2.add(Dense(units=336,kernel_initializer='he_normal',activation='relu'))\n",
    "model2.add(Dense(units=400,kernel_initializer='he_normal',activation='relu'))\n",
    "model2.add(Dense(units=80,kernel_initializer='he_normal',activation='relu'))\n",
    "model2.add(Dense(units=352,kernel_initializer='he_normal',activation='relu'))\n",
    "model2.add(Dense(units=64,kernel_initializer='he_normal',activation='relu'))\n",
    "model2.add(Dense(units=144,kernel_initializer='he_normal',activation='relu'))\n",
    "model2.add(Dense(units=208,kernel_initializer='he_normal',activation='relu'))\n",
    "model2.add(Dense(units=336,kernel_initializer='he_normal',activation='relu'))\n",
    "model2.add(Dense(units=96,kernel_initializer='he_normal',activation='relu'))\n",
    "model2.add(Dense(units=432,kernel_initializer='he_normal',activation='relu'))\n",
    "model2.add(Dense(units=384,kernel_initializer='he_normal',activation='relu'))\n",
    "model2.add(Dense(units=1,kernel_initializer='glorot_normal',activation='linear'))\n",
    "opt=Adam(lr=0.0001)\n",
    "model2.compile(optimizer=opt,loss='mean_squared_error',metrics=['mean_squared_error'])\n",
    "model2.summary()"
   ]
  },
  {
   "cell_type": "code",
   "execution_count": 177,
   "metadata": {
    "id": "6Pmm2DYSE-Cr"
   },
   "outputs": [
    {
     "name": "stdout",
     "output_type": "stream",
     "text": [
      "Epoch 1/100\n",
      "22/22 [==============================] - ETA: 1s - loss: 23821.9375 - mean_squared_error: 23821.93 - ETA: 16s - loss: 15584.7539 - mean_squared_error: 15584.753 - ETA: 11s - loss: 15011.8906 - mean_squared_error: 15011.890 - ETA: 9s - loss: 16113.2666 - mean_squared_error: 16113.266 - ETA: 7s - loss: 15438.5518 - mean_squared_error: 15438.55 - ETA: 6s - loss: 15458.0625 - mean_squared_error: 15458.06 - ETA: 5s - loss: 15228.2676 - mean_squared_error: 15228.26 - ETA: 5s - loss: 15386.5986 - mean_squared_error: 15386.59 - ETA: 4s - loss: 15493.6807 - mean_squared_error: 15493.68 - ETA: 4s - loss: 15261.5498 - mean_squared_error: 15261.54 - ETA: 3s - loss: 15112.5791 - mean_squared_error: 15112.57 - ETA: 3s - loss: 15199.3115 - mean_squared_error: 15199.31 - ETA: 2s - loss: 14899.9053 - mean_squared_error: 14899.90 - ETA: 1s - loss: 15100.6934 - mean_squared_error: 15100.69 - ETA: 1s - loss: 14544.5420 - mean_squared_error: 14544.54 - ETA: 0s - loss: 13891.3545 - mean_squared_error: 13891.35 - ETA: 0s - loss: 13696.9453 - mean_squared_error: 13696.94 - ETA: 0s - loss: 13302.8779 - mean_squared_error: 13302.87 - 12s 525ms/step - loss: 13302.8779 - mean_squared_error: 13302.8779 - val_loss: 9621.9473 - val_mean_squared_error: 9621.9473\n",
      "Epoch 2/100\n",
      "22/22 [==============================] - ETA: 0s - loss: 10055.2676 - mean_squared_error: 10055.26 - ETA: 3s - loss: 9215.5762 - mean_squared_error: 9215.5762 - ETA: 2s - loss: 9387.7852 - mean_squared_error: 9387.78 - ETA: 1s - loss: 8870.1562 - mean_squared_error: 8870.15 - ETA: 1s - loss: 8652.6914 - mean_squared_error: 8652.69 - ETA: 1s - loss: 8406.9893 - mean_squared_error: 8406.98 - ETA: 1s - loss: 8347.4336 - mean_squared_error: 8347.43 - ETA: 1s - loss: 8088.3735 - mean_squared_error: 8088.37 - ETA: 1s - loss: 7927.5337 - mean_squared_error: 7927.53 - ETA: 1s - loss: 7826.2944 - mean_squared_error: 7826.29 - ETA: 1s - loss: 7677.9824 - mean_squared_error: 7677.98 - ETA: 0s - loss: 7556.9282 - mean_squared_error: 7556.92 - ETA: 0s - loss: 7317.4902 - mean_squared_error: 7317.49 - ETA: 0s - loss: 7278.6123 - mean_squared_error: 7278.61 - ETA: 0s - loss: 7265.6074 - mean_squared_error: 7265.60 - ETA: 0s - loss: 7019.5239 - mean_squared_error: 7019.52 - ETA: 0s - loss: 6728.9414 - mean_squared_error: 6728.94 - ETA: 0s - loss: 6575.1265 - mean_squared_error: 6575.12 - ETA: 0s - loss: 6483.7817 - mean_squared_error: 6483.78 - ETA: 0s - loss: 6443.1846 - mean_squared_error: 6443.18 - ETA: 0s - loss: 6438.1851 - mean_squared_error: 6438.18 - ETA: 0s - loss: 6379.8013 - mean_squared_error: 6379.80 - 3s 115ms/step - loss: 6379.8013 - mean_squared_error: 6379.8013 - val_loss: 5357.6060 - val_mean_squared_error: 5357.6060\n",
      "Epoch 3/100\n",
      "22/22 [==============================] - ETA: 0s - loss: 5570.8047 - mean_squared_error: 5570.80 - ETA: 0s - loss: 4542.5728 - mean_squared_error: 4542.57 - ETA: 0s - loss: 4357.0166 - mean_squared_error: 4357.01 - ETA: 0s - loss: 3992.2500 - mean_squared_error: 3992.25 - ETA: 0s - loss: 4338.1060 - mean_squared_error: 4338.10 - ETA: 0s - loss: 4383.4897 - mean_squared_error: 4383.48 - ETA: 0s - loss: 4392.1934 - mean_squared_error: 4392.19 - ETA: 0s - loss: 4177.6143 - mean_squared_error: 4177.61 - ETA: 0s - loss: 4312.8721 - mean_squared_error: 4312.87 - ETA: 0s - loss: 4394.9429 - mean_squared_error: 4394.94 - ETA: 0s - loss: 4402.8877 - mean_squared_error: 4402.88 - ETA: 0s - loss: 4567.0947 - mean_squared_error: 4567.09 - ETA: 0s - loss: 4476.2314 - mean_squared_error: 4476.23 - ETA: 0s - loss: 4428.2197 - mean_squared_error: 4428.21 - ETA: 0s - loss: 4446.3315 - mean_squared_error: 4446.33 - ETA: 0s - loss: 4410.3066 - mean_squared_error: 4410.30 - ETA: 0s - loss: 4396.1631 - mean_squared_error: 4396.16 - ETA: 0s - loss: 4280.4487 - mean_squared_error: 4280.44 - 1s 68ms/step - loss: 4312.4497 - mean_squared_error: 4312.4497 - val_loss: 5048.6836 - val_mean_squared_error: 5048.6836\n",
      "Epoch 4/100\n",
      "22/22 [==============================] - ETA: 0s - loss: 4879.2920 - mean_squared_error: 4879.29 - ETA: 0s - loss: 4348.4966 - mean_squared_error: 4348.49 - ETA: 0s - loss: 4323.3853 - mean_squared_error: 4323.38 - ETA: 0s - loss: 3788.6118 - mean_squared_error: 3788.61 - ETA: 0s - loss: 3886.1235 - mean_squared_error: 3886.12 - ETA: 0s - loss: 3661.2617 - mean_squared_error: 3661.26 - ETA: 0s - loss: 3584.2310 - mean_squared_error: 3584.23 - ETA: 0s - loss: 3716.2629 - mean_squared_error: 3716.26 - ETA: 0s - loss: 3985.4263 - mean_squared_error: 3985.42 - ETA: 0s - loss: 3900.0286 - mean_squared_error: 3900.02 - ETA: 0s - loss: 3913.6865 - mean_squared_error: 3913.68 - ETA: 0s - loss: 4080.7595 - mean_squared_error: 4080.75 - ETA: 0s - loss: 4045.2979 - mean_squared_error: 4045.29 - ETA: 0s - loss: 4081.6067 - mean_squared_error: 4081.60 - ETA: 0s - loss: 3940.6711 - mean_squared_error: 3940.67 - ETA: 0s - loss: 3836.0413 - mean_squared_error: 3836.04 - ETA: 0s - loss: 3726.3804 - mean_squared_error: 3726.38 - ETA: 0s - loss: 3688.8025 - mean_squared_error: 3688.80 - ETA: 0s - loss: 3617.6665 - mean_squared_error: 3617.66 - ETA: 0s - loss: 3565.3562 - mean_squared_error: 3565.35 - ETA: 0s - loss: 3615.0208 - mean_squared_error: 3615.02 - 2s 70ms/step - loss: 3582.8613 - mean_squared_error: 3582.8613 - val_loss: 4499.4038 - val_mean_squared_error: 4499.4038\n",
      "Epoch 5/100\n",
      "22/22 [==============================] - ETA: 0s - loss: 4832.5757 - mean_squared_error: 4832.57 - ETA: 0s - loss: 4576.8281 - mean_squared_error: 4576.82 - ETA: 0s - loss: 3709.2656 - mean_squared_error: 3709.26 - ETA: 0s - loss: 3498.2061 - mean_squared_error: 3498.20 - ETA: 0s - loss: 3254.3818 - mean_squared_error: 3254.38 - ETA: 0s - loss: 3037.8806 - mean_squared_error: 3037.88 - ETA: 0s - loss: 3137.0312 - mean_squared_error: 3137.03 - ETA: 0s - loss: 3272.2568 - mean_squared_error: 3272.25 - ETA: 0s - loss: 3331.2434 - mean_squared_error: 3331.24 - ETA: 0s - loss: 3246.4268 - mean_squared_error: 3246.42 - ETA: 0s - loss: 3147.6250 - mean_squared_error: 3147.62 - ETA: 0s - loss: 3120.1396 - mean_squared_error: 3120.13 - ETA: 0s - loss: 3207.0298 - mean_squared_error: 3207.02 - ETA: 0s - loss: 3243.7048 - mean_squared_error: 3243.70 - ETA: 0s - loss: 3383.3752 - mean_squared_error: 3383.37 - ETA: 0s - loss: 3288.4265 - mean_squared_error: 3288.42 - ETA: 0s - loss: 3209.6401 - mean_squared_error: 3209.64 - ETA: 0s - loss: 3180.1760 - mean_squared_error: 3180.17 - ETA: 0s - loss: 3123.7432 - mean_squared_error: 3123.74 - ETA: 0s - loss: 3060.8657 - mean_squared_error: 3060.86 - 1s 65ms/step - loss: 3065.3979 - mean_squared_error: 3065.3979 - val_loss: 3684.6875 - val_mean_squared_error: 3684.6875\n",
      "Epoch 6/100\n",
      "22/22 [==============================] - ETA: 0s - loss: 3117.8066 - mean_squared_error: 3117.80 - ETA: 0s - loss: 2974.3555 - mean_squared_error: 2974.35 - ETA: 0s - loss: 3131.3718 - mean_squared_error: 3131.37 - ETA: 0s - loss: 2762.0706 - mean_squared_error: 2762.07 - ETA: 0s - loss: 2685.1055 - mean_squared_error: 2685.10 - ETA: 0s - loss: 2580.8835 - mean_squared_error: 2580.88 - ETA: 0s - loss: 2661.0547 - mean_squared_error: 2661.05 - ETA: 0s - loss: 2759.0825 - mean_squared_error: 2759.08 - ETA: 0s - loss: 2725.2080 - mean_squared_error: 2725.20 - ETA: 0s - loss: 2709.1584 - mean_squared_error: 2709.15 - ETA: 0s - loss: 2610.9583 - mean_squared_error: 2610.95 - ETA: 0s - loss: 2632.7961 - mean_squared_error: 2632.79 - ETA: 0s - loss: 2745.2847 - mean_squared_error: 2745.28 - ETA: 0s - loss: 2715.1541 - mean_squared_error: 2715.15 - ETA: 0s - loss: 2565.2017 - mean_squared_error: 2565.20 - ETA: 0s - loss: 2692.0723 - mean_squared_error: 2692.07 - ETA: 0s - loss: 2652.6538 - mean_squared_error: 2652.65 - ETA: 0s - loss: 2599.3838 - mean_squared_error: 2599.38 - 1s 63ms/step - loss: 2621.5168 - mean_squared_error: 2621.5168 - val_loss: 3462.3425 - val_mean_squared_error: 3462.3425\n",
      "Epoch 7/100\n"
     ]
    },
    {
     "name": "stdout",
     "output_type": "stream",
     "text": [
      "22/22 [==============================] - ETA: 0s - loss: 2072.3623 - mean_squared_error: 2072.36 - ETA: 0s - loss: 2191.7297 - mean_squared_error: 2191.72 - ETA: 0s - loss: 2444.6060 - mean_squared_error: 2444.60 - ETA: 0s - loss: 2256.1746 - mean_squared_error: 2256.17 - ETA: 0s - loss: 2363.7212 - mean_squared_error: 2363.72 - ETA: 0s - loss: 2236.8232 - mean_squared_error: 2236.82 - ETA: 0s - loss: 2264.9929 - mean_squared_error: 2264.99 - ETA: 0s - loss: 2239.0974 - mean_squared_error: 2239.09 - ETA: 0s - loss: 2127.8533 - mean_squared_error: 2127.85 - ETA: 0s - loss: 2124.9531 - mean_squared_error: 2124.95 - ETA: 0s - loss: 2127.7957 - mean_squared_error: 2127.79 - ETA: 0s - loss: 2334.4958 - mean_squared_error: 2334.49 - ETA: 0s - loss: 2402.0464 - mean_squared_error: 2402.04 - ETA: 0s - loss: 2387.5391 - mean_squared_error: 2387.53 - 1s 66ms/step - loss: 2387.5391 - mean_squared_error: 2387.5391 - val_loss: 3449.4622 - val_mean_squared_error: 3449.4622\n",
      "Epoch 8/100\n",
      "22/22 [==============================] - ETA: 0s - loss: 2324.3857 - mean_squared_error: 2324.38 - ETA: 0s - loss: 2396.0640 - mean_squared_error: 2396.06 - ETA: 0s - loss: 1983.8881 - mean_squared_error: 1983.88 - ETA: 0s - loss: 2211.2681 - mean_squared_error: 2211.26 - ETA: 0s - loss: 2117.5994 - mean_squared_error: 2117.59 - ETA: 0s - loss: 2357.0168 - mean_squared_error: 2357.01 - ETA: 0s - loss: 2331.2749 - mean_squared_error: 2331.27 - ETA: 0s - loss: 2307.6357 - mean_squared_error: 2307.63 - ETA: 0s - loss: 2259.6841 - mean_squared_error: 2259.68 - ETA: 0s - loss: 2211.6694 - mean_squared_error: 2211.66 - ETA: 0s - loss: 2228.3245 - mean_squared_error: 2228.32 - ETA: 0s - loss: 2396.2231 - mean_squared_error: 2396.22 - ETA: 0s - loss: 2434.1995 - mean_squared_error: 2434.19 - ETA: 0s - loss: 2423.7759 - mean_squared_error: 2423.77 - ETA: 0s - loss: 2452.0852 - mean_squared_error: 2452.08 - ETA: 0s - loss: 2506.8550 - mean_squared_error: 2506.85 - ETA: 0s - loss: 2593.0352 - mean_squared_error: 2593.03 - ETA: 0s - loss: 2538.0405 - mean_squared_error: 2538.04 - ETA: 0s - loss: 2553.3372 - mean_squared_error: 2553.33 - ETA: 0s - loss: 2543.5117 - mean_squared_error: 2543.51 - 1s 63ms/step - loss: 2543.5117 - mean_squared_error: 2543.5117 - val_loss: 3227.0322 - val_mean_squared_error: 3227.0322\n",
      "Epoch 9/100\n",
      "22/22 [==============================] - ETA: 0s - loss: 2250.1667 - mean_squared_error: 2250.16 - ETA: 0s - loss: 2448.7957 - mean_squared_error: 2448.79 - ETA: 0s - loss: 2293.9705 - mean_squared_error: 2293.97 - ETA: 0s - loss: 2385.3459 - mean_squared_error: 2385.34 - ETA: 0s - loss: 2286.8740 - mean_squared_error: 2286.87 - ETA: 0s - loss: 2238.1804 - mean_squared_error: 2238.18 - ETA: 0s - loss: 2163.2297 - mean_squared_error: 2163.22 - ETA: 0s - loss: 2129.2617 - mean_squared_error: 2129.26 - ETA: 0s - loss: 2126.3765 - mean_squared_error: 2126.37 - ETA: 0s - loss: 2019.9891 - mean_squared_error: 2019.98 - ETA: 0s - loss: 2065.7637 - mean_squared_error: 2065.76 - ETA: 0s - loss: 1978.3112 - mean_squared_error: 1978.31 - ETA: 0s - loss: 1958.2014 - mean_squared_error: 1958.20 - ETA: 0s - loss: 2031.6780 - mean_squared_error: 2031.67 - ETA: 0s - loss: 1973.5157 - mean_squared_error: 1973.51 - ETA: 0s - loss: 2026.4573 - mean_squared_error: 2026.45 - ETA: 0s - loss: 2091.9111 - mean_squared_error: 2091.91 - ETA: 0s - loss: 2112.6252 - mean_squared_error: 2112.62 - ETA: 0s - loss: 2078.2971 - mean_squared_error: 2078.29 - ETA: 0s - loss: 2091.3953 - mean_squared_error: 2091.39 - 1s 64ms/step - loss: 2070.1995 - mean_squared_error: 2070.1995 - val_loss: 3412.8660 - val_mean_squared_error: 3412.8660\n",
      "Epoch 10/100\n",
      "22/22 [==============================] - ETA: 0s - loss: 1019.2701 - mean_squared_error: 1019.27 - ETA: 0s - loss: 1976.5300 - mean_squared_error: 1976.53 - ETA: 0s - loss: 1750.5294 - mean_squared_error: 1750.52 - ETA: 0s - loss: 1863.0780 - mean_squared_error: 1863.07 - ETA: 0s - loss: 1636.4760 - mean_squared_error: 1636.47 - ETA: 0s - loss: 1670.8956 - mean_squared_error: 1670.89 - ETA: 0s - loss: 1697.5792 - mean_squared_error: 1697.57 - ETA: 0s - loss: 1682.6853 - mean_squared_error: 1682.68 - ETA: 0s - loss: 1883.6819 - mean_squared_error: 1883.68 - ETA: 0s - loss: 1794.5007 - mean_squared_error: 1794.50 - ETA: 0s - loss: 1940.8091 - mean_squared_error: 1940.80 - ETA: 0s - loss: 1909.3612 - mean_squared_error: 1909.36 - ETA: 0s - loss: 1890.3563 - mean_squared_error: 1890.35 - ETA: 0s - loss: 1990.8114 - mean_squared_error: 1990.81 - ETA: 0s - loss: 2040.3755 - mean_squared_error: 2040.37 - ETA: 0s - loss: 2039.4495 - mean_squared_error: 2039.44 - ETA: 0s - loss: 2057.1021 - mean_squared_error: 2057.10 - ETA: 0s - loss: 2031.2202 - mean_squared_error: 2031.22 - 1s 62ms/step - loss: 2013.8188 - mean_squared_error: 2013.8188 - val_loss: 3145.5647 - val_mean_squared_error: 3145.5647\n",
      "Epoch 11/100\n",
      "22/22 [==============================] - ETA: 0s - loss: 1030.7783 - mean_squared_error: 1030.77 - ETA: 0s - loss: 1971.2327 - mean_squared_error: 1971.23 - ETA: 0s - loss: 1681.5771 - mean_squared_error: 1681.57 - ETA: 0s - loss: 1946.7861 - mean_squared_error: 1946.78 - ETA: 0s - loss: 1822.6403 - mean_squared_error: 1822.64 - ETA: 0s - loss: 1874.5446 - mean_squared_error: 1874.54 - ETA: 0s - loss: 1718.8983 - mean_squared_error: 1718.89 - ETA: 0s - loss: 1761.1323 - mean_squared_error: 1761.13 - ETA: 0s - loss: 1771.2375 - mean_squared_error: 1771.23 - ETA: 0s - loss: 1700.9569 - mean_squared_error: 1700.95 - ETA: 0s - loss: 1810.9462 - mean_squared_error: 1810.94 - ETA: 0s - loss: 1826.7678 - mean_squared_error: 1826.76 - ETA: 0s - loss: 1850.2356 - mean_squared_error: 1850.23 - ETA: 0s - loss: 1959.3746 - mean_squared_error: 1959.37 - ETA: 0s - loss: 1967.6948 - mean_squared_error: 1967.69 - ETA: 0s - loss: 1841.0691 - mean_squared_error: 1841.06 - ETA: 0s - loss: 1869.0315 - mean_squared_error: 1869.03 - ETA: 0s - loss: 1846.9628 - mean_squared_error: 1846.96 - 1s 62ms/step - loss: 1846.8455 - mean_squared_error: 1846.8455 - val_loss: 3287.0415 - val_mean_squared_error: 3287.0415\n",
      "Epoch 12/100\n",
      "22/22 [==============================] - ETA: 0s - loss: 3023.5491 - mean_squared_error: 3023.54 - ETA: 0s - loss: 2926.2251 - mean_squared_error: 2926.22 - ETA: 0s - loss: 2607.6111 - mean_squared_error: 2607.61 - ETA: 0s - loss: 2466.2393 - mean_squared_error: 2466.23 - ETA: 0s - loss: 2546.8284 - mean_squared_error: 2546.82 - ETA: 0s - loss: 2462.2639 - mean_squared_error: 2462.26 - ETA: 0s - loss: 2374.4302 - mean_squared_error: 2374.43 - ETA: 0s - loss: 2227.8401 - mean_squared_error: 2227.84 - ETA: 0s - loss: 2103.3284 - mean_squared_error: 2103.32 - ETA: 0s - loss: 2047.5878 - mean_squared_error: 2047.58 - ETA: 0s - loss: 1960.0656 - mean_squared_error: 1960.06 - ETA: 0s - loss: 1867.5012 - mean_squared_error: 1867.50 - ETA: 0s - loss: 1826.5027 - mean_squared_error: 1826.50 - ETA: 0s - loss: 1851.4856 - mean_squared_error: 1851.48 - ETA: 0s - loss: 1849.0116 - mean_squared_error: 1849.01 - ETA: 0s - loss: 1880.0929 - mean_squared_error: 1880.09 - ETA: 0s - loss: 1866.1854 - mean_squared_error: 1866.18 - ETA: 0s - loss: 1870.4075 - mean_squared_error: 1870.40 - ETA: 0s - loss: 1875.2777 - mean_squared_error: 1875.27 - 1s 61ms/step - loss: 1875.2777 - mean_squared_error: 1875.2777 - val_loss: 2846.4165 - val_mean_squared_error: 2846.4165\n",
      "Epoch 13/100\n"
     ]
    },
    {
     "name": "stdout",
     "output_type": "stream",
     "text": [
      "22/22 [==============================] - ETA: 0s - loss: 1903.3943 - mean_squared_error: 1903.39 - ETA: 0s - loss: 1611.9591 - mean_squared_error: 1611.95 - ETA: 0s - loss: 1477.1592 - mean_squared_error: 1477.15 - ETA: 0s - loss: 1301.3025 - mean_squared_error: 1301.30 - ETA: 0s - loss: 1387.5889 - mean_squared_error: 1387.58 - ETA: 0s - loss: 1528.4095 - mean_squared_error: 1528.40 - ETA: 0s - loss: 1550.6699 - mean_squared_error: 1550.66 - ETA: 0s - loss: 1574.1255 - mean_squared_error: 1574.12 - ETA: 0s - loss: 1593.0581 - mean_squared_error: 1593.05 - ETA: 0s - loss: 1582.3867 - mean_squared_error: 1582.38 - ETA: 0s - loss: 1664.9025 - mean_squared_error: 1664.90 - ETA: 0s - loss: 1646.3870 - mean_squared_error: 1646.38 - ETA: 0s - loss: 1598.6276 - mean_squared_error: 1598.62 - ETA: 0s - loss: 1677.9896 - mean_squared_error: 1677.98 - ETA: 0s - loss: 1673.3519 - mean_squared_error: 1673.35 - ETA: 0s - loss: 1637.6469 - mean_squared_error: 1637.64 - ETA: 0s - loss: 1626.1882 - mean_squared_error: 1626.18 - ETA: 0s - loss: 1622.2303 - mean_squared_error: 1622.23 - ETA: 0s - loss: 1617.2373 - mean_squared_error: 1617.23 - ETA: 0s - loss: 1617.6499 - mean_squared_error: 1617.64 - 1s 65ms/step - loss: 1617.6499 - mean_squared_error: 1617.6499 - val_loss: 2937.3066 - val_mean_squared_error: 2937.3066\n",
      "Epoch 14/100\n",
      "22/22 [==============================] - ETA: 0s - loss: 1842.3937 - mean_squared_error: 1842.39 - ETA: 0s - loss: 1165.3003 - mean_squared_error: 1165.30 - ETA: 0s - loss: 1001.2003 - mean_squared_error: 1001.20 - ETA: 0s - loss: 1489.8558 - mean_squared_error: 1489.85 - ETA: 0s - loss: 1586.3151 - mean_squared_error: 1586.31 - ETA: 0s - loss: 1548.9709 - mean_squared_error: 1548.97 - ETA: 0s - loss: 1605.4323 - mean_squared_error: 1605.43 - ETA: 0s - loss: 1564.6968 - mean_squared_error: 1564.69 - ETA: 0s - loss: 1530.9355 - mean_squared_error: 1530.93 - ETA: 0s - loss: 1519.6466 - mean_squared_error: 1519.64 - ETA: 0s - loss: 1515.5927 - mean_squared_error: 1515.59 - ETA: 0s - loss: 1694.2827 - mean_squared_error: 1694.28 - ETA: 0s - loss: 1715.1975 - mean_squared_error: 1715.19 - ETA: 0s - loss: 1743.0256 - mean_squared_error: 1743.02 - ETA: 0s - loss: 1730.5221 - mean_squared_error: 1730.52 - ETA: 0s - loss: 1783.3888 - mean_squared_error: 1783.38 - ETA: 0s - loss: 1732.1254 - mean_squared_error: 1732.12 - ETA: 0s - loss: 1705.6257 - mean_squared_error: 1705.62 - 1s 59ms/step - loss: 1667.0796 - mean_squared_error: 1667.0796 - val_loss: 2822.9688 - val_mean_squared_error: 2822.9688\n",
      "Epoch 15/100\n",
      "22/22 [==============================] - ETA: 0s - loss: 2121.6550 - mean_squared_error: 2121.65 - ETA: 0s - loss: 1677.3013 - mean_squared_error: 1677.30 - ETA: 0s - loss: 1947.9213 - mean_squared_error: 1947.92 - ETA: 0s - loss: 1795.9890 - mean_squared_error: 1795.98 - ETA: 0s - loss: 1617.2413 - mean_squared_error: 1617.24 - ETA: 0s - loss: 1491.2374 - mean_squared_error: 1491.23 - ETA: 0s - loss: 1471.3212 - mean_squared_error: 1471.32 - ETA: 0s - loss: 1390.5365 - mean_squared_error: 1390.53 - ETA: 0s - loss: 1439.2660 - mean_squared_error: 1439.26 - ETA: 0s - loss: 1557.8605 - mean_squared_error: 1557.86 - ETA: 0s - loss: 1494.9261 - mean_squared_error: 1494.92 - ETA: 0s - loss: 1485.0773 - mean_squared_error: 1485.07 - ETA: 0s - loss: 1557.3344 - mean_squared_error: 1557.33 - ETA: 0s - loss: 1577.8118 - mean_squared_error: 1577.81 - ETA: 0s - loss: 1562.3420 - mean_squared_error: 1562.34 - ETA: 0s - loss: 1566.6559 - mean_squared_error: 1566.65 - ETA: 0s - loss: 1554.3276 - mean_squared_error: 1554.32 - ETA: 0s - loss: 1541.7028 - mean_squared_error: 1541.70 - ETA: 0s - loss: 1511.9574 - mean_squared_error: 1511.95 - ETA: 0s - loss: 1488.0125 - mean_squared_error: 1488.01 - ETA: 0s - loss: 1472.6781 - mean_squared_error: 1472.67 - 1s 60ms/step - loss: 1472.6781 - mean_squared_error: 1472.6781 - val_loss: 2849.0708 - val_mean_squared_error: 2849.0708\n",
      "Epoch 16/100\n",
      "22/22 [==============================] - ETA: 0s - loss: 1204.3569 - mean_squared_error: 1204.35 - ETA: 0s - loss: 1181.0527 - mean_squared_error: 1181.05 - ETA: 0s - loss: 1159.7144 - mean_squared_error: 1159.71 - ETA: 0s - loss: 1199.8535 - mean_squared_error: 1199.85 - ETA: 0s - loss: 1165.8711 - mean_squared_error: 1165.87 - ETA: 0s - loss: 1305.8353 - mean_squared_error: 1305.83 - ETA: 0s - loss: 1319.9498 - mean_squared_error: 1319.94 - ETA: 0s - loss: 1252.2993 - mean_squared_error: 1252.29 - ETA: 0s - loss: 1213.2633 - mean_squared_error: 1213.26 - ETA: 0s - loss: 1260.7704 - mean_squared_error: 1260.77 - ETA: 0s - loss: 1254.0187 - mean_squared_error: 1254.01 - ETA: 0s - loss: 1313.3131 - mean_squared_error: 1313.31 - ETA: 0s - loss: 1291.8750 - mean_squared_error: 1291.87 - ETA: 0s - loss: 1307.4891 - mean_squared_error: 1307.48 - ETA: 0s - loss: 1409.4613 - mean_squared_error: 1409.46 - ETA: 0s - loss: 1417.5728 - mean_squared_error: 1417.57 - ETA: 0s - loss: 1396.5309 - mean_squared_error: 1396.53 - ETA: 0s - loss: 1396.3577 - mean_squared_error: 1396.35 - ETA: 0s - loss: 1469.5748 - mean_squared_error: 1469.57 - ETA: 0s - loss: 1444.8752 - mean_squared_error: 1444.87 - 1s 63ms/step - loss: 1419.7900 - mean_squared_error: 1419.7900 - val_loss: 2989.4207 - val_mean_squared_error: 2989.4207\n",
      "Epoch 17/100\n",
      "22/22 [==============================] - ETA: 0s - loss: 1384.8987 - mean_squared_error: 1384.89 - ETA: 0s - loss: 2165.6733 - mean_squared_error: 2165.67 - ETA: 0s - loss: 1981.9326 - mean_squared_error: 1981.93 - ETA: 0s - loss: 1840.2778 - mean_squared_error: 1840.27 - ETA: 0s - loss: 1894.7867 - mean_squared_error: 1894.78 - ETA: 0s - loss: 1870.8237 - mean_squared_error: 1870.82 - ETA: 0s - loss: 1603.0037 - mean_squared_error: 1603.00 - ETA: 0s - loss: 1530.1117 - mean_squared_error: 1530.11 - ETA: 0s - loss: 1495.9108 - mean_squared_error: 1495.91 - ETA: 0s - loss: 1488.4756 - mean_squared_error: 1488.47 - ETA: 0s - loss: 1476.5846 - mean_squared_error: 1476.58 - ETA: 0s - loss: 1474.0798 - mean_squared_error: 1474.07 - ETA: 0s - loss: 1414.5649 - mean_squared_error: 1414.56 - ETA: 0s - loss: 1408.9625 - mean_squared_error: 1408.96 - ETA: 0s - loss: 1385.7889 - mean_squared_error: 1385.78 - ETA: 0s - loss: 1386.5286 - mean_squared_error: 1386.52 - ETA: 0s - loss: 1376.4307 - mean_squared_error: 1376.43 - ETA: 0s - loss: 1358.5809 - mean_squared_error: 1358.58 - ETA: 0s - loss: 1381.8298 - mean_squared_error: 1381.82 - 1s 60ms/step - loss: 1381.8298 - mean_squared_error: 1381.8298 - val_loss: 2505.3794 - val_mean_squared_error: 2505.3794\n",
      "Epoch 18/100\n",
      "22/22 [==============================] - ETA: 0s - loss: 1622.9657 - mean_squared_error: 1622.96 - ETA: 0s - loss: 1261.2205 - mean_squared_error: 1261.22 - ETA: 0s - loss: 1086.6547 - mean_squared_error: 1086.65 - ETA: 0s - loss: 1118.8331 - mean_squared_error: 1118.83 - ETA: 0s - loss: 1007.8372 - mean_squared_error: 1007.83 - ETA: 0s - loss: 1011.3699 - mean_squared_error: 1011.36 - ETA: 0s - loss: 1083.5912 - mean_squared_error: 1083.59 - ETA: 0s - loss: 1107.7589 - mean_squared_error: 1107.75 - ETA: 0s - loss: 1139.7123 - mean_squared_error: 1139.71 - ETA: 0s - loss: 1178.8018 - mean_squared_error: 1178.80 - ETA: 0s - loss: 1145.5670 - mean_squared_error: 1145.56 - ETA: 0s - loss: 1140.4611 - mean_squared_error: 1140.46 - ETA: 0s - loss: 1168.5715 - mean_squared_error: 1168.57 - ETA: 0s - loss: 1201.5630 - mean_squared_error: 1201.56 - ETA: 0s - loss: 1218.9945 - mean_squared_error: 1218.99 - ETA: 0s - loss: 1189.9003 - mean_squared_error: 1189.90 - ETA: 0s - loss: 1171.5210 - mean_squared_error: 1171.52 - ETA: 0s - loss: 1153.4064 - mean_squared_error: 1153.40 - ETA: 0s - loss: 1130.6642 - mean_squared_error: 1130.66 - ETA: 0s - loss: 1159.4604 - mean_squared_error: 1159.46 - 1s 61ms/step - loss: 1159.4604 - mean_squared_error: 1159.4604 - val_loss: 2684.5129 - val_mean_squared_error: 2684.5129\n",
      "Epoch 19/100\n"
     ]
    },
    {
     "name": "stdout",
     "output_type": "stream",
     "text": [
      "22/22 [==============================] - ETA: 0s - loss: 842.5591 - mean_squared_error: 842.55 - ETA: 0s - loss: 855.8065 - mean_squared_error: 855.80 - ETA: 0s - loss: 1022.1340 - mean_squared_error: 1022.13 - ETA: 0s - loss: 1137.3538 - mean_squared_error: 1137.35 - ETA: 0s - loss: 1259.8755 - mean_squared_error: 1259.87 - ETA: 0s - loss: 1198.1825 - mean_squared_error: 1198.18 - ETA: 0s - loss: 1139.3876 - mean_squared_error: 1139.38 - ETA: 0s - loss: 1092.0708 - mean_squared_error: 1092.07 - ETA: 0s - loss: 1081.5289 - mean_squared_error: 1081.52 - ETA: 0s - loss: 1089.5498 - mean_squared_error: 1089.54 - ETA: 0s - loss: 1042.9034 - mean_squared_error: 1042.90 - ETA: 0s - loss: 1110.7437 - mean_squared_error: 1110.74 - ETA: 0s - loss: 1076.2517 - mean_squared_error: 1076.25 - ETA: 0s - loss: 1119.1887 - mean_squared_error: 1119.18 - ETA: 0s - loss: 1129.8705 - mean_squared_error: 1129.87 - ETA: 0s - loss: 1102.4183 - mean_squared_error: 1102.41 - ETA: 0s - loss: 1094.0795 - mean_squared_error: 1094.07 - ETA: 0s - loss: 1077.6462 - mean_squared_error: 1077.64 - 1s 61ms/step - loss: 1090.6881 - mean_squared_error: 1090.6881 - val_loss: 2325.5576 - val_mean_squared_error: 2325.5576\n",
      "Epoch 20/100\n",
      "22/22 [==============================] - ETA: 0s - loss: 413.5829 - mean_squared_error: 413.58 - ETA: 0s - loss: 522.2618 - mean_squared_error: 522.26 - ETA: 0s - loss: 516.8502 - mean_squared_error: 516.85 - ETA: 0s - loss: 559.1768 - mean_squared_error: 559.17 - ETA: 0s - loss: 648.0986 - mean_squared_error: 648.09 - ETA: 0s - loss: 662.7163 - mean_squared_error: 662.71 - ETA: 0s - loss: 629.6542 - mean_squared_error: 629.65 - ETA: 0s - loss: 676.0637 - mean_squared_error: 676.06 - ETA: 0s - loss: 695.0398 - mean_squared_error: 695.03 - ETA: 0s - loss: 819.9160 - mean_squared_error: 819.91 - ETA: 0s - loss: 857.9943 - mean_squared_error: 857.99 - ETA: 0s - loss: 885.7516 - mean_squared_error: 885.75 - ETA: 0s - loss: 915.2998 - mean_squared_error: 915.29 - ETA: 0s - loss: 905.8565 - mean_squared_error: 905.85 - ETA: 0s - loss: 887.2137 - mean_squared_error: 887.21 - ETA: 0s - loss: 939.8603 - mean_squared_error: 939.86 - ETA: 0s - loss: 934.5297 - mean_squared_error: 934.52 - ETA: 0s - loss: 943.1980 - mean_squared_error: 943.19 - 1s 61ms/step - loss: 942.0842 - mean_squared_error: 942.0842 - val_loss: 2688.7593 - val_mean_squared_error: 2688.7593\n",
      "Epoch 21/100\n",
      "22/22 [==============================] - ETA: 0s - loss: 1515.4951 - mean_squared_error: 1515.49 - ETA: 0s - loss: 1034.5376 - mean_squared_error: 1034.53 - ETA: 0s - loss: 851.0596 - mean_squared_error: 851.0596 - ETA: 0s - loss: 907.3540 - mean_squared_error: 907.35 - ETA: 0s - loss: 932.4555 - mean_squared_error: 932.45 - ETA: 0s - loss: 886.6938 - mean_squared_error: 886.69 - ETA: 0s - loss: 878.4163 - mean_squared_error: 878.41 - ETA: 0s - loss: 913.5959 - mean_squared_error: 913.59 - ETA: 0s - loss: 878.1729 - mean_squared_error: 878.17 - ETA: 0s - loss: 883.8789 - mean_squared_error: 883.87 - ETA: 0s - loss: 906.8945 - mean_squared_error: 906.89 - ETA: 0s - loss: 887.6290 - mean_squared_error: 887.62 - ETA: 0s - loss: 859.6199 - mean_squared_error: 859.61 - ETA: 0s - loss: 903.5095 - mean_squared_error: 903.50 - ETA: 0s - loss: 930.5728 - mean_squared_error: 930.57 - 1s 55ms/step - loss: 939.9292 - mean_squared_error: 939.9292 - val_loss: 2378.0715 - val_mean_squared_error: 2378.0715\n",
      "Epoch 22/100\n",
      "22/22 [==============================] - ETA: 0s - loss: 502.1395 - mean_squared_error: 502.13 - ETA: 0s - loss: 730.1942 - mean_squared_error: 730.19 - ETA: 0s - loss: 603.9101 - mean_squared_error: 603.91 - ETA: 0s - loss: 643.7239 - mean_squared_error: 643.72 - ETA: 0s - loss: 704.3081 - mean_squared_error: 704.30 - ETA: 0s - loss: 769.0738 - mean_squared_error: 769.07 - ETA: 0s - loss: 745.5745 - mean_squared_error: 745.57 - ETA: 0s - loss: 810.7573 - mean_squared_error: 810.75 - ETA: 0s - loss: 851.9135 - mean_squared_error: 851.91 - ETA: 0s - loss: 841.6474 - mean_squared_error: 841.64 - ETA: 0s - loss: 857.7497 - mean_squared_error: 857.74 - ETA: 0s - loss: 906.6257 - mean_squared_error: 906.62 - ETA: 0s - loss: 894.6844 - mean_squared_error: 894.68 - ETA: 0s - loss: 870.4391 - mean_squared_error: 870.43 - ETA: 0s - loss: 862.9676 - mean_squared_error: 862.96 - ETA: 0s - loss: 859.2172 - mean_squared_error: 859.21 - ETA: 0s - loss: 856.6218 - mean_squared_error: 856.62 - 1s 62ms/step - loss: 847.7371 - mean_squared_error: 847.7371 - val_loss: 2300.3987 - val_mean_squared_error: 2300.3987\n",
      "Epoch 23/100\n",
      "22/22 [==============================] - ETA: 0s - loss: 688.0909 - mean_squared_error: 688.09 - ETA: 0s - loss: 727.4879 - mean_squared_error: 727.48 - ETA: 0s - loss: 735.7831 - mean_squared_error: 735.78 - ETA: 0s - loss: 746.4669 - mean_squared_error: 746.46 - ETA: 0s - loss: 859.8895 - mean_squared_error: 859.88 - ETA: 0s - loss: 829.8491 - mean_squared_error: 829.84 - ETA: 0s - loss: 878.0922 - mean_squared_error: 878.09 - ETA: 0s - loss: 839.8522 - mean_squared_error: 839.85 - ETA: 0s - loss: 826.6313 - mean_squared_error: 826.63 - ETA: 0s - loss: 766.4070 - mean_squared_error: 766.40 - ETA: 0s - loss: 760.6185 - mean_squared_error: 760.61 - ETA: 0s - loss: 730.8931 - mean_squared_error: 730.89 - ETA: 0s - loss: 731.7889 - mean_squared_error: 731.78 - ETA: 0s - loss: 729.9885 - mean_squared_error: 729.98 - ETA: 0s - loss: 725.1580 - mean_squared_error: 725.15 - ETA: 0s - loss: 726.3044 - mean_squared_error: 726.30 - ETA: 0s - loss: 741.6251 - mean_squared_error: 741.62 - ETA: 0s - loss: 754.3528 - mean_squared_error: 754.35 - 1s 62ms/step - loss: 780.9923 - mean_squared_error: 780.9923 - val_loss: 2299.2324 - val_mean_squared_error: 2299.2324\n",
      "Epoch 24/100\n",
      "22/22 [==============================] - ETA: 0s - loss: 361.2473 - mean_squared_error: 361.24 - ETA: 0s - loss: 402.2077 - mean_squared_error: 402.20 - ETA: 0s - loss: 545.8150 - mean_squared_error: 545.81 - ETA: 1s - loss: 636.2092 - mean_squared_error: 636.20 - ETA: 0s - loss: 557.1121 - mean_squared_error: 557.11 - ETA: 0s - loss: 678.4391 - mean_squared_error: 678.43 - ETA: 0s - loss: 658.9763 - mean_squared_error: 658.97 - ETA: 0s - loss: 675.0722 - mean_squared_error: 675.07 - ETA: 0s - loss: 689.5853 - mean_squared_error: 689.58 - ETA: 0s - loss: 668.2116 - mean_squared_error: 668.21 - ETA: 0s - loss: 693.0806 - mean_squared_error: 693.08 - ETA: 0s - loss: 675.3853 - mean_squared_error: 675.38 - ETA: 0s - loss: 674.0976 - mean_squared_error: 674.09 - ETA: 0s - loss: 648.7950 - mean_squared_error: 648.79 - ETA: 0s - loss: 671.6837 - mean_squared_error: 671.68 - ETA: 0s - loss: 670.5833 - mean_squared_error: 670.58 - ETA: 0s - loss: 660.8580 - mean_squared_error: 660.85 - ETA: 0s - loss: 688.0184 - mean_squared_error: 688.01 - ETA: 0s - loss: 677.4365 - mean_squared_error: 677.43 - 1s 65ms/step - loss: 736.5768 - mean_squared_error: 736.5768 - val_loss: 2274.8748 - val_mean_squared_error: 2274.8748\n",
      "Epoch 25/100\n",
      "22/22 [==============================] - ETA: 0s - loss: 672.7378 - mean_squared_error: 672.73 - ETA: 0s - loss: 661.4949 - mean_squared_error: 661.49 - ETA: 0s - loss: 593.0774 - mean_squared_error: 593.07 - ETA: 0s - loss: 551.9653 - mean_squared_error: 551.96 - ETA: 0s - loss: 660.7354 - mean_squared_error: 660.73 - ETA: 0s - loss: 673.8394 - mean_squared_error: 673.83 - ETA: 0s - loss: 678.4790 - mean_squared_error: 678.47 - ETA: 0s - loss: 670.1375 - mean_squared_error: 670.13 - ETA: 0s - loss: 683.8320 - mean_squared_error: 683.83 - ETA: 0s - loss: 725.0557 - mean_squared_error: 725.05 - ETA: 0s - loss: 699.0534 - mean_squared_error: 699.05 - ETA: 0s - loss: 701.1217 - mean_squared_error: 701.12 - ETA: 0s - loss: 721.4852 - mean_squared_error: 721.48 - ETA: 0s - loss: 716.8457 - mean_squared_error: 716.84 - ETA: 0s - loss: 709.9518 - mean_squared_error: 709.95 - ETA: 0s - loss: 725.1841 - mean_squared_error: 725.18 - ETA: 0s - loss: 712.1251 - mean_squared_error: 712.12 - ETA: 0s - loss: 697.4286 - mean_squared_error: 697.42 - ETA: 0s - loss: 695.9695 - mean_squared_error: 695.96 - ETA: 0s - loss: 711.4946 - mean_squared_error: 711.49 - 1s 62ms/step - loss: 711.4946 - mean_squared_error: 711.4946 - val_loss: 2956.8945 - val_mean_squared_error: 2956.8945\n"
     ]
    },
    {
     "name": "stdout",
     "output_type": "stream",
     "text": [
      "Epoch 26/100\n",
      "22/22 [==============================] - ETA: 0s - loss: 831.5737 - mean_squared_error: 831.57 - ETA: 0s - loss: 1077.8942 - mean_squared_error: 1077.89 - ETA: 0s - loss: 1062.0013 - mean_squared_error: 1062.00 - ETA: 0s - loss: 958.7144 - mean_squared_error: 958.7144 - ETA: 0s - loss: 885.8655 - mean_squared_error: 885.86 - ETA: 0s - loss: 852.2682 - mean_squared_error: 852.26 - ETA: 0s - loss: 824.1562 - mean_squared_error: 824.15 - ETA: 0s - loss: 790.8726 - mean_squared_error: 790.87 - ETA: 0s - loss: 765.7209 - mean_squared_error: 765.72 - ETA: 0s - loss: 756.6086 - mean_squared_error: 756.60 - ETA: 0s - loss: 723.9517 - mean_squared_error: 723.95 - ETA: 0s - loss: 724.8570 - mean_squared_error: 724.85 - ETA: 0s - loss: 780.7447 - mean_squared_error: 780.74 - ETA: 0s - loss: 780.4296 - mean_squared_error: 780.42 - ETA: 0s - loss: 767.3082 - mean_squared_error: 767.30 - ETA: 0s - loss: 783.5639 - mean_squared_error: 783.56 - ETA: 0s - loss: 770.2974 - mean_squared_error: 770.29 - ETA: 0s - loss: 757.4874 - mean_squared_error: 757.48 - 1s 60ms/step - loss: 757.4874 - mean_squared_error: 757.4874 - val_loss: 2377.7009 - val_mean_squared_error: 2377.7009\n",
      "Epoch 27/100\n",
      "22/22 [==============================] - ETA: 0s - loss: 290.5646 - mean_squared_error: 290.56 - ETA: 0s - loss: 308.5259 - mean_squared_error: 308.52 - ETA: 0s - loss: 425.9245 - mean_squared_error: 425.92 - ETA: 0s - loss: 669.2075 - mean_squared_error: 669.20 - ETA: 0s - loss: 606.8464 - mean_squared_error: 606.84 - ETA: 0s - loss: 617.3348 - mean_squared_error: 617.33 - ETA: 0s - loss: 681.4529 - mean_squared_error: 681.45 - ETA: 0s - loss: 656.0992 - mean_squared_error: 656.09 - ETA: 0s - loss: 664.1432 - mean_squared_error: 664.14 - ETA: 0s - loss: 670.1766 - mean_squared_error: 670.17 - ETA: 0s - loss: 634.7838 - mean_squared_error: 634.78 - ETA: 0s - loss: 613.5800 - mean_squared_error: 613.58 - ETA: 0s - loss: 617.3149 - mean_squared_error: 617.31 - ETA: 0s - loss: 594.0795 - mean_squared_error: 594.07 - ETA: 0s - loss: 594.1537 - mean_squared_error: 594.15 - ETA: 0s - loss: 600.4240 - mean_squared_error: 600.42 - ETA: 0s - loss: 624.6172 - mean_squared_error: 624.61 - ETA: 0s - loss: 619.5691 - mean_squared_error: 619.56 - ETA: 0s - loss: 652.4132 - mean_squared_error: 652.41 - 1s 66ms/step - loss: 653.4221 - mean_squared_error: 653.4221 - val_loss: 2132.4866 - val_mean_squared_error: 2132.4866\n",
      "Epoch 28/100\n",
      "22/22 [==============================] - ETA: 0s - loss: 433.4958 - mean_squared_error: 433.49 - ETA: 0s - loss: 495.2811 - mean_squared_error: 495.28 - ETA: 0s - loss: 593.4681 - mean_squared_error: 593.46 - ETA: 0s - loss: 507.3963 - mean_squared_error: 507.39 - ETA: 0s - loss: 482.2621 - mean_squared_error: 482.26 - ETA: 0s - loss: 490.1195 - mean_squared_error: 490.11 - ETA: 0s - loss: 469.8230 - mean_squared_error: 469.82 - ETA: 0s - loss: 581.3825 - mean_squared_error: 581.38 - ETA: 0s - loss: 545.7418 - mean_squared_error: 545.74 - ETA: 0s - loss: 554.8055 - mean_squared_error: 554.80 - ETA: 0s - loss: 540.9319 - mean_squared_error: 540.93 - ETA: 0s - loss: 567.7370 - mean_squared_error: 567.73 - ETA: 0s - loss: 566.0125 - mean_squared_error: 566.01 - ETA: 0s - loss: 624.2073 - mean_squared_error: 624.20 - ETA: 0s - loss: 622.8179 - mean_squared_error: 622.81 - ETA: 0s - loss: 678.0772 - mean_squared_error: 678.07 - ETA: 0s - loss: 666.8187 - mean_squared_error: 666.81 - ETA: 0s - loss: 666.2850 - mean_squared_error: 666.28 - ETA: 0s - loss: 686.9883 - mean_squared_error: 686.98 - 1s 63ms/step - loss: 686.4206 - mean_squared_error: 686.4206 - val_loss: 2207.7903 - val_mean_squared_error: 2207.7903\n",
      "Epoch 29/100\n",
      "22/22 [==============================] - ETA: 0s - loss: 559.5485 - mean_squared_error: 559.54 - ETA: 0s - loss: 734.5877 - mean_squared_error: 734.58 - ETA: 0s - loss: 644.9840 - mean_squared_error: 644.98 - ETA: 0s - loss: 700.7769 - mean_squared_error: 700.77 - ETA: 0s - loss: 690.8348 - mean_squared_error: 690.83 - ETA: 0s - loss: 656.4249 - mean_squared_error: 656.42 - ETA: 0s - loss: 591.0529 - mean_squared_error: 591.05 - ETA: 0s - loss: 576.7899 - mean_squared_error: 576.78 - ETA: 0s - loss: 539.4488 - mean_squared_error: 539.44 - ETA: 0s - loss: 620.3051 - mean_squared_error: 620.30 - ETA: 0s - loss: 625.7182 - mean_squared_error: 625.71 - ETA: 0s - loss: 625.4600 - mean_squared_error: 625.46 - ETA: 0s - loss: 622.1738 - mean_squared_error: 622.17 - ETA: 0s - loss: 618.2343 - mean_squared_error: 618.23 - ETA: 0s - loss: 623.4439 - mean_squared_error: 623.44 - ETA: 0s - loss: 600.0858 - mean_squared_error: 600.08 - ETA: 0s - loss: 590.1522 - mean_squared_error: 590.15 - ETA: 0s - loss: 599.9903 - mean_squared_error: 599.99 - ETA: 0s - loss: 585.9279 - mean_squared_error: 585.92 - 1s 61ms/step - loss: 585.9279 - mean_squared_error: 585.9279 - val_loss: 1935.0629 - val_mean_squared_error: 1935.0629\n",
      "Epoch 30/100\n",
      "22/22 [==============================] - ETA: 0s - loss: 223.7370 - mean_squared_error: 223.73 - ETA: 0s - loss: 470.8195 - mean_squared_error: 470.81 - ETA: 0s - loss: 644.1854 - mean_squared_error: 644.18 - ETA: 0s - loss: 614.7423 - mean_squared_error: 614.74 - ETA: 0s - loss: 633.7436 - mean_squared_error: 633.74 - ETA: 0s - loss: 573.2483 - mean_squared_error: 573.24 - ETA: 0s - loss: 608.1690 - mean_squared_error: 608.16 - ETA: 0s - loss: 572.5121 - mean_squared_error: 572.51 - ETA: 0s - loss: 546.1656 - mean_squared_error: 546.16 - ETA: 0s - loss: 569.2063 - mean_squared_error: 569.20 - ETA: 0s - loss: 559.8918 - mean_squared_error: 559.89 - ETA: 0s - loss: 536.6710 - mean_squared_error: 536.67 - ETA: 0s - loss: 519.2343 - mean_squared_error: 519.23 - ETA: 0s - loss: 508.4754 - mean_squared_error: 508.47 - ETA: 0s - loss: 544.1583 - mean_squared_error: 544.15 - ETA: 0s - loss: 575.6519 - mean_squared_error: 575.65 - ETA: 0s - loss: 559.7331 - mean_squared_error: 559.73 - ETA: 0s - loss: 552.4852 - mean_squared_error: 552.48 - ETA: 0s - loss: 545.3881 - mean_squared_error: 545.38 - 1s 66ms/step - loss: 536.2031 - mean_squared_error: 536.2031 - val_loss: 2113.2922 - val_mean_squared_error: 2113.2922\n",
      "Epoch 31/100\n",
      "22/22 [==============================] - ETA: 0s - loss: 247.6680 - mean_squared_error: 247.66 - ETA: 0s - loss: 248.6229 - mean_squared_error: 248.62 - ETA: 0s - loss: 265.9791 - mean_squared_error: 265.97 - ETA: 0s - loss: 369.9956 - mean_squared_error: 369.99 - ETA: 0s - loss: 368.2104 - mean_squared_error: 368.21 - ETA: 0s - loss: 411.2841 - mean_squared_error: 411.28 - ETA: 0s - loss: 386.5298 - mean_squared_error: 386.52 - ETA: 0s - loss: 396.5361 - mean_squared_error: 396.53 - ETA: 0s - loss: 412.8623 - mean_squared_error: 412.86 - ETA: 0s - loss: 473.1549 - mean_squared_error: 473.15 - ETA: 0s - loss: 478.5273 - mean_squared_error: 478.52 - ETA: 0s - loss: 484.5351 - mean_squared_error: 484.53 - ETA: 0s - loss: 467.0283 - mean_squared_error: 467.02 - ETA: 0s - loss: 452.0733 - mean_squared_error: 452.07 - ETA: 0s - loss: 460.6802 - mean_squared_error: 460.68 - ETA: 0s - loss: 456.6195 - mean_squared_error: 456.61 - ETA: 0s - loss: 454.7787 - mean_squared_error: 454.77 - ETA: 0s - loss: 451.1788 - mean_squared_error: 451.17 - ETA: 0s - loss: 440.3148 - mean_squared_error: 440.31 - ETA: 0s - loss: 448.8614 - mean_squared_error: 448.86 - ETA: 0s - loss: 443.5757 - mean_squared_error: 443.57 - 1s 62ms/step - loss: 459.8492 - mean_squared_error: 459.8492 - val_loss: 2128.7703 - val_mean_squared_error: 2128.7703\n",
      "Epoch 32/100\n"
     ]
    },
    {
     "name": "stdout",
     "output_type": "stream",
     "text": [
      "22/22 [==============================] - ETA: 0s - loss: 386.7323 - mean_squared_error: 386.73 - ETA: 0s - loss: 295.8124 - mean_squared_error: 295.81 - ETA: 0s - loss: 518.8705 - mean_squared_error: 518.87 - ETA: 0s - loss: 482.2509 - mean_squared_error: 482.25 - ETA: 0s - loss: 457.4037 - mean_squared_error: 457.40 - ETA: 0s - loss: 474.3607 - mean_squared_error: 474.36 - ETA: 0s - loss: 461.3922 - mean_squared_error: 461.39 - ETA: 0s - loss: 434.3009 - mean_squared_error: 434.30 - ETA: 0s - loss: 478.2803 - mean_squared_error: 478.28 - ETA: 0s - loss: 458.5910 - mean_squared_error: 458.59 - ETA: 0s - loss: 493.1605 - mean_squared_error: 493.16 - ETA: 0s - loss: 469.2780 - mean_squared_error: 469.27 - ETA: 0s - loss: 463.8769 - mean_squared_error: 463.87 - ETA: 0s - loss: 484.7358 - mean_squared_error: 484.73 - ETA: 0s - loss: 488.3017 - mean_squared_error: 488.30 - ETA: 0s - loss: 479.6867 - mean_squared_error: 479.68 - ETA: 0s - loss: 498.0490 - mean_squared_error: 498.04 - ETA: 0s - loss: 496.1596 - mean_squared_error: 496.15 - ETA: 0s - loss: 495.6179 - mean_squared_error: 495.61 - ETA: 0s - loss: 499.5594 - mean_squared_error: 499.55 - ETA: 0s - loss: 517.7388 - mean_squared_error: 517.73 - ETA: 0s - loss: 514.9230 - mean_squared_error: 514.92 - 1s 62ms/step - loss: 514.9230 - mean_squared_error: 514.9230 - val_loss: 2035.7615 - val_mean_squared_error: 2035.7615\n",
      "Epoch 33/100\n",
      "22/22 [==============================] - ETA: 0s - loss: 965.0056 - mean_squared_error: 965.00 - ETA: 0s - loss: 595.2555 - mean_squared_error: 595.25 - ETA: 0s - loss: 513.4196 - mean_squared_error: 513.41 - ETA: 0s - loss: 439.7160 - mean_squared_error: 439.71 - ETA: 0s - loss: 514.1582 - mean_squared_error: 514.15 - ETA: 0s - loss: 496.9857 - mean_squared_error: 496.98 - ETA: 0s - loss: 447.2158 - mean_squared_error: 447.21 - ETA: 0s - loss: 440.2398 - mean_squared_error: 440.23 - ETA: 0s - loss: 515.5025 - mean_squared_error: 515.50 - ETA: 0s - loss: 535.8906 - mean_squared_error: 535.89 - ETA: 0s - loss: 515.3813 - mean_squared_error: 515.38 - ETA: 0s - loss: 605.3438 - mean_squared_error: 605.34 - ETA: 0s - loss: 623.7040 - mean_squared_error: 623.70 - ETA: 0s - loss: 614.5665 - mean_squared_error: 614.56 - ETA: 0s - loss: 610.6754 - mean_squared_error: 610.67 - ETA: 0s - loss: 665.8857 - mean_squared_error: 665.88 - ETA: 0s - loss: 676.7671 - mean_squared_error: 676.76 - ETA: 0s - loss: 653.8265 - mean_squared_error: 653.82 - ETA: 0s - loss: 666.3621 - mean_squared_error: 666.36 - ETA: 0s - loss: 680.2267 - mean_squared_error: 680.22 - ETA: 0s - loss: 686.6593 - mean_squared_error: 686.65 - ETA: 0s - loss: 675.1699 - mean_squared_error: 675.16 - 1s 62ms/step - loss: 675.1699 - mean_squared_error: 675.1699 - val_loss: 2142.0232 - val_mean_squared_error: 2142.0232\n",
      "Epoch 34/100\n",
      "22/22 [==============================] - ETA: 0s - loss: 252.5646 - mean_squared_error: 252.56 - ETA: 0s - loss: 729.9891 - mean_squared_error: 729.98 - ETA: 0s - loss: 773.8609 - mean_squared_error: 773.86 - ETA: 0s - loss: 640.9758 - mean_squared_error: 640.97 - ETA: 0s - loss: 589.2862 - mean_squared_error: 589.28 - ETA: 0s - loss: 687.5332 - mean_squared_error: 687.53 - ETA: 0s - loss: 680.1113 - mean_squared_error: 680.11 - ETA: 0s - loss: 664.9402 - mean_squared_error: 664.94 - ETA: 0s - loss: 638.5622 - mean_squared_error: 638.56 - ETA: 0s - loss: 648.9826 - mean_squared_error: 648.98 - ETA: 0s - loss: 629.5974 - mean_squared_error: 629.59 - ETA: 0s - loss: 639.3509 - mean_squared_error: 639.35 - ETA: 0s - loss: 628.5338 - mean_squared_error: 628.53 - ETA: 0s - loss: 610.1603 - mean_squared_error: 610.16 - ETA: 0s - loss: 619.0975 - mean_squared_error: 619.09 - ETA: 0s - loss: 641.9808 - mean_squared_error: 641.98 - ETA: 0s - loss: 633.2276 - mean_squared_error: 633.22 - ETA: 0s - loss: 687.4445 - mean_squared_error: 687.44 - ETA: 0s - loss: 684.4412 - mean_squared_error: 684.44 - ETA: 0s - loss: 687.3640 - mean_squared_error: 687.36 - ETA: 0s - loss: 683.0278 - mean_squared_error: 683.02 - 1s 65ms/step - loss: 667.0599 - mean_squared_error: 667.0599 - val_loss: 1987.5118 - val_mean_squared_error: 1987.5118\n",
      "Epoch 35/100\n",
      "22/22 [==============================] - ETA: 0s - loss: 233.6517 - mean_squared_error: 233.65 - ETA: 0s - loss: 383.1002 - mean_squared_error: 383.10 - ETA: 0s - loss: 424.0125 - mean_squared_error: 424.01 - ETA: 0s - loss: 362.4756 - mean_squared_error: 362.47 - ETA: 0s - loss: 408.0328 - mean_squared_error: 408.03 - ETA: 0s - loss: 468.7788 - mean_squared_error: 468.77 - ETA: 0s - loss: 446.9435 - mean_squared_error: 446.94 - ETA: 0s - loss: 493.1549 - mean_squared_error: 493.15 - ETA: 0s - loss: 484.4481 - mean_squared_error: 484.44 - ETA: 0s - loss: 471.2720 - mean_squared_error: 471.27 - ETA: 0s - loss: 453.4271 - mean_squared_error: 453.42 - ETA: 0s - loss: 445.0479 - mean_squared_error: 445.04 - ETA: 0s - loss: 436.2524 - mean_squared_error: 436.25 - ETA: 0s - loss: 441.9805 - mean_squared_error: 441.98 - ETA: 0s - loss: 455.0723 - mean_squared_error: 455.07 - ETA: 0s - loss: 445.6087 - mean_squared_error: 445.60 - ETA: 0s - loss: 461.6268 - mean_squared_error: 461.62 - ETA: 0s - loss: 459.1202 - mean_squared_error: 459.12 - ETA: 0s - loss: 447.8063 - mean_squared_error: 447.80 - ETA: 0s - loss: 436.4050 - mean_squared_error: 436.40 - ETA: 0s - loss: 425.8097 - mean_squared_error: 425.80 - ETA: 0s - loss: 418.0321 - mean_squared_error: 418.03 - 2s 70ms/step - loss: 418.0321 - mean_squared_error: 418.0321 - val_loss: 2033.8503 - val_mean_squared_error: 2033.8503\n",
      "Epoch 36/100\n",
      "22/22 [==============================] - ETA: 0s - loss: 211.4567 - mean_squared_error: 211.45 - ETA: 0s - loss: 214.7181 - mean_squared_error: 214.71 - ETA: 0s - loss: 243.2804 - mean_squared_error: 243.28 - ETA: 0s - loss: 283.1768 - mean_squared_error: 283.17 - ETA: 0s - loss: 266.7487 - mean_squared_error: 266.74 - ETA: 0s - loss: 262.5616 - mean_squared_error: 262.56 - ETA: 0s - loss: 259.0044 - mean_squared_error: 259.00 - ETA: 0s - loss: 337.3770 - mean_squared_error: 337.37 - ETA: 0s - loss: 355.0454 - mean_squared_error: 355.04 - ETA: 0s - loss: 367.4937 - mean_squared_error: 367.49 - ETA: 0s - loss: 362.7034 - mean_squared_error: 362.70 - ETA: 0s - loss: 393.5425 - mean_squared_error: 393.54 - ETA: 0s - loss: 412.7188 - mean_squared_error: 412.71 - ETA: 0s - loss: 413.3414 - mean_squared_error: 413.34 - ETA: 0s - loss: 399.6993 - mean_squared_error: 399.69 - ETA: 0s - loss: 388.0727 - mean_squared_error: 388.07 - ETA: 0s - loss: 394.8406 - mean_squared_error: 394.84 - ETA: 0s - loss: 390.6536 - mean_squared_error: 390.65 - ETA: 0s - loss: 394.8478 - mean_squared_error: 394.84 - ETA: 0s - loss: 402.3050 - mean_squared_error: 402.30 - ETA: 0s - loss: 412.7272 - mean_squared_error: 412.72 - ETA: 0s - loss: 439.7362 - mean_squared_error: 439.73 - 1s 62ms/step - loss: 439.7362 - mean_squared_error: 439.7362 - val_loss: 2336.6885 - val_mean_squared_error: 2336.6885\n",
      "Epoch 37/100\n"
     ]
    },
    {
     "name": "stdout",
     "output_type": "stream",
     "text": [
      "22/22 [==============================] - ETA: 0s - loss: 197.3428 - mean_squared_error: 197.34 - ETA: 0s - loss: 279.6886 - mean_squared_error: 279.68 - ETA: 0s - loss: 255.1497 - mean_squared_error: 255.14 - ETA: 0s - loss: 248.4189 - mean_squared_error: 248.41 - ETA: 0s - loss: 248.1187 - mean_squared_error: 248.11 - ETA: 0s - loss: 321.3940 - mean_squared_error: 321.39 - ETA: 0s - loss: 308.4512 - mean_squared_error: 308.45 - ETA: 0s - loss: 329.8042 - mean_squared_error: 329.80 - ETA: 0s - loss: 324.8307 - mean_squared_error: 324.83 - ETA: 0s - loss: 390.7461 - mean_squared_error: 390.74 - ETA: 0s - loss: 391.2918 - mean_squared_error: 391.29 - ETA: 0s - loss: 394.9751 - mean_squared_error: 394.97 - ETA: 0s - loss: 415.7693 - mean_squared_error: 415.76 - ETA: 0s - loss: 409.0457 - mean_squared_error: 409.04 - ETA: 0s - loss: 414.6108 - mean_squared_error: 414.61 - ETA: 0s - loss: 435.6376 - mean_squared_error: 435.63 - ETA: 0s - loss: 418.5133 - mean_squared_error: 418.51 - ETA: 0s - loss: 409.5731 - mean_squared_error: 409.57 - ETA: 0s - loss: 420.9324 - mean_squared_error: 420.93 - ETA: 0s - loss: 421.8239 - mean_squared_error: 421.82 - ETA: 0s - loss: 415.2666 - mean_squared_error: 415.26 - ETA: 0s - loss: 412.3389 - mean_squared_error: 412.33 - 1s 64ms/step - loss: 412.3389 - mean_squared_error: 412.3389 - val_loss: 2191.3372 - val_mean_squared_error: 2191.3372\n",
      "Epoch 38/100\n",
      "22/22 [==============================] - ETA: 0s - loss: 241.9163 - mean_squared_error: 241.91 - ETA: 0s - loss: 240.8127 - mean_squared_error: 240.81 - ETA: 0s - loss: 528.5560 - mean_squared_error: 528.55 - ETA: 0s - loss: 642.8670 - mean_squared_error: 642.86 - ETA: 0s - loss: 758.7968 - mean_squared_error: 758.79 - ETA: 0s - loss: 712.5812 - mean_squared_error: 712.58 - ETA: 0s - loss: 699.7203 - mean_squared_error: 699.72 - ETA: 0s - loss: 650.0959 - mean_squared_error: 650.09 - ETA: 0s - loss: 634.3840 - mean_squared_error: 634.38 - ETA: 0s - loss: 646.1703 - mean_squared_error: 646.17 - ETA: 0s - loss: 625.4902 - mean_squared_error: 625.49 - ETA: 0s - loss: 643.1085 - mean_squared_error: 643.10 - ETA: 0s - loss: 606.8435 - mean_squared_error: 606.84 - ETA: 0s - loss: 578.4415 - mean_squared_error: 578.44 - ETA: 0s - loss: 578.9028 - mean_squared_error: 578.90 - ETA: 0s - loss: 583.8747 - mean_squared_error: 583.87 - ETA: 0s - loss: 567.2169 - mean_squared_error: 567.21 - ETA: 0s - loss: 556.2927 - mean_squared_error: 556.29 - ETA: 0s - loss: 547.4912 - mean_squared_error: 547.49 - ETA: 0s - loss: 559.9521 - mean_squared_error: 559.95 - ETA: 0s - loss: 550.3421 - mean_squared_error: 550.34 - 1s 61ms/step - loss: 550.8785 - mean_squared_error: 550.8785 - val_loss: 2544.1812 - val_mean_squared_error: 2544.1812\n",
      "Epoch 39/100\n",
      "22/22 [==============================] - ETA: 0s - loss: 424.7984 - mean_squared_error: 424.79 - ETA: 0s - loss: 445.6254 - mean_squared_error: 445.62 - ETA: 0s - loss: 582.7065 - mean_squared_error: 582.70 - ETA: 0s - loss: 527.1207 - mean_squared_error: 527.12 - ETA: 0s - loss: 565.9506 - mean_squared_error: 565.95 - ETA: 0s - loss: 550.0475 - mean_squared_error: 550.04 - ETA: 0s - loss: 623.8887 - mean_squared_error: 623.88 - ETA: 0s - loss: 595.3090 - mean_squared_error: 595.30 - ETA: 0s - loss: 631.2472 - mean_squared_error: 631.24 - ETA: 0s - loss: 611.5779 - mean_squared_error: 611.57 - ETA: 0s - loss: 660.0743 - mean_squared_error: 660.07 - ETA: 0s - loss: 630.0589 - mean_squared_error: 630.05 - ETA: 0s - loss: 621.2067 - mean_squared_error: 621.20 - ETA: 0s - loss: 684.7739 - mean_squared_error: 684.77 - ETA: 0s - loss: 656.8670 - mean_squared_error: 656.86 - ETA: 0s - loss: 652.6409 - mean_squared_error: 652.64 - ETA: 0s - loss: 656.4339 - mean_squared_error: 656.43 - ETA: 0s - loss: 669.9966 - mean_squared_error: 669.99 - ETA: 0s - loss: 653.2908 - mean_squared_error: 653.29 - ETA: 0s - loss: 635.4240 - mean_squared_error: 635.42 - ETA: 0s - loss: 620.2496 - mean_squared_error: 620.24 - 1s 61ms/step - loss: 608.1554 - mean_squared_error: 608.1554 - val_loss: 1833.3170 - val_mean_squared_error: 1833.3170\n",
      "Epoch 40/100\n",
      "22/22 [==============================] - ETA: 0s - loss: 199.6393 - mean_squared_error: 199.63 - ETA: 0s - loss: 225.7190 - mean_squared_error: 225.71 - ETA: 0s - loss: 288.0009 - mean_squared_error: 288.00 - ETA: 0s - loss: 324.4545 - mean_squared_error: 324.45 - ETA: 0s - loss: 360.3067 - mean_squared_error: 360.30 - ETA: 0s - loss: 368.8192 - mean_squared_error: 368.81 - ETA: 0s - loss: 331.9267 - mean_squared_error: 331.92 - ETA: 0s - loss: 407.1948 - mean_squared_error: 407.19 - ETA: 0s - loss: 412.1132 - mean_squared_error: 412.11 - ETA: 0s - loss: 402.0493 - mean_squared_error: 402.04 - ETA: 0s - loss: 386.1678 - mean_squared_error: 386.16 - ETA: 0s - loss: 381.9563 - mean_squared_error: 381.95 - ETA: 0s - loss: 380.2932 - mean_squared_error: 380.29 - ETA: 0s - loss: 383.3332 - mean_squared_error: 383.33 - ETA: 0s - loss: 371.8638 - mean_squared_error: 371.86 - ETA: 0s - loss: 369.7419 - mean_squared_error: 369.74 - ETA: 0s - loss: 372.2362 - mean_squared_error: 372.23 - ETA: 0s - loss: 369.4720 - mean_squared_error: 369.47 - ETA: 0s - loss: 368.2630 - mean_squared_error: 368.26 - ETA: 0s - loss: 368.8659 - mean_squared_error: 368.86 - ETA: 0s - loss: 372.1693 - mean_squared_error: 372.16 - 1s 62ms/step - loss: 372.1693 - mean_squared_error: 372.1693 - val_loss: 1869.1532 - val_mean_squared_error: 1869.1532\n",
      "Epoch 41/100\n",
      "22/22 [==============================] - ETA: 0s - loss: 284.8112 - mean_squared_error: 284.81 - ETA: 0s - loss: 293.1088 - mean_squared_error: 293.10 - ETA: 0s - loss: 279.0162 - mean_squared_error: 279.01 - ETA: 0s - loss: 266.5733 - mean_squared_error: 266.57 - ETA: 0s - loss: 295.7461 - mean_squared_error: 295.74 - ETA: 0s - loss: 273.9299 - mean_squared_error: 273.92 - ETA: 0s - loss: 307.8835 - mean_squared_error: 307.88 - ETA: 0s - loss: 331.7392 - mean_squared_error: 331.73 - ETA: 0s - loss: 368.4282 - mean_squared_error: 368.42 - ETA: 0s - loss: 354.7420 - mean_squared_error: 354.74 - ETA: 0s - loss: 383.1154 - mean_squared_error: 383.11 - ETA: 0s - loss: 370.2299 - mean_squared_error: 370.22 - ETA: 0s - loss: 367.1332 - mean_squared_error: 367.13 - ETA: 0s - loss: 357.4029 - mean_squared_error: 357.40 - ETA: 0s - loss: 389.2540 - mean_squared_error: 389.25 - ETA: 0s - loss: 385.7497 - mean_squared_error: 385.74 - ETA: 0s - loss: 372.1365 - mean_squared_error: 372.13 - ETA: 0s - loss: 377.6366 - mean_squared_error: 377.63 - ETA: 0s - loss: 383.5166 - mean_squared_error: 383.51 - ETA: 0s - loss: 372.4828 - mean_squared_error: 372.48 - ETA: 0s - loss: 366.6414 - mean_squared_error: 366.64 - 1s 65ms/step - loss: 362.8785 - mean_squared_error: 362.8785 - val_loss: 2027.9586 - val_mean_squared_error: 2027.9586\n",
      "Epoch 42/100\n",
      "22/22 [==============================] - ETA: 0s - loss: 232.0754 - mean_squared_error: 232.07 - ETA: 0s - loss: 175.2862 - mean_squared_error: 175.28 - ETA: 0s - loss: 148.2570 - mean_squared_error: 148.25 - ETA: 0s - loss: 171.5818 - mean_squared_error: 171.58 - ETA: 0s - loss: 191.5506 - mean_squared_error: 191.55 - ETA: 0s - loss: 180.0151 - mean_squared_error: 180.01 - ETA: 0s - loss: 183.4830 - mean_squared_error: 183.48 - ETA: 0s - loss: 192.1962 - mean_squared_error: 192.19 - ETA: 0s - loss: 196.8824 - mean_squared_error: 196.88 - ETA: 0s - loss: 195.2580 - mean_squared_error: 195.25 - ETA: 0s - loss: 196.3722 - mean_squared_error: 196.37 - ETA: 0s - loss: 208.7221 - mean_squared_error: 208.72 - ETA: 0s - loss: 246.6458 - mean_squared_error: 246.64 - ETA: 0s - loss: 246.9937 - mean_squared_error: 246.99 - ETA: 0s - loss: 249.6048 - mean_squared_error: 249.60 - ETA: 0s - loss: 258.5349 - mean_squared_error: 258.53 - ETA: 0s - loss: 274.0629 - mean_squared_error: 274.06 - ETA: 0s - loss: 285.4167 - mean_squared_error: 285.41 - ETA: 0s - loss: 282.4820 - mean_squared_error: 282.48 - ETA: 0s - loss: 304.9218 - mean_squared_error: 304.92 - ETA: 0s - loss: 302.4437 - mean_squared_error: 302.44 - 1s 62ms/step - loss: 313.4524 - mean_squared_error: 313.4524 - val_loss: 2150.0940 - val_mean_squared_error: 2150.0940\n",
      "Epoch 43/100\n"
     ]
    },
    {
     "name": "stdout",
     "output_type": "stream",
     "text": [
      "22/22 [==============================] - ETA: 0s - loss: 312.9838 - mean_squared_error: 312.98 - ETA: 0s - loss: 296.7109 - mean_squared_error: 296.71 - ETA: 0s - loss: 260.9480 - mean_squared_error: 260.94 - ETA: 0s - loss: 263.9156 - mean_squared_error: 263.91 - ETA: 0s - loss: 251.5743 - mean_squared_error: 251.57 - ETA: 0s - loss: 240.5874 - mean_squared_error: 240.58 - ETA: 0s - loss: 224.6768 - mean_squared_error: 224.67 - ETA: 0s - loss: 216.4834 - mean_squared_error: 216.48 - ETA: 0s - loss: 202.3127 - mean_squared_error: 202.31 - ETA: 0s - loss: 207.6193 - mean_squared_error: 207.61 - ETA: 0s - loss: 211.4314 - mean_squared_error: 211.43 - ETA: 0s - loss: 267.1693 - mean_squared_error: 267.16 - ETA: 0s - loss: 263.7610 - mean_squared_error: 263.76 - ETA: 0s - loss: 257.1168 - mean_squared_error: 257.11 - ETA: 0s - loss: 257.0614 - mean_squared_error: 257.06 - ETA: 0s - loss: 264.4384 - mean_squared_error: 264.43 - ETA: 0s - loss: 267.3036 - mean_squared_error: 267.30 - ETA: 0s - loss: 269.7989 - mean_squared_error: 269.79 - ETA: 0s - loss: 275.2957 - mean_squared_error: 275.29 - ETA: 0s - loss: 273.8525 - mean_squared_error: 273.85 - ETA: 0s - loss: 280.7988 - mean_squared_error: 280.79 - 1s 62ms/step - loss: 282.3714 - mean_squared_error: 282.3714 - val_loss: 2011.5757 - val_mean_squared_error: 2011.5757\n",
      "Epoch 44/100\n",
      "22/22 [==============================] - ETA: 0s - loss: 397.9779 - mean_squared_error: 397.97 - ETA: 0s - loss: 328.2838 - mean_squared_error: 328.28 - ETA: 0s - loss: 269.9240 - mean_squared_error: 269.92 - ETA: 0s - loss: 258.6774 - mean_squared_error: 258.67 - ETA: 0s - loss: 269.0905 - mean_squared_error: 269.09 - ETA: 0s - loss: 254.4388 - mean_squared_error: 254.43 - ETA: 0s - loss: 241.6233 - mean_squared_error: 241.62 - ETA: 0s - loss: 223.6638 - mean_squared_error: 223.66 - ETA: 0s - loss: 219.9219 - mean_squared_error: 219.92 - ETA: 0s - loss: 210.3847 - mean_squared_error: 210.38 - ETA: 0s - loss: 208.8864 - mean_squared_error: 208.88 - ETA: 0s - loss: 208.6189 - mean_squared_error: 208.61 - ETA: 0s - loss: 214.9058 - mean_squared_error: 214.90 - ETA: 0s - loss: 217.6442 - mean_squared_error: 217.64 - ETA: 0s - loss: 219.1106 - mean_squared_error: 219.11 - ETA: 0s - loss: 232.3554 - mean_squared_error: 232.35 - ETA: 0s - loss: 237.1641 - mean_squared_error: 237.16 - ETA: 0s - loss: 251.3038 - mean_squared_error: 251.30 - ETA: 0s - loss: 247.2874 - mean_squared_error: 247.28 - ETA: 0s - loss: 270.2026 - mean_squared_error: 270.20 - ETA: 0s - loss: 274.9154 - mean_squared_error: 274.91 - 1s 65ms/step - loss: 268.8468 - mean_squared_error: 268.8468 - val_loss: 1983.2319 - val_mean_squared_error: 1983.2319\n",
      "Epoch 45/100\n",
      "22/22 [==============================] - ETA: 0s - loss: 303.0048 - mean_squared_error: 303.00 - ETA: 0s - loss: 189.7020 - mean_squared_error: 189.70 - ETA: 0s - loss: 176.3338 - mean_squared_error: 176.33 - ETA: 0s - loss: 190.9702 - mean_squared_error: 190.97 - ETA: 0s - loss: 214.3632 - mean_squared_error: 214.36 - ETA: 0s - loss: 208.1076 - mean_squared_error: 208.10 - ETA: 0s - loss: 208.1912 - mean_squared_error: 208.19 - ETA: 0s - loss: 225.5477 - mean_squared_error: 225.54 - ETA: 0s - loss: 212.8512 - mean_squared_error: 212.85 - ETA: 0s - loss: 254.1222 - mean_squared_error: 254.12 - ETA: 0s - loss: 250.4622 - mean_squared_error: 250.46 - ETA: 0s - loss: 249.8874 - mean_squared_error: 249.88 - ETA: 0s - loss: 239.0028 - mean_squared_error: 239.00 - ETA: 0s - loss: 232.4944 - mean_squared_error: 232.49 - ETA: 0s - loss: 234.3027 - mean_squared_error: 234.30 - ETA: 0s - loss: 239.8588 - mean_squared_error: 239.85 - ETA: 0s - loss: 234.7284 - mean_squared_error: 234.72 - ETA: 0s - loss: 232.2228 - mean_squared_error: 232.22 - ETA: 0s - loss: 229.2159 - mean_squared_error: 229.21 - ETA: 0s - loss: 226.8914 - mean_squared_error: 226.89 - ETA: 0s - loss: 229.9422 - mean_squared_error: 229.94 - 1s 62ms/step - loss: 231.8288 - mean_squared_error: 231.8288 - val_loss: 2086.4207 - val_mean_squared_error: 2086.4207\n",
      "Epoch 46/100\n",
      "22/22 [==============================] - ETA: 0s - loss: 157.9516 - mean_squared_error: 157.95 - ETA: 0s - loss: 386.0845 - mean_squared_error: 386.08 - ETA: 0s - loss: 329.7641 - mean_squared_error: 329.76 - ETA: 0s - loss: 325.2160 - mean_squared_error: 325.21 - ETA: 0s - loss: 312.3777 - mean_squared_error: 312.37 - ETA: 0s - loss: 305.1261 - mean_squared_error: 305.12 - ETA: 0s - loss: 290.5005 - mean_squared_error: 290.50 - ETA: 0s - loss: 288.8273 - mean_squared_error: 288.82 - ETA: 0s - loss: 277.2670 - mean_squared_error: 277.26 - ETA: 0s - loss: 257.8271 - mean_squared_error: 257.82 - ETA: 0s - loss: 267.0753 - mean_squared_error: 267.07 - ETA: 0s - loss: 250.8156 - mean_squared_error: 250.81 - ETA: 0s - loss: 254.0810 - mean_squared_error: 254.08 - ETA: 0s - loss: 245.8819 - mean_squared_error: 245.88 - ETA: 0s - loss: 246.7226 - mean_squared_error: 246.72 - ETA: 0s - loss: 236.7444 - mean_squared_error: 236.74 - ETA: 0s - loss: 232.3203 - mean_squared_error: 232.32 - ETA: 0s - loss: 231.0097 - mean_squared_error: 231.00 - ETA: 0s - loss: 223.4776 - mean_squared_error: 223.47 - ETA: 0s - loss: 222.9177 - mean_squared_error: 222.91 - ETA: 0s - loss: 234.0199 - mean_squared_error: 234.01 - ETA: 0s - loss: 230.6312 - mean_squared_error: 230.63 - 1s 64ms/step - loss: 230.6312 - mean_squared_error: 230.6312 - val_loss: 2016.4764 - val_mean_squared_error: 2016.4764\n",
      "Epoch 47/100\n",
      "22/22 [==============================] - ETA: 0s - loss: 248.1207 - mean_squared_error: 248.12 - ETA: 0s - loss: 387.8088 - mean_squared_error: 387.80 - ETA: 0s - loss: 296.4020 - mean_squared_error: 296.40 - ETA: 0s - loss: 365.1781 - mean_squared_error: 365.17 - ETA: 0s - loss: 361.8490 - mean_squared_error: 361.84 - ETA: 0s - loss: 360.2253 - mean_squared_error: 360.22 - ETA: 0s - loss: 339.0774 - mean_squared_error: 339.07 - ETA: 0s - loss: 309.3196 - mean_squared_error: 309.31 - ETA: 0s - loss: 302.6756 - mean_squared_error: 302.67 - ETA: 0s - loss: 285.0024 - mean_squared_error: 285.00 - ETA: 0s - loss: 280.3428 - mean_squared_error: 280.34 - ETA: 0s - loss: 264.3197 - mean_squared_error: 264.31 - ETA: 0s - loss: 252.3951 - mean_squared_error: 252.39 - ETA: 0s - loss: 241.5998 - mean_squared_error: 241.59 - ETA: 0s - loss: 244.4212 - mean_squared_error: 244.42 - ETA: 0s - loss: 245.3602 - mean_squared_error: 245.36 - ETA: 0s - loss: 247.8700 - mean_squared_error: 247.87 - ETA: 0s - loss: 245.3846 - mean_squared_error: 245.38 - ETA: 0s - loss: 254.4573 - mean_squared_error: 254.45 - ETA: 0s - loss: 252.9019 - mean_squared_error: 252.90 - ETA: 0s - loss: 250.1132 - mean_squared_error: 250.11 - 1s 61ms/step - loss: 249.8064 - mean_squared_error: 249.8064 - val_loss: 2141.2319 - val_mean_squared_error: 2141.2319\n",
      "Epoch 48/100\n",
      "22/22 [==============================] - ETA: 0s - loss: 216.4833 - mean_squared_error: 216.48 - ETA: 0s - loss: 186.9590 - mean_squared_error: 186.95 - ETA: 0s - loss: 273.7419 - mean_squared_error: 273.74 - ETA: 1s - loss: 229.3747 - mean_squared_error: 229.37 - ETA: 0s - loss: 213.0640 - mean_squared_error: 213.06 - ETA: 0s - loss: 241.1955 - mean_squared_error: 241.19 - ETA: 0s - loss: 229.6112 - mean_squared_error: 229.61 - ETA: 0s - loss: 216.1583 - mean_squared_error: 216.15 - ETA: 0s - loss: 208.9918 - mean_squared_error: 208.99 - ETA: 0s - loss: 202.2866 - mean_squared_error: 202.28 - ETA: 0s - loss: 217.0661 - mean_squared_error: 217.06 - ETA: 0s - loss: 206.9286 - mean_squared_error: 206.92 - ETA: 0s - loss: 206.7195 - mean_squared_error: 206.71 - ETA: 0s - loss: 211.1235 - mean_squared_error: 211.12 - ETA: 0s - loss: 210.6070 - mean_squared_error: 210.60 - ETA: 0s - loss: 234.9952 - mean_squared_error: 234.99 - ETA: 0s - loss: 230.7504 - mean_squared_error: 230.75 - ETA: 0s - loss: 228.4759 - mean_squared_error: 228.47 - ETA: 0s - loss: 226.3748 - mean_squared_error: 226.37 - ETA: 0s - loss: 222.2606 - mean_squared_error: 222.26 - ETA: 0s - loss: 222.3256 - mean_squared_error: 222.32 - 1s 64ms/step - loss: 225.7724 - mean_squared_error: 225.7724 - val_loss: 1909.3221 - val_mean_squared_error: 1909.3221\n",
      "Epoch 49/100\n"
     ]
    },
    {
     "name": "stdout",
     "output_type": "stream",
     "text": [
      "22/22 [==============================] - ETA: 0s - loss: 173.2981 - mean_squared_error: 173.29 - ETA: 0s - loss: 207.8072 - mean_squared_error: 207.80 - ETA: 0s - loss: 173.8956 - mean_squared_error: 173.89 - ETA: 0s - loss: 146.5514 - mean_squared_error: 146.55 - ETA: 0s - loss: 167.7708 - mean_squared_error: 167.77 - ETA: 0s - loss: 170.7890 - mean_squared_error: 170.78 - ETA: 0s - loss: 156.8404 - mean_squared_error: 156.84 - ETA: 0s - loss: 191.0031 - mean_squared_error: 191.00 - ETA: 0s - loss: 237.2239 - mean_squared_error: 237.22 - ETA: 0s - loss: 222.3783 - mean_squared_error: 222.37 - ETA: 0s - loss: 236.3208 - mean_squared_error: 236.32 - ETA: 0s - loss: 226.6510 - mean_squared_error: 226.65 - ETA: 0s - loss: 234.1911 - mean_squared_error: 234.19 - ETA: 0s - loss: 232.5678 - mean_squared_error: 232.56 - ETA: 0s - loss: 231.6232 - mean_squared_error: 231.62 - ETA: 0s - loss: 226.2988 - mean_squared_error: 226.29 - ETA: 0s - loss: 222.6447 - mean_squared_error: 222.64 - ETA: 0s - loss: 215.2152 - mean_squared_error: 215.21 - ETA: 0s - loss: 208.6058 - mean_squared_error: 208.60 - ETA: 0s - loss: 204.4379 - mean_squared_error: 204.43 - ETA: 0s - loss: 200.8887 - mean_squared_error: 200.88 - 1s 61ms/step - loss: 197.1611 - mean_squared_error: 197.1611 - val_loss: 2078.2622 - val_mean_squared_error: 2078.2622\n",
      "Epoch 50/100\n",
      "22/22 [==============================] - ETA: 0s - loss: 55.6868 - mean_squared_error: 55.68 - ETA: 0s - loss: 184.1239 - mean_squared_error: 184.12 - ETA: 0s - loss: 182.5606 - mean_squared_error: 182.56 - ETA: 0s - loss: 259.6975 - mean_squared_error: 259.69 - ETA: 0s - loss: 233.6776 - mean_squared_error: 233.67 - ETA: 0s - loss: 250.2535 - mean_squared_error: 250.25 - ETA: 0s - loss: 236.3034 - mean_squared_error: 236.30 - ETA: 0s - loss: 218.5345 - mean_squared_error: 218.53 - ETA: 0s - loss: 228.5663 - mean_squared_error: 228.56 - ETA: 0s - loss: 233.5925 - mean_squared_error: 233.59 - ETA: 0s - loss: 226.4533 - mean_squared_error: 226.45 - ETA: 0s - loss: 227.4120 - mean_squared_error: 227.41 - ETA: 0s - loss: 218.6912 - mean_squared_error: 218.69 - ETA: 0s - loss: 211.7471 - mean_squared_error: 211.74 - ETA: 0s - loss: 208.9513 - mean_squared_error: 208.95 - ETA: 0s - loss: 215.4648 - mean_squared_error: 215.46 - ETA: 0s - loss: 210.4583 - mean_squared_error: 210.45 - ETA: 0s - loss: 218.0828 - mean_squared_error: 218.08 - ETA: 0s - loss: 221.2955 - mean_squared_error: 221.29 - ETA: 0s - loss: 213.3685 - mean_squared_error: 213.36 - ETA: 0s - loss: 206.5571 - mean_squared_error: 206.55 - ETA: 0s - loss: 204.9760 - mean_squared_error: 204.97 - 1s 62ms/step - loss: 204.9760 - mean_squared_error: 204.9760 - val_loss: 1758.5300 - val_mean_squared_error: 1758.5300\n",
      "Epoch 51/100\n",
      "22/22 [==============================] - ETA: 0s - loss: 178.0878 - mean_squared_error: 178.08 - ETA: 0s - loss: 152.1116 - mean_squared_error: 152.11 - ETA: 0s - loss: 190.7109 - mean_squared_error: 190.71 - ETA: 0s - loss: 168.3952 - mean_squared_error: 168.39 - ETA: 0s - loss: 142.6135 - mean_squared_error: 142.61 - ETA: 0s - loss: 170.4299 - mean_squared_error: 170.42 - ETA: 0s - loss: 160.8919 - mean_squared_error: 160.89 - ETA: 0s - loss: 171.0260 - mean_squared_error: 171.02 - ETA: 0s - loss: 206.5555 - mean_squared_error: 206.55 - ETA: 0s - loss: 195.0580 - mean_squared_error: 195.05 - ETA: 0s - loss: 211.7775 - mean_squared_error: 211.77 - ETA: 0s - loss: 199.3883 - mean_squared_error: 199.38 - ETA: 0s - loss: 190.2545 - mean_squared_error: 190.25 - ETA: 0s - loss: 203.4205 - mean_squared_error: 203.42 - ETA: 0s - loss: 200.1208 - mean_squared_error: 200.12 - ETA: 0s - loss: 202.2148 - mean_squared_error: 202.21 - ETA: 0s - loss: 199.3681 - mean_squared_error: 199.36 - ETA: 0s - loss: 195.8162 - mean_squared_error: 195.81 - ETA: 0s - loss: 200.9271 - mean_squared_error: 200.92 - ETA: 0s - loss: 211.8856 - mean_squared_error: 211.88 - ETA: 0s - loss: 216.8133 - mean_squared_error: 216.81 - 1s 63ms/step - loss: 217.8940 - mean_squared_error: 217.8940 - val_loss: 2249.9485 - val_mean_squared_error: 2249.9485\n",
      "Epoch 52/100\n",
      "22/22 [==============================] - ETA: 0s - loss: 217.7775 - mean_squared_error: 217.77 - ETA: 0s - loss: 209.1197 - mean_squared_error: 209.11 - ETA: 0s - loss: 245.7435 - mean_squared_error: 245.74 - ETA: 0s - loss: 200.7945 - mean_squared_error: 200.79 - ETA: 0s - loss: 252.8874 - mean_squared_error: 252.88 - ETA: 0s - loss: 254.1174 - mean_squared_error: 254.11 - ETA: 0s - loss: 250.6426 - mean_squared_error: 250.64 - ETA: 0s - loss: 283.3041 - mean_squared_error: 283.30 - ETA: 0s - loss: 264.9160 - mean_squared_error: 264.91 - ETA: 0s - loss: 268.5903 - mean_squared_error: 268.59 - ETA: 0s - loss: 263.5996 - mean_squared_error: 263.59 - ETA: 0s - loss: 282.4810 - mean_squared_error: 282.48 - ETA: 0s - loss: 284.5194 - mean_squared_error: 284.51 - ETA: 0s - loss: 279.9137 - mean_squared_error: 279.91 - ETA: 0s - loss: 271.7008 - mean_squared_error: 271.70 - ETA: 0s - loss: 279.6729 - mean_squared_error: 279.67 - ETA: 0s - loss: 270.6558 - mean_squared_error: 270.65 - ETA: 0s - loss: 260.8450 - mean_squared_error: 260.84 - ETA: 0s - loss: 256.4520 - mean_squared_error: 256.45 - ETA: 0s - loss: 257.6455 - mean_squared_error: 257.64 - ETA: 0s - loss: 253.1387 - mean_squared_error: 253.13 - 1s 62ms/step - loss: 245.5816 - mean_squared_error: 245.5816 - val_loss: 2569.8208 - val_mean_squared_error: 2569.8208\n",
      "Epoch 53/100\n",
      "22/22 [==============================] - ETA: 0s - loss: 90.9062 - mean_squared_error: 90.90 - ETA: 0s - loss: 120.1845 - mean_squared_error: 120.18 - ETA: 0s - loss: 153.0915 - mean_squared_error: 153.09 - ETA: 0s - loss: 178.8887 - mean_squared_error: 178.88 - ETA: 0s - loss: 191.4062 - mean_squared_error: 191.40 - ETA: 0s - loss: 221.9108 - mean_squared_error: 221.91 - ETA: 0s - loss: 211.8219 - mean_squared_error: 211.82 - ETA: 0s - loss: 211.8304 - mean_squared_error: 211.83 - ETA: 0s - loss: 222.1486 - mean_squared_error: 222.14 - ETA: 0s - loss: 223.2908 - mean_squared_error: 223.29 - ETA: 0s - loss: 215.8485 - mean_squared_error: 215.84 - ETA: 0s - loss: 212.4827 - mean_squared_error: 212.48 - ETA: 0s - loss: 203.7722 - mean_squared_error: 203.77 - ETA: 0s - loss: 204.2992 - mean_squared_error: 204.29 - ETA: 0s - loss: 208.7374 - mean_squared_error: 208.73 - ETA: 0s - loss: 209.1024 - mean_squared_error: 209.10 - ETA: 0s - loss: 202.0956 - mean_squared_error: 202.09 - ETA: 0s - loss: 199.4408 - mean_squared_error: 199.44 - ETA: 0s - loss: 206.6244 - mean_squared_error: 206.62 - ETA: 0s - loss: 200.5218 - mean_squared_error: 200.52 - ETA: 0s - loss: 196.9303 - mean_squared_error: 196.93 - ETA: 0s - loss: 195.5349 - mean_squared_error: 195.53 - 1s 62ms/step - loss: 195.5349 - mean_squared_error: 195.5349 - val_loss: 1843.3569 - val_mean_squared_error: 1843.3569\n",
      "Epoch 54/100\n",
      "22/22 [==============================] - ETA: 0s - loss: 159.9980 - mean_squared_error: 159.99 - ETA: 0s - loss: 146.7439 - mean_squared_error: 146.74 - ETA: 0s - loss: 176.7045 - mean_squared_error: 176.70 - ETA: 0s - loss: 279.4506 - mean_squared_error: 279.45 - ETA: 0s - loss: 262.1391 - mean_squared_error: 262.13 - ETA: 0s - loss: 240.1460 - mean_squared_error: 240.14 - ETA: 0s - loss: 217.1413 - mean_squared_error: 217.14 - ETA: 0s - loss: 204.4107 - mean_squared_error: 204.41 - ETA: 0s - loss: 200.6121 - mean_squared_error: 200.61 - ETA: 0s - loss: 205.4747 - mean_squared_error: 205.47 - ETA: 0s - loss: 197.8533 - mean_squared_error: 197.85 - ETA: 0s - loss: 193.4161 - mean_squared_error: 193.41 - ETA: 0s - loss: 185.0650 - mean_squared_error: 185.06 - ETA: 0s - loss: 176.4999 - mean_squared_error: 176.49 - ETA: 0s - loss: 172.6148 - mean_squared_error: 172.61 - ETA: 0s - loss: 173.3874 - mean_squared_error: 173.38 - ETA: 0s - loss: 167.2545 - mean_squared_error: 167.25 - ETA: 0s - loss: 166.0048 - mean_squared_error: 166.00 - ETA: 0s - loss: 164.4109 - mean_squared_error: 164.41 - ETA: 0s - loss: 162.0612 - mean_squared_error: 162.06 - ETA: 0s - loss: 159.9311 - mean_squared_error: 159.93 - 1s 61ms/step - loss: 157.5941 - mean_squared_error: 157.5941 - val_loss: 1932.3256 - val_mean_squared_error: 1932.3256\n"
     ]
    },
    {
     "name": "stdout",
     "output_type": "stream",
     "text": [
      "Epoch 55/100\n",
      "22/22 [==============================] - ETA: 0s - loss: 447.9588 - mean_squared_error: 447.95 - ETA: 0s - loss: 276.4786 - mean_squared_error: 276.47 - ETA: 0s - loss: 280.4692 - mean_squared_error: 280.46 - ETA: 1s - loss: 302.5035 - mean_squared_error: 302.50 - ETA: 0s - loss: 261.4399 - mean_squared_error: 261.43 - ETA: 0s - loss: 231.9517 - mean_squared_error: 231.95 - ETA: 0s - loss: 235.1474 - mean_squared_error: 235.14 - ETA: 0s - loss: 226.5537 - mean_squared_error: 226.55 - ETA: 0s - loss: 216.6051 - mean_squared_error: 216.60 - ETA: 0s - loss: 218.2342 - mean_squared_error: 218.23 - ETA: 0s - loss: 210.8968 - mean_squared_error: 210.89 - ETA: 0s - loss: 200.6130 - mean_squared_error: 200.61 - ETA: 0s - loss: 199.1642 - mean_squared_error: 199.16 - ETA: 0s - loss: 195.3156 - mean_squared_error: 195.31 - ETA: 0s - loss: 188.8064 - mean_squared_error: 188.80 - ETA: 0s - loss: 184.5286 - mean_squared_error: 184.52 - ETA: 0s - loss: 175.9066 - mean_squared_error: 175.90 - ETA: 0s - loss: 170.0064 - mean_squared_error: 170.00 - ETA: 0s - loss: 169.5494 - mean_squared_error: 169.54 - ETA: 0s - loss: 163.9765 - mean_squared_error: 163.97 - ETA: 0s - loss: 162.8287 - mean_squared_error: 162.82 - 1s 66ms/step - loss: 163.2821 - mean_squared_error: 163.2821 - val_loss: 1881.6084 - val_mean_squared_error: 1881.6084\n",
      "Epoch 56/100\n",
      "22/22 [==============================] - ETA: 0s - loss: 179.4972 - mean_squared_error: 179.49 - ETA: 0s - loss: 103.4645 - mean_squared_error: 103.46 - ETA: 0s - loss: 92.0971 - mean_squared_error: 92.0971 - ETA: 0s - loss: 115.9312 - mean_squared_error: 115.93 - ETA: 0s - loss: 118.7231 - mean_squared_error: 118.72 - ETA: 0s - loss: 111.7744 - mean_squared_error: 111.77 - ETA: 0s - loss: 106.6820 - mean_squared_error: 106.68 - ETA: 0s - loss: 124.7724 - mean_squared_error: 124.77 - ETA: 0s - loss: 152.7443 - mean_squared_error: 152.74 - ETA: 0s - loss: 156.3565 - mean_squared_error: 156.35 - ETA: 0s - loss: 150.5443 - mean_squared_error: 150.54 - ETA: 0s - loss: 153.6322 - mean_squared_error: 153.63 - ETA: 0s - loss: 155.0655 - mean_squared_error: 155.06 - ETA: 0s - loss: 155.4407 - mean_squared_error: 155.44 - ETA: 0s - loss: 156.9304 - mean_squared_error: 156.93 - ETA: 0s - loss: 156.1413 - mean_squared_error: 156.14 - ETA: 0s - loss: 151.7608 - mean_squared_error: 151.76 - ETA: 0s - loss: 189.6795 - mean_squared_error: 189.67 - ETA: 0s - loss: 184.6360 - mean_squared_error: 184.63 - ETA: 0s - loss: 179.1222 - mean_squared_error: 179.12 - 1s 61ms/step - loss: 180.4595 - mean_squared_error: 180.4595 - val_loss: 1897.1450 - val_mean_squared_error: 1897.1450\n",
      "Epoch 57/100\n",
      "22/22 [==============================] - ETA: 0s - loss: 165.3520 - mean_squared_error: 165.35 - ETA: 0s - loss: 106.5056 - mean_squared_error: 106.50 - ETA: 0s - loss: 119.2882 - mean_squared_error: 119.28 - ETA: 0s - loss: 120.0527 - mean_squared_error: 120.05 - ETA: 0s - loss: 131.5244 - mean_squared_error: 131.52 - ETA: 0s - loss: 131.0534 - mean_squared_error: 131.05 - ETA: 0s - loss: 123.2261 - mean_squared_error: 123.22 - ETA: 0s - loss: 128.0145 - mean_squared_error: 128.01 - ETA: 0s - loss: 161.1310 - mean_squared_error: 161.13 - ETA: 0s - loss: 153.8874 - mean_squared_error: 153.88 - ETA: 0s - loss: 151.2111 - mean_squared_error: 151.21 - ETA: 0s - loss: 156.4864 - mean_squared_error: 156.48 - ETA: 0s - loss: 149.5998 - mean_squared_error: 149.59 - ETA: 0s - loss: 142.6424 - mean_squared_error: 142.64 - ETA: 0s - loss: 142.5881 - mean_squared_error: 142.58 - ETA: 0s - loss: 142.6873 - mean_squared_error: 142.68 - ETA: 0s - loss: 144.6391 - mean_squared_error: 144.63 - ETA: 0s - loss: 141.7536 - mean_squared_error: 141.75 - ETA: 0s - loss: 141.8711 - mean_squared_error: 141.87 - ETA: 0s - loss: 141.8665 - mean_squared_error: 141.86 - ETA: 0s - loss: 138.5873 - mean_squared_error: 138.58 - 1s 61ms/step - loss: 138.5873 - mean_squared_error: 138.5873 - val_loss: 2007.6135 - val_mean_squared_error: 2007.6135\n",
      "Epoch 58/100\n",
      "22/22 [==============================] - ETA: 0s - loss: 124.8704 - mean_squared_error: 124.87 - ETA: 0s - loss: 158.8428 - mean_squared_error: 158.84 - ETA: 0s - loss: 151.1256 - mean_squared_error: 151.12 - ETA: 0s - loss: 200.3150 - mean_squared_error: 200.31 - ETA: 0s - loss: 185.0294 - mean_squared_error: 185.02 - ETA: 0s - loss: 168.6057 - mean_squared_error: 168.60 - ETA: 0s - loss: 151.8348 - mean_squared_error: 151.83 - ETA: 0s - loss: 148.8410 - mean_squared_error: 148.84 - ETA: 0s - loss: 143.5710 - mean_squared_error: 143.57 - ETA: 0s - loss: 139.9626 - mean_squared_error: 139.96 - ETA: 0s - loss: 141.7647 - mean_squared_error: 141.76 - ETA: 0s - loss: 139.2632 - mean_squared_error: 139.26 - ETA: 0s - loss: 146.0305 - mean_squared_error: 146.03 - ETA: 0s - loss: 141.8327 - mean_squared_error: 141.83 - ETA: 0s - loss: 138.6773 - mean_squared_error: 138.67 - ETA: 0s - loss: 136.9258 - mean_squared_error: 136.92 - ETA: 0s - loss: 134.8734 - mean_squared_error: 134.87 - ETA: 0s - loss: 131.1661 - mean_squared_error: 131.16 - ETA: 0s - loss: 132.6597 - mean_squared_error: 132.65 - ETA: 0s - loss: 133.8493 - mean_squared_error: 133.84 - ETA: 0s - loss: 133.6538 - mean_squared_error: 133.65 - 1s 63ms/step - loss: 135.3086 - mean_squared_error: 135.3086 - val_loss: 1957.4587 - val_mean_squared_error: 1957.4587\n",
      "Epoch 59/100\n",
      "22/22 [==============================] - ETA: 0s - loss: 198.2245 - mean_squared_error: 198.22 - ETA: 0s - loss: 115.2356 - mean_squared_error: 115.23 - ETA: 0s - loss: 109.2578 - mean_squared_error: 109.25 - ETA: 0s - loss: 107.0942 - mean_squared_error: 107.09 - ETA: 0s - loss: 121.0186 - mean_squared_error: 121.01 - ETA: 0s - loss: 117.8241 - mean_squared_error: 117.82 - ETA: 0s - loss: 113.9372 - mean_squared_error: 113.93 - ETA: 0s - loss: 122.2900 - mean_squared_error: 122.29 - ETA: 0s - loss: 115.2198 - mean_squared_error: 115.21 - ETA: 0s - loss: 135.6467 - mean_squared_error: 135.64 - ETA: 0s - loss: 129.9512 - mean_squared_error: 129.95 - ETA: 0s - loss: 131.7598 - mean_squared_error: 131.75 - ETA: 0s - loss: 139.8864 - mean_squared_error: 139.88 - ETA: 0s - loss: 137.1569 - mean_squared_error: 137.15 - ETA: 0s - loss: 135.7422 - mean_squared_error: 135.74 - ETA: 0s - loss: 131.8281 - mean_squared_error: 131.82 - ETA: 0s - loss: 133.7277 - mean_squared_error: 133.72 - ETA: 0s - loss: 137.8962 - mean_squared_error: 137.89 - ETA: 0s - loss: 138.0190 - mean_squared_error: 138.01 - ETA: 0s - loss: 136.8217 - mean_squared_error: 136.82 - ETA: 0s - loss: 137.1068 - mean_squared_error: 137.10 - ETA: 0s - loss: 137.9498 - mean_squared_error: 137.94 - 1s 62ms/step - loss: 137.9498 - mean_squared_error: 137.9498 - val_loss: 1905.2524 - val_mean_squared_error: 1905.2524\n",
      "Epoch 60/100\n",
      "22/22 [==============================] - ETA: 0s - loss: 83.5952 - mean_squared_error: 83.59 - ETA: 0s - loss: 153.9611 - mean_squared_error: 153.96 - ETA: 0s - loss: 147.7734 - mean_squared_error: 147.77 - ETA: 0s - loss: 157.7913 - mean_squared_error: 157.79 - ETA: 0s - loss: 151.7613 - mean_squared_error: 151.76 - ETA: 0s - loss: 137.9304 - mean_squared_error: 137.93 - ETA: 0s - loss: 153.4333 - mean_squared_error: 153.43 - ETA: 0s - loss: 147.0534 - mean_squared_error: 147.05 - ETA: 0s - loss: 137.1175 - mean_squared_error: 137.11 - ETA: 0s - loss: 128.8524 - mean_squared_error: 128.85 - ETA: 0s - loss: 129.2612 - mean_squared_error: 129.26 - ETA: 0s - loss: 155.8712 - mean_squared_error: 155.87 - ETA: 0s - loss: 156.5534 - mean_squared_error: 156.55 - ETA: 0s - loss: 146.5471 - mean_squared_error: 146.54 - ETA: 0s - loss: 144.8210 - mean_squared_error: 144.82 - ETA: 0s - loss: 142.5952 - mean_squared_error: 142.59 - ETA: 0s - loss: 140.3411 - mean_squared_error: 140.34 - ETA: 0s - loss: 135.8012 - mean_squared_error: 135.80 - ETA: 0s - loss: 142.0195 - mean_squared_error: 142.01 - ETA: 0s - loss: 143.0455 - mean_squared_error: 143.04 - ETA: 0s - loss: 142.1983 - mean_squared_error: 142.19 - 1s 60ms/step - loss: 142.1983 - mean_squared_error: 142.1983 - val_loss: 1870.2218 - val_mean_squared_error: 1870.2218\n",
      "Epoch 61/100\n"
     ]
    },
    {
     "name": "stdout",
     "output_type": "stream",
     "text": [
      "22/22 [==============================] - ETA: 0s - loss: 152.9037 - mean_squared_error: 152.90 - ETA: 0s - loss: 118.0445 - mean_squared_error: 118.04 - ETA: 0s - loss: 122.7690 - mean_squared_error: 122.76 - ETA: 0s - loss: 124.9951 - mean_squared_error: 124.99 - ETA: 0s - loss: 135.4782 - mean_squared_error: 135.47 - ETA: 0s - loss: 146.1753 - mean_squared_error: 146.17 - ETA: 0s - loss: 138.0269 - mean_squared_error: 138.02 - ETA: 0s - loss: 147.7705 - mean_squared_error: 147.77 - ETA: 0s - loss: 143.4292 - mean_squared_error: 143.42 - ETA: 0s - loss: 137.3540 - mean_squared_error: 137.35 - ETA: 0s - loss: 141.4399 - mean_squared_error: 141.43 - ETA: 0s - loss: 134.6573 - mean_squared_error: 134.65 - ETA: 0s - loss: 138.4746 - mean_squared_error: 138.47 - ETA: 0s - loss: 142.7590 - mean_squared_error: 142.75 - ETA: 0s - loss: 139.0676 - mean_squared_error: 139.06 - ETA: 0s - loss: 133.5433 - mean_squared_error: 133.54 - ETA: 0s - loss: 142.4075 - mean_squared_error: 142.40 - ETA: 0s - loss: 142.9404 - mean_squared_error: 142.94 - ETA: 0s - loss: 140.3671 - mean_squared_error: 140.36 - ETA: 0s - loss: 142.6501 - mean_squared_error: 142.65 - ETA: 0s - loss: 146.9358 - mean_squared_error: 146.93 - 1s 61ms/step - loss: 147.4270 - mean_squared_error: 147.4270 - val_loss: 2108.6626 - val_mean_squared_error: 2108.6626\n",
      "Epoch 62/100\n",
      "22/22 [==============================] - ETA: 0s - loss: 96.4074 - mean_squared_error: 96.40 - ETA: 0s - loss: 198.9228 - mean_squared_error: 198.92 - ETA: 0s - loss: 182.7278 - mean_squared_error: 182.72 - ETA: 0s - loss: 177.0116 - mean_squared_error: 177.01 - ETA: 1s - loss: 200.4016 - mean_squared_error: 200.40 - ETA: 0s - loss: 211.5471 - mean_squared_error: 211.54 - ETA: 0s - loss: 208.2945 - mean_squared_error: 208.29 - ETA: 0s - loss: 201.7807 - mean_squared_error: 201.78 - ETA: 0s - loss: 210.2356 - mean_squared_error: 210.23 - ETA: 0s - loss: 234.2371 - mean_squared_error: 234.23 - ETA: 0s - loss: 226.9110 - mean_squared_error: 226.91 - ETA: 0s - loss: 225.6982 - mean_squared_error: 225.69 - ETA: 0s - loss: 231.5248 - mean_squared_error: 231.52 - ETA: 0s - loss: 237.6291 - mean_squared_error: 237.62 - ETA: 0s - loss: 232.2575 - mean_squared_error: 232.25 - ETA: 0s - loss: 232.6021 - mean_squared_error: 232.60 - ETA: 0s - loss: 250.9026 - mean_squared_error: 250.90 - ETA: 0s - loss: 250.3750 - mean_squared_error: 250.37 - ETA: 0s - loss: 248.6169 - mean_squared_error: 248.61 - ETA: 0s - loss: 253.8495 - mean_squared_error: 253.84 - ETA: 0s - loss: 261.7522 - mean_squared_error: 261.75 - 1s 67ms/step - loss: 255.1621 - mean_squared_error: 255.1621 - val_loss: 2022.4869 - val_mean_squared_error: 2022.4869\n",
      "Epoch 63/100\n",
      "22/22 [==============================] - ETA: 0s - loss: 159.4324 - mean_squared_error: 159.43 - ETA: 0s - loss: 161.1145 - mean_squared_error: 161.11 - ETA: 0s - loss: 245.6137 - mean_squared_error: 245.61 - ETA: 0s - loss: 261.8716 - mean_squared_error: 261.87 - ETA: 0s - loss: 269.3893 - mean_squared_error: 269.38 - ETA: 0s - loss: 241.8113 - mean_squared_error: 241.81 - ETA: 0s - loss: 225.6286 - mean_squared_error: 225.62 - ETA: 0s - loss: 208.6612 - mean_squared_error: 208.66 - ETA: 0s - loss: 201.7393 - mean_squared_error: 201.73 - ETA: 0s - loss: 193.4683 - mean_squared_error: 193.46 - ETA: 0s - loss: 188.8641 - mean_squared_error: 188.86 - ETA: 0s - loss: 184.7063 - mean_squared_error: 184.70 - ETA: 0s - loss: 204.0708 - mean_squared_error: 204.07 - ETA: 0s - loss: 202.9144 - mean_squared_error: 202.91 - ETA: 0s - loss: 196.9209 - mean_squared_error: 196.92 - ETA: 0s - loss: 189.9655 - mean_squared_error: 189.96 - ETA: 0s - loss: 199.3916 - mean_squared_error: 199.39 - ETA: 0s - loss: 196.6722 - mean_squared_error: 196.67 - ETA: 0s - loss: 194.6750 - mean_squared_error: 194.67 - ETA: 0s - loss: 199.4685 - mean_squared_error: 199.46 - 1s 62ms/step - loss: 199.4685 - mean_squared_error: 199.4685 - val_loss: 1998.5454 - val_mean_squared_error: 1998.5454\n",
      "Epoch 64/100\n",
      "22/22 [==============================] - ETA: 0s - loss: 159.6987 - mean_squared_error: 159.69 - ETA: 0s - loss: 213.3437 - mean_squared_error: 213.34 - ETA: 0s - loss: 206.1162 - mean_squared_error: 206.11 - ETA: 0s - loss: 181.7183 - mean_squared_error: 181.71 - ETA: 0s - loss: 198.7523 - mean_squared_error: 198.75 - ETA: 0s - loss: 184.0526 - mean_squared_error: 184.05 - ETA: 0s - loss: 175.4309 - mean_squared_error: 175.43 - ETA: 0s - loss: 174.6488 - mean_squared_error: 174.64 - ETA: 0s - loss: 169.8645 - mean_squared_error: 169.86 - ETA: 0s - loss: 169.3234 - mean_squared_error: 169.32 - ETA: 0s - loss: 178.5671 - mean_squared_error: 178.56 - ETA: 0s - loss: 177.5298 - mean_squared_error: 177.52 - ETA: 0s - loss: 179.0945 - mean_squared_error: 179.09 - ETA: 0s - loss: 192.0360 - mean_squared_error: 192.03 - ETA: 0s - loss: 194.0911 - mean_squared_error: 194.09 - ETA: 0s - loss: 196.6743 - mean_squared_error: 196.67 - ETA: 0s - loss: 190.1277 - mean_squared_error: 190.12 - ETA: 0s - loss: 187.5514 - mean_squared_error: 187.55 - ETA: 0s - loss: 198.7495 - mean_squared_error: 198.74 - ETA: 0s - loss: 206.6699 - mean_squared_error: 206.66 - 1s 61ms/step - loss: 212.8162 - mean_squared_error: 212.8162 - val_loss: 1889.6268 - val_mean_squared_error: 1889.6268\n",
      "Epoch 65/100\n",
      "22/22 [==============================] - ETA: 0s - loss: 193.7228 - mean_squared_error: 193.72 - ETA: 0s - loss: 173.9972 - mean_squared_error: 173.99 - ETA: 0s - loss: 171.6850 - mean_squared_error: 171.68 - ETA: 0s - loss: 292.4423 - mean_squared_error: 292.44 - ETA: 0s - loss: 261.0600 - mean_squared_error: 261.06 - ETA: 0s - loss: 267.0476 - mean_squared_error: 267.04 - ETA: 0s - loss: 250.0491 - mean_squared_error: 250.04 - ETA: 0s - loss: 234.4681 - mean_squared_error: 234.46 - ETA: 0s - loss: 222.0379 - mean_squared_error: 222.03 - ETA: 0s - loss: 217.9114 - mean_squared_error: 217.91 - ETA: 0s - loss: 227.9135 - mean_squared_error: 227.91 - ETA: 0s - loss: 212.6627 - mean_squared_error: 212.66 - ETA: 0s - loss: 203.4969 - mean_squared_error: 203.49 - ETA: 0s - loss: 209.2757 - mean_squared_error: 209.27 - ETA: 0s - loss: 208.8945 - mean_squared_error: 208.89 - ETA: 0s - loss: 205.2291 - mean_squared_error: 205.22 - ETA: 0s - loss: 202.4432 - mean_squared_error: 202.44 - ETA: 0s - loss: 209.0053 - mean_squared_error: 209.00 - ETA: 0s - loss: 212.0606 - mean_squared_error: 212.06 - ETA: 0s - loss: 206.1158 - mean_squared_error: 206.11 - ETA: 0s - loss: 202.0985 - mean_squared_error: 202.09 - 1s 66ms/step - loss: 199.0323 - mean_squared_error: 199.0323 - val_loss: 1826.5999 - val_mean_squared_error: 1826.5999\n",
      "Epoch 66/100\n",
      "22/22 [==============================] - ETA: 0s - loss: 146.7442 - mean_squared_error: 146.74 - ETA: 0s - loss: 156.4423 - mean_squared_error: 156.44 - ETA: 0s - loss: 165.9624 - mean_squared_error: 165.96 - ETA: 0s - loss: 150.9829 - mean_squared_error: 150.98 - ETA: 0s - loss: 172.0575 - mean_squared_error: 172.05 - ETA: 0s - loss: 161.5869 - mean_squared_error: 161.58 - ETA: 0s - loss: 172.2375 - mean_squared_error: 172.23 - ETA: 0s - loss: 168.3943 - mean_squared_error: 168.39 - ETA: 0s - loss: 172.0271 - mean_squared_error: 172.02 - ETA: 0s - loss: 178.7253 - mean_squared_error: 178.72 - ETA: 0s - loss: 175.9270 - mean_squared_error: 175.92 - ETA: 0s - loss: 170.9153 - mean_squared_error: 170.91 - ETA: 0s - loss: 161.3302 - mean_squared_error: 161.33 - 1s 53ms/step - loss: 162.8518 - mean_squared_error: 162.8518 - val_loss: 2080.2627 - val_mean_squared_error: 2080.2627\n",
      "Epoch 67/100\n"
     ]
    },
    {
     "name": "stdout",
     "output_type": "stream",
     "text": [
      "22/22 [==============================] - ETA: 0s - loss: 25.3024 - mean_squared_error: 25.30 - ETA: 0s - loss: 57.2318 - mean_squared_error: 57.23 - ETA: 0s - loss: 104.2017 - mean_squared_error: 104.20 - ETA: 0s - loss: 102.2208 - mean_squared_error: 102.22 - ETA: 0s - loss: 96.2296 - mean_squared_error: 96.2296 - ETA: 0s - loss: 97.5283 - mean_squared_error: 97.52 - ETA: 0s - loss: 93.3864 - mean_squared_error: 93.38 - ETA: 0s - loss: 89.6223 - mean_squared_error: 89.62 - ETA: 0s - loss: 99.5601 - mean_squared_error: 99.56 - ETA: 0s - loss: 88.5449 - mean_squared_error: 88.54 - ETA: 0s - loss: 86.3894 - mean_squared_error: 86.38 - ETA: 0s - loss: 84.1723 - mean_squared_error: 84.17 - ETA: 0s - loss: 84.6535 - mean_squared_error: 84.65 - ETA: 0s - loss: 90.0717 - mean_squared_error: 90.07 - ETA: 0s - loss: 93.2813 - mean_squared_error: 93.28 - ETA: 0s - loss: 100.9452 - mean_squared_error: 100.94 - ETA: 0s - loss: 99.7986 - mean_squared_error: 99.7986 - ETA: 0s - loss: 98.2750 - mean_squared_error: 98.27 - 1s 68ms/step - loss: 97.2149 - mean_squared_error: 97.2149 - val_loss: 1983.6906 - val_mean_squared_error: 1983.6906\n",
      "Epoch 68/100\n",
      "22/22 [==============================] - ETA: 0s - loss: 106.2031 - mean_squared_error: 106.20 - ETA: 0s - loss: 64.9217 - mean_squared_error: 64.9217 - ETA: 0s - loss: 53.1886 - mean_squared_error: 53.18 - ETA: 0s - loss: 76.5060 - mean_squared_error: 76.50 - ETA: 0s - loss: 74.0297 - mean_squared_error: 74.02 - ETA: 0s - loss: 71.1174 - mean_squared_error: 71.11 - ETA: 0s - loss: 78.3387 - mean_squared_error: 78.33 - ETA: 0s - loss: 80.6064 - mean_squared_error: 80.60 - ETA: 0s - loss: 98.5419 - mean_squared_error: 98.54 - ETA: 0s - loss: 90.7865 - mean_squared_error: 90.78 - ETA: 0s - loss: 86.6260 - mean_squared_error: 86.62 - ETA: 0s - loss: 85.6790 - mean_squared_error: 85.67 - ETA: 0s - loss: 81.4227 - mean_squared_error: 81.42 - ETA: 0s - loss: 80.2871 - mean_squared_error: 80.28 - ETA: 0s - loss: 77.5170 - mean_squared_error: 77.51 - ETA: 0s - loss: 75.2039 - mean_squared_error: 75.20 - ETA: 0s - loss: 76.0002 - mean_squared_error: 76.00 - ETA: 0s - loss: 76.4099 - mean_squared_error: 76.40 - ETA: 0s - loss: 75.3837 - mean_squared_error: 75.38 - ETA: 0s - loss: 77.8781 - mean_squared_error: 77.87 - ETA: 0s - loss: 78.1846 - mean_squared_error: 78.18 - 1s 64ms/step - loss: 78.1846 - mean_squared_error: 78.1846 - val_loss: 2025.4865 - val_mean_squared_error: 2025.4865\n",
      "Epoch 69/100\n",
      "22/22 [==============================] - ETA: 0s - loss: 49.4409 - mean_squared_error: 49.44 - ETA: 0s - loss: 36.8901 - mean_squared_error: 36.89 - ETA: 0s - loss: 30.3809 - mean_squared_error: 30.38 - ETA: 0s - loss: 38.0335 - mean_squared_error: 38.03 - ETA: 0s - loss: 51.5062 - mean_squared_error: 51.50 - ETA: 0s - loss: 54.3221 - mean_squared_error: 54.32 - ETA: 0s - loss: 56.6705 - mean_squared_error: 56.67 - ETA: 0s - loss: 73.7136 - mean_squared_error: 73.71 - ETA: 0s - loss: 69.1314 - mean_squared_error: 69.13 - ETA: 0s - loss: 67.0274 - mean_squared_error: 67.02 - ETA: 0s - loss: 71.6806 - mean_squared_error: 71.68 - ETA: 0s - loss: 75.3337 - mean_squared_error: 75.33 - ETA: 0s - loss: 72.0949 - mean_squared_error: 72.09 - ETA: 0s - loss: 75.1451 - mean_squared_error: 75.14 - ETA: 0s - loss: 74.4398 - mean_squared_error: 74.43 - ETA: 0s - loss: 70.6811 - mean_squared_error: 70.68 - ETA: 0s - loss: 68.6877 - mean_squared_error: 68.68 - ETA: 0s - loss: 68.7120 - mean_squared_error: 68.71 - ETA: 0s - loss: 67.4988 - mean_squared_error: 67.49 - 1s 68ms/step - loss: 67.4988 - mean_squared_error: 67.4988 - val_loss: 1905.0370 - val_mean_squared_error: 1905.0370\n",
      "Epoch 70/100\n",
      "22/22 [==============================] - ETA: 0s - loss: 143.2196 - mean_squared_error: 143.21 - ETA: 0s - loss: 174.8886 - mean_squared_error: 174.88 - ETA: 0s - loss: 141.2651 - mean_squared_error: 141.26 - ETA: 0s - loss: 118.9772 - mean_squared_error: 118.97 - ETA: 0s - loss: 116.8009 - mean_squared_error: 116.80 - ETA: 0s - loss: 127.3463 - mean_squared_error: 127.34 - ETA: 0s - loss: 112.7482 - mean_squared_error: 112.74 - ETA: 0s - loss: 105.5040 - mean_squared_error: 105.50 - ETA: 0s - loss: 101.4324 - mean_squared_error: 101.43 - ETA: 0s - loss: 95.6439 - mean_squared_error: 95.6439 - ETA: 0s - loss: 92.7729 - mean_squared_error: 92.77 - ETA: 0s - loss: 87.4039 - mean_squared_error: 87.40 - ETA: 0s - loss: 85.1614 - mean_squared_error: 85.16 - ETA: 0s - loss: 82.1731 - mean_squared_error: 82.17 - ETA: 0s - loss: 80.0422 - mean_squared_error: 80.04 - ETA: 0s - loss: 80.7264 - mean_squared_error: 80.72 - ETA: 0s - loss: 80.1283 - mean_squared_error: 80.12 - ETA: 0s - loss: 79.3692 - mean_squared_error: 79.36 - ETA: 0s - loss: 76.0162 - mean_squared_error: 76.01 - ETA: 0s - loss: 74.8155 - mean_squared_error: 74.81 - ETA: 0s - loss: 72.6729 - mean_squared_error: 72.67 - 1s 63ms/step - loss: 71.3755 - mean_squared_error: 71.3755 - val_loss: 2016.3798 - val_mean_squared_error: 2016.3798\n",
      "Epoch 71/100\n",
      "22/22 [==============================] - ETA: 0s - loss: 31.1334 - mean_squared_error: 31.13 - ETA: 0s - loss: 44.1073 - mean_squared_error: 44.10 - ETA: 0s - loss: 49.7221 - mean_squared_error: 49.72 - ETA: 0s - loss: 42.4855 - mean_squared_error: 42.48 - ETA: 0s - loss: 40.0568 - mean_squared_error: 40.05 - ETA: 0s - loss: 58.4580 - mean_squared_error: 58.45 - ETA: 0s - loss: 55.8290 - mean_squared_error: 55.82 - ETA: 0s - loss: 57.1132 - mean_squared_error: 57.11 - ETA: 0s - loss: 58.7486 - mean_squared_error: 58.74 - ETA: 0s - loss: 56.5206 - mean_squared_error: 56.52 - ETA: 0s - loss: 56.3847 - mean_squared_error: 56.38 - ETA: 0s - loss: 58.0317 - mean_squared_error: 58.03 - ETA: 0s - loss: 72.5078 - mean_squared_error: 72.50 - ETA: 0s - loss: 73.5265 - mean_squared_error: 73.52 - ETA: 0s - loss: 71.1387 - mean_squared_error: 71.13 - ETA: 0s - loss: 72.1693 - mean_squared_error: 72.16 - ETA: 0s - loss: 69.2050 - mean_squared_error: 69.20 - ETA: 0s - loss: 68.9339 - mean_squared_error: 68.93 - ETA: 0s - loss: 68.5107 - mean_squared_error: 68.51 - ETA: 0s - loss: 66.3111 - mean_squared_error: 66.31 - ETA: 0s - loss: 72.0767 - mean_squared_error: 72.07 - ETA: 0s - loss: 70.1845 - mean_squared_error: 70.18 - 1s 64ms/step - loss: 70.1845 - mean_squared_error: 70.1845 - val_loss: 1875.5907 - val_mean_squared_error: 1875.5907\n",
      "Epoch 72/100\n",
      "22/22 [==============================] - ETA: 0s - loss: 55.8762 - mean_squared_error: 55.87 - ETA: 0s - loss: 65.8414 - mean_squared_error: 65.84 - ETA: 0s - loss: 54.8183 - mean_squared_error: 54.81 - ETA: 0s - loss: 59.9460 - mean_squared_error: 59.94 - ETA: 0s - loss: 63.0987 - mean_squared_error: 63.09 - ETA: 0s - loss: 61.1272 - mean_squared_error: 61.12 - ETA: 0s - loss: 57.7073 - mean_squared_error: 57.70 - ETA: 0s - loss: 63.6801 - mean_squared_error: 63.68 - ETA: 0s - loss: 64.0533 - mean_squared_error: 64.05 - ETA: 0s - loss: 59.6437 - mean_squared_error: 59.64 - ETA: 0s - loss: 58.6883 - mean_squared_error: 58.68 - ETA: 0s - loss: 55.9730 - mean_squared_error: 55.97 - ETA: 0s - loss: 61.9378 - mean_squared_error: 61.93 - ETA: 0s - loss: 65.8742 - mean_squared_error: 65.87 - ETA: 0s - loss: 69.0843 - mean_squared_error: 69.08 - ETA: 0s - loss: 67.6399 - mean_squared_error: 67.63 - ETA: 0s - loss: 67.5845 - mean_squared_error: 67.58 - ETA: 0s - loss: 65.7175 - mean_squared_error: 65.71 - ETA: 0s - loss: 65.3999 - mean_squared_error: 65.39 - ETA: 0s - loss: 64.2639 - mean_squared_error: 64.26 - ETA: 0s - loss: 64.4000 - mean_squared_error: 64.40 - 2s 69ms/step - loss: 65.6440 - mean_squared_error: 65.6440 - val_loss: 1852.7365 - val_mean_squared_error: 1852.7365\n",
      "Epoch 73/100\n"
     ]
    },
    {
     "name": "stdout",
     "output_type": "stream",
     "text": [
      "22/22 [==============================] - ETA: 0s - loss: 63.6950 - mean_squared_error: 63.69 - ETA: 0s - loss: 52.7168 - mean_squared_error: 52.71 - ETA: 0s - loss: 77.8532 - mean_squared_error: 77.85 - ETA: 0s - loss: 75.6196 - mean_squared_error: 75.61 - ETA: 0s - loss: 67.7689 - mean_squared_error: 67.76 - ETA: 0s - loss: 64.6447 - mean_squared_error: 64.64 - ETA: 0s - loss: 64.4800 - mean_squared_error: 64.48 - ETA: 0s - loss: 59.7032 - mean_squared_error: 59.70 - ETA: 0s - loss: 55.4030 - mean_squared_error: 55.40 - ETA: 0s - loss: 51.6402 - mean_squared_error: 51.64 - ETA: 0s - loss: 59.6505 - mean_squared_error: 59.65 - ETA: 0s - loss: 57.6406 - mean_squared_error: 57.64 - ETA: 0s - loss: 56.7571 - mean_squared_error: 56.75 - ETA: 0s - loss: 58.4294 - mean_squared_error: 58.42 - ETA: 0s - loss: 57.8973 - mean_squared_error: 57.89 - ETA: 0s - loss: 54.9264 - mean_squared_error: 54.92 - ETA: 0s - loss: 53.4845 - mean_squared_error: 53.48 - ETA: 0s - loss: 54.0832 - mean_squared_error: 54.08 - ETA: 0s - loss: 54.7987 - mean_squared_error: 54.79 - ETA: 0s - loss: 53.6428 - mean_squared_error: 53.64 - ETA: 0s - loss: 52.7900 - mean_squared_error: 52.79 - ETA: 0s - loss: 51.9975 - mean_squared_error: 51.99 - 1s 64ms/step - loss: 51.9975 - mean_squared_error: 51.9975 - val_loss: 1967.9869 - val_mean_squared_error: 1967.9869\n",
      "Epoch 74/100\n",
      "22/22 [==============================] - ETA: 0s - loss: 20.1805 - mean_squared_error: 20.18 - ETA: 0s - loss: 32.0273 - mean_squared_error: 32.02 - ETA: 0s - loss: 44.0756 - mean_squared_error: 44.07 - ETA: 0s - loss: 37.9639 - mean_squared_error: 37.96 - ETA: 0s - loss: 35.9381 - mean_squared_error: 35.93 - ETA: 0s - loss: 48.5239 - mean_squared_error: 48.52 - ETA: 0s - loss: 43.1156 - mean_squared_error: 43.11 - ETA: 0s - loss: 43.1555 - mean_squared_error: 43.15 - ETA: 0s - loss: 42.2084 - mean_squared_error: 42.20 - ETA: 0s - loss: 44.0398 - mean_squared_error: 44.03 - ETA: 0s - loss: 41.8246 - mean_squared_error: 41.82 - ETA: 0s - loss: 46.7327 - mean_squared_error: 46.73 - ETA: 0s - loss: 45.9760 - mean_squared_error: 45.97 - ETA: 0s - loss: 45.5905 - mean_squared_error: 45.59 - ETA: 0s - loss: 55.1805 - mean_squared_error: 55.18 - ETA: 0s - loss: 53.2115 - mean_squared_error: 53.21 - ETA: 0s - loss: 53.1961 - mean_squared_error: 53.19 - ETA: 0s - loss: 52.6548 - mean_squared_error: 52.65 - ETA: 0s - loss: 51.7734 - mean_squared_error: 51.77 - ETA: 0s - loss: 55.3914 - mean_squared_error: 55.39 - ETA: 0s - loss: 62.2990 - mean_squared_error: 62.29 - 1s 67ms/step - loss: 61.7338 - mean_squared_error: 61.7338 - val_loss: 1912.9753 - val_mean_squared_error: 1912.9753\n",
      "Epoch 75/100\n",
      "22/22 [==============================] - ETA: 0s - loss: 35.2932 - mean_squared_error: 35.29 - ETA: 0s - loss: 59.1124 - mean_squared_error: 59.11 - ETA: 0s - loss: 64.3508 - mean_squared_error: 64.35 - ETA: 0s - loss: 98.0022 - mean_squared_error: 98.00 - ETA: 0s - loss: 95.9958 - mean_squared_error: 95.99 - ETA: 0s - loss: 99.6353 - mean_squared_error: 99.63 - ETA: 0s - loss: 104.0000 - mean_squared_error: 104.00 - ETA: 0s - loss: 97.1522 - mean_squared_error: 97.1522 - ETA: 0s - loss: 98.8614 - mean_squared_error: 98.86 - ETA: 0s - loss: 92.5520 - mean_squared_error: 92.55 - ETA: 0s - loss: 92.6163 - mean_squared_error: 92.61 - ETA: 0s - loss: 91.7355 - mean_squared_error: 91.73 - ETA: 0s - loss: 90.5612 - mean_squared_error: 90.56 - ETA: 0s - loss: 90.1392 - mean_squared_error: 90.13 - ETA: 0s - loss: 88.7946 - mean_squared_error: 88.79 - ETA: 0s - loss: 92.6138 - mean_squared_error: 92.61 - ETA: 0s - loss: 96.1497 - mean_squared_error: 96.14 - ETA: 0s - loss: 98.2023 - mean_squared_error: 98.20 - ETA: 0s - loss: 95.6573 - mean_squared_error: 95.65 - ETA: 0s - loss: 94.1279 - mean_squared_error: 94.12 - ETA: 0s - loss: 92.1902 - mean_squared_error: 92.19 - 1s 65ms/step - loss: 92.1902 - mean_squared_error: 92.1902 - val_loss: 1944.2100 - val_mean_squared_error: 1944.2100\n",
      "Epoch 76/100\n",
      "22/22 [==============================] - ETA: 0s - loss: 27.5228 - mean_squared_error: 27.52 - ETA: 0s - loss: 66.1892 - mean_squared_error: 66.18 - ETA: 0s - loss: 67.3246 - mean_squared_error: 67.32 - ETA: 0s - loss: 59.2976 - mean_squared_error: 59.29 - ETA: 0s - loss: 53.6304 - mean_squared_error: 53.63 - ETA: 0s - loss: 51.4825 - mean_squared_error: 51.48 - ETA: 0s - loss: 56.6647 - mean_squared_error: 56.66 - ETA: 0s - loss: 52.8011 - mean_squared_error: 52.80 - ETA: 0s - loss: 55.8660 - mean_squared_error: 55.86 - ETA: 0s - loss: 55.1818 - mean_squared_error: 55.18 - ETA: 0s - loss: 60.0427 - mean_squared_error: 60.04 - ETA: 0s - loss: 59.3824 - mean_squared_error: 59.38 - ETA: 0s - loss: 59.2740 - mean_squared_error: 59.27 - ETA: 0s - loss: 59.7164 - mean_squared_error: 59.71 - ETA: 0s - loss: 61.4872 - mean_squared_error: 61.48 - ETA: 0s - loss: 59.3577 - mean_squared_error: 59.35 - ETA: 0s - loss: 58.8836 - mean_squared_error: 58.88 - ETA: 0s - loss: 57.5709 - mean_squared_error: 57.57 - ETA: 0s - loss: 58.2796 - mean_squared_error: 58.27 - ETA: 0s - loss: 61.0014 - mean_squared_error: 61.00 - ETA: 0s - loss: 59.3558 - mean_squared_error: 59.35 - 1s 60ms/step - loss: 58.6006 - mean_squared_error: 58.6006 - val_loss: 1948.3658 - val_mean_squared_error: 1948.3658\n",
      "Epoch 77/100\n",
      "22/22 [==============================] - ETA: 0s - loss: 33.4685 - mean_squared_error: 33.46 - ETA: 0s - loss: 30.9236 - mean_squared_error: 30.92 - ETA: 0s - loss: 33.7793 - mean_squared_error: 33.77 - ETA: 0s - loss: 31.7495 - mean_squared_error: 31.74 - ETA: 0s - loss: 35.9091 - mean_squared_error: 35.90 - ETA: 0s - loss: 42.4189 - mean_squared_error: 42.41 - ETA: 0s - loss: 54.2675 - mean_squared_error: 54.26 - ETA: 0s - loss: 50.7822 - mean_squared_error: 50.78 - ETA: 0s - loss: 51.0866 - mean_squared_error: 51.08 - ETA: 0s - loss: 50.9628 - mean_squared_error: 50.96 - ETA: 0s - loss: 50.4613 - mean_squared_error: 50.46 - ETA: 0s - loss: 53.4624 - mean_squared_error: 53.46 - ETA: 0s - loss: 51.9473 - mean_squared_error: 51.94 - ETA: 0s - loss: 50.6002 - mean_squared_error: 50.60 - ETA: 0s - loss: 56.1985 - mean_squared_error: 56.19 - ETA: 0s - loss: 55.6808 - mean_squared_error: 55.68 - ETA: 0s - loss: 55.1772 - mean_squared_error: 55.17 - ETA: 0s - loss: 53.2630 - mean_squared_error: 53.26 - ETA: 0s - loss: 52.2559 - mean_squared_error: 52.25 - ETA: 0s - loss: 51.2476 - mean_squared_error: 51.24 - ETA: 0s - loss: 50.6262 - mean_squared_error: 50.62 - 1s 60ms/step - loss: 49.7716 - mean_squared_error: 49.7716 - val_loss: 2008.1202 - val_mean_squared_error: 2008.1202\n",
      "Epoch 78/100\n",
      "22/22 [==============================] - ETA: 0s - loss: 25.0308 - mean_squared_error: 25.03 - ETA: 0s - loss: 22.8676 - mean_squared_error: 22.86 - ETA: 0s - loss: 23.3511 - mean_squared_error: 23.35 - ETA: 0s - loss: 22.3275 - mean_squared_error: 22.32 - ETA: 0s - loss: 23.5731 - mean_squared_error: 23.57 - ETA: 0s - loss: 24.1963 - mean_squared_error: 24.19 - ETA: 0s - loss: 24.5779 - mean_squared_error: 24.57 - ETA: 0s - loss: 29.4551 - mean_squared_error: 29.45 - ETA: 0s - loss: 31.8059 - mean_squared_error: 31.80 - ETA: 0s - loss: 30.9753 - mean_squared_error: 30.97 - ETA: 0s - loss: 32.3748 - mean_squared_error: 32.37 - ETA: 0s - loss: 34.6240 - mean_squared_error: 34.62 - ETA: 0s - loss: 36.2486 - mean_squared_error: 36.24 - ETA: 0s - loss: 40.2703 - mean_squared_error: 40.27 - ETA: 0s - loss: 39.7505 - mean_squared_error: 39.75 - ETA: 0s - loss: 44.9428 - mean_squared_error: 44.94 - ETA: 0s - loss: 45.6336 - mean_squared_error: 45.63 - ETA: 0s - loss: 44.6304 - mean_squared_error: 44.63 - ETA: 0s - loss: 43.3413 - mean_squared_error: 43.34 - ETA: 0s - loss: 43.6698 - mean_squared_error: 43.66 - 1s 60ms/step - loss: 43.5322 - mean_squared_error: 43.5322 - val_loss: 1943.1741 - val_mean_squared_error: 1943.1741\n",
      "Epoch 79/100\n"
     ]
    },
    {
     "name": "stdout",
     "output_type": "stream",
     "text": [
      "22/22 [==============================] - ETA: 0s - loss: 20.2760 - mean_squared_error: 20.27 - ETA: 0s - loss: 24.7869 - mean_squared_error: 24.78 - ETA: 0s - loss: 37.1165 - mean_squared_error: 37.11 - ETA: 0s - loss: 35.1420 - mean_squared_error: 35.14 - ETA: 0s - loss: 38.9182 - mean_squared_error: 38.91 - ETA: 0s - loss: 40.7413 - mean_squared_error: 40.74 - ETA: 0s - loss: 44.0982 - mean_squared_error: 44.09 - ETA: 0s - loss: 45.1704 - mean_squared_error: 45.17 - ETA: 0s - loss: 45.2080 - mean_squared_error: 45.20 - ETA: 0s - loss: 45.8098 - mean_squared_error: 45.80 - ETA: 0s - loss: 45.1308 - mean_squared_error: 45.13 - ETA: 0s - loss: 44.7016 - mean_squared_error: 44.70 - ETA: 0s - loss: 48.6741 - mean_squared_error: 48.67 - ETA: 0s - loss: 48.8912 - mean_squared_error: 48.89 - ETA: 0s - loss: 46.8789 - mean_squared_error: 46.87 - ETA: 0s - loss: 46.7371 - mean_squared_error: 46.73 - ETA: 0s - loss: 47.9904 - mean_squared_error: 47.99 - ETA: 0s - loss: 46.4562 - mean_squared_error: 46.45 - ETA: 0s - loss: 45.1912 - mean_squared_error: 45.19 - ETA: 0s - loss: 45.6269 - mean_squared_error: 45.62 - ETA: 0s - loss: 46.8016 - mean_squared_error: 46.80 - ETA: 0s - loss: 46.5096 - mean_squared_error: 46.50 - 1s 61ms/step - loss: 46.5096 - mean_squared_error: 46.5096 - val_loss: 2057.3962 - val_mean_squared_error: 2057.3962\n",
      "Epoch 80/100\n",
      "22/22 [==============================] - ETA: 0s - loss: 23.5880 - mean_squared_error: 23.58 - ETA: 0s - loss: 40.0090 - mean_squared_error: 40.00 - ETA: 0s - loss: 36.8673 - mean_squared_error: 36.86 - ETA: 0s - loss: 37.3938 - mean_squared_error: 37.39 - ETA: 0s - loss: 37.9058 - mean_squared_error: 37.90 - ETA: 0s - loss: 36.8986 - mean_squared_error: 36.89 - ETA: 0s - loss: 34.8557 - mean_squared_error: 34.85 - ETA: 0s - loss: 43.7411 - mean_squared_error: 43.74 - ETA: 0s - loss: 47.3538 - mean_squared_error: 47.35 - ETA: 0s - loss: 46.9577 - mean_squared_error: 46.95 - ETA: 0s - loss: 45.3788 - mean_squared_error: 45.37 - ETA: 0s - loss: 44.5561 - mean_squared_error: 44.55 - ETA: 0s - loss: 42.5758 - mean_squared_error: 42.57 - ETA: 0s - loss: 42.6011 - mean_squared_error: 42.60 - ETA: 0s - loss: 41.6118 - mean_squared_error: 41.61 - ETA: 0s - loss: 45.7598 - mean_squared_error: 45.75 - ETA: 0s - loss: 47.0098 - mean_squared_error: 47.00 - ETA: 0s - loss: 44.9482 - mean_squared_error: 44.94 - ETA: 0s - loss: 46.2637 - mean_squared_error: 46.26 - ETA: 0s - loss: 46.1383 - mean_squared_error: 46.13 - 1s 61ms/step - loss: 45.0584 - mean_squared_error: 45.0584 - val_loss: 1913.8757 - val_mean_squared_error: 1913.8757\n",
      "Epoch 81/100\n",
      "22/22 [==============================] - ETA: 0s - loss: 18.0727 - mean_squared_error: 18.07 - ETA: 0s - loss: 32.7569 - mean_squared_error: 32.75 - ETA: 0s - loss: 27.1468 - mean_squared_error: 27.14 - ETA: 0s - loss: 27.5346 - mean_squared_error: 27.53 - ETA: 0s - loss: 26.5763 - mean_squared_error: 26.57 - ETA: 0s - loss: 23.7898 - mean_squared_error: 23.78 - ETA: 0s - loss: 32.3778 - mean_squared_error: 32.37 - ETA: 0s - loss: 30.1148 - mean_squared_error: 30.11 - ETA: 0s - loss: 31.4839 - mean_squared_error: 31.48 - ETA: 0s - loss: 30.9206 - mean_squared_error: 30.92 - ETA: 0s - loss: 33.6835 - mean_squared_error: 33.68 - ETA: 0s - loss: 32.7779 - mean_squared_error: 32.77 - ETA: 0s - loss: 32.3193 - mean_squared_error: 32.31 - ETA: 0s - loss: 33.0177 - mean_squared_error: 33.01 - ETA: 0s - loss: 35.0811 - mean_squared_error: 35.08 - ETA: 0s - loss: 34.0277 - mean_squared_error: 34.02 - ETA: 0s - loss: 33.0571 - mean_squared_error: 33.05 - ETA: 0s - loss: 32.3268 - mean_squared_error: 32.32 - ETA: 0s - loss: 33.1329 - mean_squared_error: 33.13 - ETA: 0s - loss: 35.3660 - mean_squared_error: 35.36 - ETA: 0s - loss: 34.6329 - mean_squared_error: 34.63 - 1s 60ms/step - loss: 36.2165 - mean_squared_error: 36.2165 - val_loss: 1912.3805 - val_mean_squared_error: 1912.3805\n",
      "Epoch 82/100\n",
      "22/22 [==============================] - ETA: 0s - loss: 24.0193 - mean_squared_error: 24.01 - ETA: 0s - loss: 40.3600 - mean_squared_error: 40.36 - ETA: 0s - loss: 30.2235 - mean_squared_error: 30.22 - ETA: 0s - loss: 26.6613 - mean_squared_error: 26.66 - ETA: 0s - loss: 21.9872 - mean_squared_error: 21.98 - ETA: 0s - loss: 39.9898 - mean_squared_error: 39.98 - ETA: 0s - loss: 36.2035 - mean_squared_error: 36.20 - ETA: 0s - loss: 35.8275 - mean_squared_error: 35.82 - ETA: 0s - loss: 38.1382 - mean_squared_error: 38.13 - ETA: 0s - loss: 35.6409 - mean_squared_error: 35.64 - ETA: 0s - loss: 39.1988 - mean_squared_error: 39.19 - ETA: 0s - loss: 37.1464 - mean_squared_error: 37.14 - ETA: 0s - loss: 36.9387 - mean_squared_error: 36.93 - ETA: 0s - loss: 38.6830 - mean_squared_error: 38.68 - ETA: 0s - loss: 37.9625 - mean_squared_error: 37.96 - ETA: 0s - loss: 40.4299 - mean_squared_error: 40.42 - ETA: 0s - loss: 39.0218 - mean_squared_error: 39.02 - ETA: 0s - loss: 37.9727 - mean_squared_error: 37.97 - ETA: 0s - loss: 37.8230 - mean_squared_error: 37.82 - ETA: 0s - loss: 37.3895 - mean_squared_error: 37.38 - ETA: 0s - loss: 40.3063 - mean_squared_error: 40.30 - 1s 63ms/step - loss: 40.0482 - mean_squared_error: 40.0482 - val_loss: 2010.2740 - val_mean_squared_error: 2010.2740\n",
      "Epoch 83/100\n",
      "22/22 [==============================] - ETA: 0s - loss: 11.3341 - mean_squared_error: 11.33 - ETA: 0s - loss: 11.9726 - mean_squared_error: 11.97 - ETA: 0s - loss: 20.8418 - mean_squared_error: 20.84 - ETA: 0s - loss: 23.3392 - mean_squared_error: 23.33 - ETA: 0s - loss: 22.8468 - mean_squared_error: 22.84 - ETA: 0s - loss: 21.4378 - mean_squared_error: 21.43 - ETA: 0s - loss: 28.2325 - mean_squared_error: 28.23 - ETA: 0s - loss: 25.8707 - mean_squared_error: 25.87 - ETA: 0s - loss: 30.2906 - mean_squared_error: 30.29 - ETA: 0s - loss: 34.6157 - mean_squared_error: 34.61 - ETA: 0s - loss: 36.4169 - mean_squared_error: 36.41 - ETA: 0s - loss: 35.0052 - mean_squared_error: 35.00 - ETA: 0s - loss: 34.2944 - mean_squared_error: 34.29 - ETA: 0s - loss: 36.6184 - mean_squared_error: 36.61 - ETA: 0s - loss: 39.2692 - mean_squared_error: 39.26 - ETA: 0s - loss: 37.6254 - mean_squared_error: 37.62 - ETA: 0s - loss: 39.6345 - mean_squared_error: 39.63 - ETA: 0s - loss: 40.7347 - mean_squared_error: 40.73 - ETA: 0s - loss: 42.3135 - mean_squared_error: 42.31 - ETA: 0s - loss: 43.3415 - mean_squared_error: 43.34 - ETA: 0s - loss: 42.7098 - mean_squared_error: 42.70 - 1s 60ms/step - loss: 42.3218 - mean_squared_error: 42.3218 - val_loss: 2129.5601 - val_mean_squared_error: 2129.5601\n",
      "Epoch 84/100\n",
      "22/22 [==============================] - ETA: 0s - loss: 44.7347 - mean_squared_error: 44.73 - ETA: 0s - loss: 35.9989 - mean_squared_error: 35.99 - ETA: 0s - loss: 34.5570 - mean_squared_error: 34.55 - ETA: 0s - loss: 40.3671 - mean_squared_error: 40.36 - ETA: 0s - loss: 38.3525 - mean_squared_error: 38.35 - ETA: 0s - loss: 39.6157 - mean_squared_error: 39.61 - ETA: 0s - loss: 39.0614 - mean_squared_error: 39.06 - ETA: 0s - loss: 36.4826 - mean_squared_error: 36.48 - ETA: 0s - loss: 39.3795 - mean_squared_error: 39.37 - ETA: 0s - loss: 38.4214 - mean_squared_error: 38.42 - ETA: 0s - loss: 40.6208 - mean_squared_error: 40.62 - ETA: 0s - loss: 44.5451 - mean_squared_error: 44.54 - ETA: 0s - loss: 42.9614 - mean_squared_error: 42.96 - ETA: 0s - loss: 43.6937 - mean_squared_error: 43.69 - ETA: 0s - loss: 41.5490 - mean_squared_error: 41.54 - ETA: 0s - loss: 40.7041 - mean_squared_error: 40.70 - ETA: 0s - loss: 40.1086 - mean_squared_error: 40.10 - ETA: 0s - loss: 38.8749 - mean_squared_error: 38.87 - ETA: 0s - loss: 40.4043 - mean_squared_error: 40.40 - ETA: 0s - loss: 40.9595 - mean_squared_error: 40.95 - ETA: 0s - loss: 41.5518 - mean_squared_error: 41.55 - 1s 60ms/step - loss: 40.8263 - mean_squared_error: 40.8263 - val_loss: 1954.4829 - val_mean_squared_error: 1954.4829\n",
      "Epoch 85/100\n"
     ]
    },
    {
     "name": "stdout",
     "output_type": "stream",
     "text": [
      "22/22 [==============================] - ETA: 0s - loss: 41.7554 - mean_squared_error: 41.75 - ETA: 0s - loss: 31.5447 - mean_squared_error: 31.54 - ETA: 0s - loss: 36.5063 - mean_squared_error: 36.50 - ETA: 0s - loss: 52.7042 - mean_squared_error: 52.70 - ETA: 0s - loss: 51.9759 - mean_squared_error: 51.97 - ETA: 0s - loss: 46.3722 - mean_squared_error: 46.37 - ETA: 0s - loss: 42.6442 - mean_squared_error: 42.64 - ETA: 0s - loss: 41.9328 - mean_squared_error: 41.93 - ETA: 0s - loss: 39.1731 - mean_squared_error: 39.17 - ETA: 0s - loss: 38.4099 - mean_squared_error: 38.40 - ETA: 0s - loss: 44.6446 - mean_squared_error: 44.64 - ETA: 0s - loss: 42.4777 - mean_squared_error: 42.47 - ETA: 0s - loss: 40.6390 - mean_squared_error: 40.63 - ETA: 0s - loss: 45.9044 - mean_squared_error: 45.90 - ETA: 0s - loss: 44.0547 - mean_squared_error: 44.05 - ETA: 0s - loss: 42.5497 - mean_squared_error: 42.54 - ETA: 0s - loss: 43.0370 - mean_squared_error: 43.03 - ETA: 0s - loss: 41.8554 - mean_squared_error: 41.85 - ETA: 0s - loss: 41.9508 - mean_squared_error: 41.95 - ETA: 0s - loss: 40.5000 - mean_squared_error: 40.50 - ETA: 0s - loss: 41.1774 - mean_squared_error: 41.17 - 1s 61ms/step - loss: 41.6396 - mean_squared_error: 41.6396 - val_loss: 1977.8931 - val_mean_squared_error: 1977.8931\n",
      "Epoch 86/100\n",
      "22/22 [==============================] - ETA: 0s - loss: 37.8309 - mean_squared_error: 37.83 - ETA: 0s - loss: 29.1966 - mean_squared_error: 29.19 - ETA: 0s - loss: 30.7815 - mean_squared_error: 30.78 - ETA: 0s - loss: 39.8386 - mean_squared_error: 39.83 - ETA: 0s - loss: 33.7507 - mean_squared_error: 33.75 - ETA: 0s - loss: 36.1281 - mean_squared_error: 36.12 - ETA: 0s - loss: 37.3875 - mean_squared_error: 37.38 - ETA: 0s - loss: 39.8386 - mean_squared_error: 39.83 - ETA: 0s - loss: 37.3101 - mean_squared_error: 37.31 - ETA: 0s - loss: 41.6210 - mean_squared_error: 41.62 - ETA: 0s - loss: 42.1921 - mean_squared_error: 42.19 - ETA: 0s - loss: 43.3836 - mean_squared_error: 43.38 - ETA: 0s - loss: 52.3806 - mean_squared_error: 52.38 - ETA: 0s - loss: 51.5318 - mean_squared_error: 51.53 - ETA: 0s - loss: 54.5007 - mean_squared_error: 54.50 - ETA: 0s - loss: 53.4081 - mean_squared_error: 53.40 - ETA: 0s - loss: 54.4967 - mean_squared_error: 54.49 - ETA: 0s - loss: 55.4322 - mean_squared_error: 55.43 - ETA: 0s - loss: 56.1446 - mean_squared_error: 56.14 - ETA: 0s - loss: 55.5071 - mean_squared_error: 55.50 - ETA: 0s - loss: 56.1045 - mean_squared_error: 56.10 - 1s 61ms/step - loss: 55.9486 - mean_squared_error: 55.9486 - val_loss: 1966.3040 - val_mean_squared_error: 1966.3040\n",
      "Epoch 87/100\n",
      "22/22 [==============================] - ETA: 0s - loss: 18.8192 - mean_squared_error: 18.81 - ETA: 0s - loss: 28.1760 - mean_squared_error: 28.17 - ETA: 0s - loss: 26.3559 - mean_squared_error: 26.35 - ETA: 0s - loss: 27.8958 - mean_squared_error: 27.89 - ETA: 0s - loss: 30.6972 - mean_squared_error: 30.69 - ETA: 0s - loss: 33.3547 - mean_squared_error: 33.35 - ETA: 0s - loss: 32.9756 - mean_squared_error: 32.97 - ETA: 0s - loss: 37.7846 - mean_squared_error: 37.78 - ETA: 0s - loss: 43.1171 - mean_squared_error: 43.11 - ETA: 0s - loss: 51.9998 - mean_squared_error: 51.99 - ETA: 0s - loss: 53.8425 - mean_squared_error: 53.84 - ETA: 0s - loss: 53.7984 - mean_squared_error: 53.79 - ETA: 0s - loss: 55.8191 - mean_squared_error: 55.81 - ETA: 0s - loss: 54.9263 - mean_squared_error: 54.92 - ETA: 0s - loss: 55.7512 - mean_squared_error: 55.75 - ETA: 0s - loss: 59.7195 - mean_squared_error: 59.71 - ETA: 0s - loss: 57.9989 - mean_squared_error: 57.99 - ETA: 0s - loss: 60.8307 - mean_squared_error: 60.83 - ETA: 0s - loss: 59.9337 - mean_squared_error: 59.93 - ETA: 0s - loss: 64.4226 - mean_squared_error: 64.42 - ETA: 0s - loss: 63.2528 - mean_squared_error: 63.25 - 1s 61ms/step - loss: 63.2528 - mean_squared_error: 63.2528 - val_loss: 1921.8728 - val_mean_squared_error: 1921.8728\n",
      "Epoch 88/100\n",
      "22/22 [==============================] - ETA: 0s - loss: 61.2647 - mean_squared_error: 61.26 - ETA: 0s - loss: 67.0413 - mean_squared_error: 67.04 - ETA: 0s - loss: 66.4162 - mean_squared_error: 66.41 - ETA: 0s - loss: 70.5776 - mean_squared_error: 70.57 - ETA: 0s - loss: 66.7089 - mean_squared_error: 66.70 - ETA: 0s - loss: 69.3835 - mean_squared_error: 69.38 - ETA: 0s - loss: 72.7321 - mean_squared_error: 72.73 - ETA: 0s - loss: 70.3451 - mean_squared_error: 70.34 - ETA: 0s - loss: 72.5228 - mean_squared_error: 72.52 - ETA: 0s - loss: 72.0453 - mean_squared_error: 72.04 - ETA: 0s - loss: 73.0372 - mean_squared_error: 73.03 - ETA: 0s - loss: 79.5045 - mean_squared_error: 79.50 - ETA: 0s - loss: 78.2224 - mean_squared_error: 78.22 - 1s 55ms/step - loss: 77.4666 - mean_squared_error: 77.4666 - val_loss: 1886.8441 - val_mean_squared_error: 1886.8441\n",
      "Epoch 89/100\n",
      "22/22 [==============================] - ETA: 0s - loss: 34.8019 - mean_squared_error: 34.80 - ETA: 0s - loss: 68.1550 - mean_squared_error: 68.15 - ETA: 0s - loss: 78.4317 - mean_squared_error: 78.43 - ETA: 0s - loss: 74.3604 - mean_squared_error: 74.36 - ETA: 0s - loss: 69.0711 - mean_squared_error: 69.07 - ETA: 0s - loss: 70.0049 - mean_squared_error: 70.00 - ETA: 0s - loss: 72.7217 - mean_squared_error: 72.72 - ETA: 0s - loss: 73.2718 - mean_squared_error: 73.27 - ETA: 0s - loss: 76.2724 - mean_squared_error: 76.27 - ETA: 0s - loss: 90.5065 - mean_squared_error: 90.50 - ETA: 0s - loss: 95.4314 - mean_squared_error: 95.43 - ETA: 0s - loss: 101.1424 - mean_squared_error: 101.14 - ETA: 0s - loss: 107.0145 - mean_squared_error: 107.01 - ETA: 0s - loss: 112.6751 - mean_squared_error: 112.67 - ETA: 0s - loss: 110.4835 - mean_squared_error: 110.48 - ETA: 0s - loss: 105.9893 - mean_squared_error: 105.98 - ETA: 0s - loss: 107.3401 - mean_squared_error: 107.34 - 1s 64ms/step - loss: 108.0419 - mean_squared_error: 108.0419 - val_loss: 2033.6884 - val_mean_squared_error: 2033.6884\n",
      "Epoch 90/100\n",
      "22/22 [==============================] - ETA: 0s - loss: 76.7393 - mean_squared_error: 76.73 - ETA: 0s - loss: 105.6096 - mean_squared_error: 105.60 - ETA: 0s - loss: 111.3435 - mean_squared_error: 111.34 - ETA: 0s - loss: 92.6082 - mean_squared_error: 92.6082 - ETA: 0s - loss: 87.4129 - mean_squared_error: 87.41 - ETA: 0s - loss: 91.9049 - mean_squared_error: 91.90 - ETA: 0s - loss: 103.7825 - mean_squared_error: 103.78 - ETA: 0s - loss: 101.3928 - mean_squared_error: 101.39 - ETA: 0s - loss: 94.8659 - mean_squared_error: 94.8659 - ETA: 0s - loss: 97.8261 - mean_squared_error: 97.82 - ETA: 0s - loss: 93.2043 - mean_squared_error: 93.20 - ETA: 0s - loss: 89.6970 - mean_squared_error: 89.69 - ETA: 0s - loss: 89.5293 - mean_squared_error: 89.52 - ETA: 0s - loss: 87.6968 - mean_squared_error: 87.69 - ETA: 0s - loss: 92.1633 - mean_squared_error: 92.16 - ETA: 0s - loss: 92.6293 - mean_squared_error: 92.62 - ETA: 0s - loss: 89.5462 - mean_squared_error: 89.54 - ETA: 0s - loss: 90.4085 - mean_squared_error: 90.40 - ETA: 0s - loss: 87.8722 - mean_squared_error: 87.87 - ETA: 0s - loss: 85.7262 - mean_squared_error: 85.72 - 1s 61ms/step - loss: 83.1326 - mean_squared_error: 83.1326 - val_loss: 2004.2427 - val_mean_squared_error: 2004.2427\n",
      "Epoch 91/100\n",
      "22/22 [==============================] - ETA: 0s - loss: 74.6733 - mean_squared_error: 74.67 - ETA: 0s - loss: 52.5462 - mean_squared_error: 52.54 - ETA: 0s - loss: 45.2135 - mean_squared_error: 45.21 - ETA: 0s - loss: 58.3842 - mean_squared_error: 58.38 - ETA: 0s - loss: 80.5866 - mean_squared_error: 80.58 - ETA: 0s - loss: 77.4206 - mean_squared_error: 77.42 - ETA: 0s - loss: 89.0164 - mean_squared_error: 89.01 - ETA: 0s - loss: 84.8597 - mean_squared_error: 84.85 - ETA: 0s - loss: 77.7996 - mean_squared_error: 77.79 - ETA: 0s - loss: 79.1909 - mean_squared_error: 79.19 - ETA: 0s - loss: 79.2057 - mean_squared_error: 79.20 - ETA: 0s - loss: 75.8152 - mean_squared_error: 75.81 - ETA: 0s - loss: 72.9273 - mean_squared_error: 72.92 - ETA: 0s - loss: 71.7582 - mean_squared_error: 71.75 - ETA: 0s - loss: 72.8275 - mean_squared_error: 72.82 - ETA: 0s - loss: 72.4915 - mean_squared_error: 72.49 - ETA: 0s - loss: 73.2186 - mean_squared_error: 73.21 - ETA: 0s - loss: 72.2151 - mean_squared_error: 72.21 - 1s 61ms/step - loss: 69.8755 - mean_squared_error: 69.8755 - val_loss: 2044.3307 - val_mean_squared_error: 2044.3307\n"
     ]
    },
    {
     "name": "stdout",
     "output_type": "stream",
     "text": [
      "Epoch 92/100\n",
      "22/22 [==============================] - ETA: 0s - loss: 44.6810 - mean_squared_error: 44.68 - ETA: 0s - loss: 34.4600 - mean_squared_error: 34.46 - ETA: 0s - loss: 36.9149 - mean_squared_error: 36.91 - ETA: 0s - loss: 35.3518 - mean_squared_error: 35.35 - ETA: 0s - loss: 36.3132 - mean_squared_error: 36.31 - ETA: 0s - loss: 41.1986 - mean_squared_error: 41.19 - ETA: 0s - loss: 39.6193 - mean_squared_error: 39.61 - ETA: 0s - loss: 37.8625 - mean_squared_error: 37.86 - ETA: 0s - loss: 42.2171 - mean_squared_error: 42.21 - ETA: 0s - loss: 41.5998 - mean_squared_error: 41.59 - ETA: 0s - loss: 43.9593 - mean_squared_error: 43.95 - ETA: 0s - loss: 41.6426 - mean_squared_error: 41.64 - ETA: 0s - loss: 39.9660 - mean_squared_error: 39.96 - ETA: 0s - loss: 39.1802 - mean_squared_error: 39.18 - ETA: 0s - loss: 38.7304 - mean_squared_error: 38.73 - ETA: 0s - loss: 38.1934 - mean_squared_error: 38.19 - 1s 61ms/step - loss: 38.1934 - mean_squared_error: 38.1934 - val_loss: 2013.2343 - val_mean_squared_error: 2013.2343\n",
      "Epoch 93/100\n",
      "22/22 [==============================] - ETA: 0s - loss: 18.8248 - mean_squared_error: 18.82 - ETA: 0s - loss: 29.1776 - mean_squared_error: 29.17 - ETA: 0s - loss: 29.9179 - mean_squared_error: 29.91 - ETA: 0s - loss: 37.5258 - mean_squared_error: 37.52 - ETA: 0s - loss: 41.9642 - mean_squared_error: 41.96 - ETA: 0s - loss: 38.9161 - mean_squared_error: 38.91 - ETA: 0s - loss: 37.3700 - mean_squared_error: 37.37 - ETA: 0s - loss: 41.3943 - mean_squared_error: 41.39 - ETA: 0s - loss: 44.1900 - mean_squared_error: 44.19 - ETA: 0s - loss: 45.7441 - mean_squared_error: 45.74 - ETA: 0s - loss: 49.0756 - mean_squared_error: 49.07 - ETA: 0s - loss: 47.7355 - mean_squared_error: 47.73 - ETA: 0s - loss: 54.1978 - mean_squared_error: 54.19 - ETA: 0s - loss: 53.5066 - mean_squared_error: 53.50 - ETA: 0s - loss: 53.7667 - mean_squared_error: 53.76 - ETA: 0s - loss: 53.7697 - mean_squared_error: 53.76 - ETA: 0s - loss: 55.5260 - mean_squared_error: 55.52 - ETA: 0s - loss: 54.3982 - mean_squared_error: 54.39 - 1s 64ms/step - loss: 56.8474 - mean_squared_error: 56.8474 - val_loss: 1975.6162 - val_mean_squared_error: 1975.6162\n",
      "Epoch 94/100\n",
      "22/22 [==============================] - ETA: 0s - loss: 63.0997 - mean_squared_error: 63.09 - ETA: 0s - loss: 62.1721 - mean_squared_error: 62.17 - ETA: 0s - loss: 55.5091 - mean_squared_error: 55.50 - ETA: 0s - loss: 69.0477 - mean_squared_error: 69.04 - ETA: 0s - loss: 85.6520 - mean_squared_error: 85.65 - ETA: 0s - loss: 80.0121 - mean_squared_error: 80.01 - ETA: 0s - loss: 85.7705 - mean_squared_error: 85.77 - ETA: 0s - loss: 90.8717 - mean_squared_error: 90.87 - ETA: 0s - loss: 82.5178 - mean_squared_error: 82.51 - ETA: 0s - loss: 81.5619 - mean_squared_error: 81.56 - ETA: 0s - loss: 83.4642 - mean_squared_error: 83.46 - ETA: 0s - loss: 84.2451 - mean_squared_error: 84.24 - ETA: 0s - loss: 83.9289 - mean_squared_error: 83.92 - ETA: 0s - loss: 84.2928 - mean_squared_error: 84.29 - ETA: 0s - loss: 82.9260 - mean_squared_error: 82.92 - ETA: 0s - loss: 80.7967 - mean_squared_error: 80.79 - ETA: 0s - loss: 79.4216 - mean_squared_error: 79.42 - ETA: 0s - loss: 78.5927 - mean_squared_error: 78.59 - ETA: 0s - loss: 77.9980 - mean_squared_error: 77.99 - ETA: 0s - loss: 79.2566 - mean_squared_error: 79.25 - ETA: 0s - loss: 78.4804 - mean_squared_error: 78.48 - ETA: 0s - loss: 77.2287 - mean_squared_error: 77.22 - 1s 61ms/step - loss: 77.2287 - mean_squared_error: 77.2287 - val_loss: 2167.6067 - val_mean_squared_error: 2167.6067\n",
      "Epoch 95/100\n",
      "22/22 [==============================] - ETA: 0s - loss: 157.9444 - mean_squared_error: 157.94 - ETA: 0s - loss: 105.9772 - mean_squared_error: 105.97 - ETA: 0s - loss: 99.6136 - mean_squared_error: 99.6136 - ETA: 0s - loss: 120.9985 - mean_squared_error: 120.99 - ETA: 0s - loss: 120.0027 - mean_squared_error: 120.00 - ETA: 0s - loss: 113.7890 - mean_squared_error: 113.78 - ETA: 0s - loss: 115.4588 - mean_squared_error: 115.45 - ETA: 0s - loss: 118.7616 - mean_squared_error: 118.76 - ETA: 0s - loss: 111.6658 - mean_squared_error: 111.66 - ETA: 0s - loss: 109.2963 - mean_squared_error: 109.29 - ETA: 0s - loss: 111.9396 - mean_squared_error: 111.93 - ETA: 0s - loss: 113.3014 - mean_squared_error: 113.30 - ETA: 0s - loss: 117.3014 - mean_squared_error: 117.30 - ETA: 0s - loss: 123.8147 - mean_squared_error: 123.81 - ETA: 0s - loss: 124.9860 - mean_squared_error: 124.98 - ETA: 0s - loss: 123.6386 - mean_squared_error: 123.63 - ETA: 0s - loss: 123.7762 - mean_squared_error: 123.77 - ETA: 0s - loss: 119.9044 - mean_squared_error: 119.90 - ETA: 0s - loss: 117.4265 - mean_squared_error: 117.42 - ETA: 0s - loss: 113.4385 - mean_squared_error: 113.43 - ETA: 0s - loss: 110.1246 - mean_squared_error: 110.12 - ETA: 0s - loss: 107.7628 - mean_squared_error: 107.76 - 1s 63ms/step - loss: 107.7628 - mean_squared_error: 107.7628 - val_loss: 1867.7520 - val_mean_squared_error: 1867.7520\n",
      "Epoch 96/100\n",
      "22/22 [==============================] - ETA: 0s - loss: 104.9717 - mean_squared_error: 104.97 - ETA: 0s - loss: 93.6057 - mean_squared_error: 93.6057 - ETA: 0s - loss: 95.7443 - mean_squared_error: 95.74 - ETA: 0s - loss: 121.3814 - mean_squared_error: 121.38 - ETA: 0s - loss: 114.7265 - mean_squared_error: 114.72 - ETA: 0s - loss: 106.4688 - mean_squared_error: 106.46 - ETA: 0s - loss: 114.4024 - mean_squared_error: 114.40 - ETA: 0s - loss: 107.6957 - mean_squared_error: 107.69 - ETA: 0s - loss: 101.1168 - mean_squared_error: 101.11 - ETA: 0s - loss: 103.6296 - mean_squared_error: 103.62 - ETA: 0s - loss: 100.5680 - mean_squared_error: 100.56 - ETA: 0s - loss: 102.6156 - mean_squared_error: 102.61 - ETA: 0s - loss: 107.9644 - mean_squared_error: 107.96 - ETA: 0s - loss: 118.7866 - mean_squared_error: 118.78 - ETA: 0s - loss: 112.7730 - mean_squared_error: 112.77 - ETA: 0s - loss: 114.1580 - mean_squared_error: 114.15 - ETA: 0s - loss: 120.3583 - mean_squared_error: 120.35 - ETA: 0s - loss: 118.2958 - mean_squared_error: 118.29 - ETA: 0s - loss: 113.5437 - mean_squared_error: 113.54 - ETA: 0s - loss: 109.3384 - mean_squared_error: 109.33 - ETA: 0s - loss: 108.6046 - mean_squared_error: 108.60 - 1s 64ms/step - loss: 105.5968 - mean_squared_error: 105.5968 - val_loss: 1772.8257 - val_mean_squared_error: 1772.8257\n",
      "Epoch 97/100\n",
      "22/22 [==============================] - ETA: 0s - loss: 76.5346 - mean_squared_error: 76.53 - ETA: 0s - loss: 59.3795 - mean_squared_error: 59.37 - ETA: 0s - loss: 89.8590 - mean_squared_error: 89.85 - ETA: 0s - loss: 87.7305 - mean_squared_error: 87.73 - ETA: 0s - loss: 82.5112 - mean_squared_error: 82.51 - ETA: 0s - loss: 77.9952 - mean_squared_error: 77.99 - ETA: 0s - loss: 73.8243 - mean_squared_error: 73.82 - ETA: 0s - loss: 71.1379 - mean_squared_error: 71.13 - ETA: 0s - loss: 70.0132 - mean_squared_error: 70.01 - ETA: 0s - loss: 76.1897 - mean_squared_error: 76.18 - ETA: 0s - loss: 76.9577 - mean_squared_error: 76.95 - ETA: 0s - loss: 72.9961 - mean_squared_error: 72.99 - ETA: 0s - loss: 76.3008 - mean_squared_error: 76.30 - ETA: 0s - loss: 76.8547 - mean_squared_error: 76.85 - ETA: 0s - loss: 78.2232 - mean_squared_error: 78.22 - ETA: 0s - loss: 76.6656 - mean_squared_error: 76.66 - ETA: 0s - loss: 76.2570 - mean_squared_error: 76.25 - ETA: 0s - loss: 76.6428 - mean_squared_error: 76.64 - ETA: 0s - loss: 75.2172 - mean_squared_error: 75.21 - ETA: 0s - loss: 73.1557 - mean_squared_error: 73.15 - ETA: 0s - loss: 72.9657 - mean_squared_error: 72.96 - 1s 61ms/step - loss: 73.1658 - mean_squared_error: 73.1658 - val_loss: 1873.3848 - val_mean_squared_error: 1873.3848\n",
      "Epoch 98/100\n"
     ]
    },
    {
     "name": "stdout",
     "output_type": "stream",
     "text": [
      "22/22 [==============================] - ETA: 0s - loss: 66.2830 - mean_squared_error: 66.28 - ETA: 0s - loss: 57.1972 - mean_squared_error: 57.19 - ETA: 0s - loss: 50.1156 - mean_squared_error: 50.11 - ETA: 0s - loss: 50.7577 - mean_squared_error: 50.75 - ETA: 0s - loss: 55.4304 - mean_squared_error: 55.43 - ETA: 0s - loss: 50.6803 - mean_squared_error: 50.68 - ETA: 0s - loss: 58.5129 - mean_squared_error: 58.51 - ETA: 0s - loss: 56.1398 - mean_squared_error: 56.13 - ETA: 0s - loss: 51.9812 - mean_squared_error: 51.98 - ETA: 0s - loss: 50.4200 - mean_squared_error: 50.42 - ETA: 0s - loss: 50.6068 - mean_squared_error: 50.60 - ETA: 0s - loss: 51.3350 - mean_squared_error: 51.33 - ETA: 0s - loss: 49.7058 - mean_squared_error: 49.70 - ETA: 0s - loss: 48.8186 - mean_squared_error: 48.81 - ETA: 0s - loss: 48.6336 - mean_squared_error: 48.63 - ETA: 0s - loss: 46.4939 - mean_squared_error: 46.49 - ETA: 0s - loss: 47.9286 - mean_squared_error: 47.92 - ETA: 0s - loss: 47.4725 - mean_squared_error: 47.47 - ETA: 0s - loss: 46.6909 - mean_squared_error: 46.69 - ETA: 0s - loss: 46.7991 - mean_squared_error: 46.79 - ETA: 0s - loss: 46.8402 - mean_squared_error: 46.84 - 1s 61ms/step - loss: 46.0959 - mean_squared_error: 46.0959 - val_loss: 2034.5168 - val_mean_squared_error: 2034.5168\n",
      "Epoch 99/100\n",
      "22/22 [==============================] - ETA: 0s - loss: 11.0247 - mean_squared_error: 11.02 - ETA: 0s - loss: 21.3903 - mean_squared_error: 21.39 - ETA: 0s - loss: 31.4193 - mean_squared_error: 31.41 - ETA: 0s - loss: 25.7204 - mean_squared_error: 25.72 - ETA: 0s - loss: 25.3049 - mean_squared_error: 25.30 - ETA: 0s - loss: 27.4427 - mean_squared_error: 27.44 - ETA: 0s - loss: 26.1151 - mean_squared_error: 26.11 - ETA: 0s - loss: 29.3531 - mean_squared_error: 29.35 - ETA: 0s - loss: 27.4328 - mean_squared_error: 27.43 - ETA: 0s - loss: 26.9277 - mean_squared_error: 26.92 - ETA: 0s - loss: 29.6140 - mean_squared_error: 29.61 - ETA: 0s - loss: 32.0511 - mean_squared_error: 32.05 - ETA: 0s - loss: 32.9792 - mean_squared_error: 32.97 - ETA: 0s - loss: 33.9501 - mean_squared_error: 33.95 - ETA: 0s - loss: 33.3386 - mean_squared_error: 33.33 - ETA: 0s - loss: 32.2996 - mean_squared_error: 32.29 - ETA: 0s - loss: 32.4897 - mean_squared_error: 32.48 - ETA: 0s - loss: 31.1421 - mean_squared_error: 31.14 - ETA: 0s - loss: 30.8140 - mean_squared_error: 30.81 - ETA: 0s - loss: 31.1186 - mean_squared_error: 31.11 - ETA: 0s - loss: 30.8722 - mean_squared_error: 30.87 - 1s 61ms/step - loss: 31.0768 - mean_squared_error: 31.0768 - val_loss: 2017.1697 - val_mean_squared_error: 2017.1697\n",
      "Epoch 100/100\n",
      "22/22 [==============================] - ETA: 0s - loss: 91.5200 - mean_squared_error: 91.52 - ETA: 0s - loss: 51.3483 - mean_squared_error: 51.34 - ETA: 0s - loss: 46.4114 - mean_squared_error: 46.41 - ETA: 0s - loss: 53.1475 - mean_squared_error: 53.14 - ETA: 0s - loss: 50.2136 - mean_squared_error: 50.21 - ETA: 0s - loss: 46.0814 - mean_squared_error: 46.08 - ETA: 0s - loss: 51.4065 - mean_squared_error: 51.40 - ETA: 0s - loss: 50.3459 - mean_squared_error: 50.34 - ETA: 0s - loss: 53.7807 - mean_squared_error: 53.78 - ETA: 0s - loss: 50.8656 - mean_squared_error: 50.86 - ETA: 0s - loss: 47.8795 - mean_squared_error: 47.87 - ETA: 0s - loss: 46.0448 - mean_squared_error: 46.04 - ETA: 0s - loss: 44.6178 - mean_squared_error: 44.61 - ETA: 0s - loss: 42.6171 - mean_squared_error: 42.61 - ETA: 0s - loss: 43.1853 - mean_squared_error: 43.18 - ETA: 0s - loss: 41.9681 - mean_squared_error: 41.96 - ETA: 0s - loss: 41.5371 - mean_squared_error: 41.53 - ETA: 0s - loss: 41.4764 - mean_squared_error: 41.47 - ETA: 0s - loss: 41.8400 - mean_squared_error: 41.84 - ETA: 0s - loss: 41.9203 - mean_squared_error: 41.92 - ETA: 0s - loss: 40.9448 - mean_squared_error: 40.94 - 1s 61ms/step - loss: 40.9578 - mean_squared_error: 40.9578 - val_loss: 2017.9952 - val_mean_squared_error: 2017.9952\n"
     ]
    }
   ],
   "source": [
    "Result2 = model2.fit(X_train_scaled, y_train, validation_split=0.2, epochs =100)"
   ]
  },
  {
   "cell_type": "code",
   "execution_count": 164,
   "metadata": {
    "id": "JFp5PWKnE-M2"
   },
   "outputs": [
    {
     "name": "stdout",
     "output_type": "stream",
     "text": [
      "Mean squared error :  2196.5327995779376\n",
      "Mean absolute error :  28.615280664507594\n",
      "r2_score :  0.6829225917788933\n"
     ]
    }
   ],
   "source": [
    "from sklearn.metrics import mean_squared_error\n",
    "from sklearn.metrics import mean_absolute_error\n",
    "from sklearn.metrics import r2_score\n",
    "y_pred = model2.predict(X_test_scaled)\n",
    "mse = mean_squared_error(y_test, y_pred)\n",
    "mae = mean_absolute_error(y_test, y_pred)\n",
    "r2 = r2_score(y_test, y_pred)\n",
    "print('Mean squared error : ', mse)\n",
    "print('Mean absolute error : ', mae)\n",
    "print('r2_score : ', r2)"
   ]
  },
  {
   "cell_type": "code",
   "execution_count": 166,
   "metadata": {
    "id": "RRfSqjv5E-Zh"
   },
   "outputs": [
    {
     "name": "stdout",
     "output_type": "stream",
     "text": [
      "dict_keys(['loss', 'mean_squared_error', 'val_loss', 'val_mean_squared_error'])\n"
     ]
    }
   ],
   "source": [
    "print(Result2.history.keys())"
   ]
  },
  {
   "cell_type": "code",
   "execution_count": 169,
   "metadata": {
    "id": "XEjCZyWSE-cD"
   },
   "outputs": [
    {
     "data": {
      "text/plain": [
       "<function matplotlib.pyplot.show(close=None, block=None)>"
      ]
     },
     "execution_count": 169,
     "metadata": {},
     "output_type": "execute_result"
    },
    {
     "data": {
      "image/png": "[encoded data removed]",
      "text/plain": [
       "<Figure size 432x288 with 1 Axes>"
      ]
     },
     "metadata": {
      "needs_background": "light"
     },
     "output_type": "display_data"
    }
   ],
   "source": [
    "# Now summarize the history for mean_squared_error\n",
    "import matplotlib.pyplot as plt\n",
    "plt.plot(Result2.history['mean_squared_error'])\n",
    "plt.plot(Result2.history['val_mean_squared_error'])\n",
    "plt.title('MSE Vs Val.MSE')\n",
    "plt.ylabel('MSE')\n",
    "plt.xlabel('Epochs')\n",
    "plt.legend(['Train_set' , 'Validation_set'], loc='upper right')\n",
    "plt.show"
   ]
  },
  {
   "cell_type": "code",
   "execution_count": 170,
   "metadata": {},
   "outputs": [
    {
     "data": {
      "text/plain": [
       "<function matplotlib.pyplot.show(close=None, block=None)>"
      ]
     },
     "execution_count": 170,
     "metadata": {},
     "output_type": "execute_result"
    },
    {
     "data": {
      "image/png": "[encoded data removed]",
      "text/plain": [
       "<Figure size 432x288 with 1 Axes>"
      ]
     },
     "metadata": {
      "needs_background": "light"
     },
     "output_type": "display_data"
    }
   ],
   "source": [
    "# Now summarize the history for loss\n",
    "import matplotlib.pyplot as plt\n",
    "plt.plot(Result2.history['loss'])\n",
    "plt.plot(Result2.history['val_loss'])\n",
    "plt.title('loss Vs Val.loss')\n",
    "plt.ylabel('loss')\n",
    "plt.xlabel('Epochs')\n",
    "plt.legend(['Train_set' , 'Validation_set'], loc='upper right')\n",
    "plt.show"
   ]
  }
 ],
 "metadata": {
  "accelerator": "GPU",
  "colab": {
   "name": "ponnu_demo.ipynb",
   "provenance": []
  },
  "kernelspec": {
   "display_name": "Python 3",
   "language": "python",
   "name": "python3"
  },
  "language_info": {
   "codemirror_mode": {
    "name": "ipython",
    "version": 3
   },
   "file_extension": ".py",
   "mimetype": "text/x-python",
   "name": "python",
   "nbconvert_exporter": "python",
   "pygments_lexer": "ipython3",
   "version": "3.8.5"
  }
 },
 "nbformat": 4,
 "nbformat_minor": 1
}
